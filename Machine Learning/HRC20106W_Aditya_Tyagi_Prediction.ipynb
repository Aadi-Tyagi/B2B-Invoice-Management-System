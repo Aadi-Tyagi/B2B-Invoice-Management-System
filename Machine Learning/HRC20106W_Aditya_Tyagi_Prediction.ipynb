{
 "cells": [
  {
   "cell_type": "markdown",
   "id": "wcq6dWzy1ZR0",
   "metadata": {
    "id": "wcq6dWzy1ZR0"
   },
   "source": [
    "# Payment Date Prediction "
   ]
  },
  {
   "cell_type": "markdown",
   "id": "2778654e",
   "metadata": {
    "id": "2778654e"
   },
   "source": [
    "\n",
    "### Importing related Libraries "
   ]
  },
  {
   "cell_type": "code",
   "execution_count": 1,
   "id": "304c9e38",
   "metadata": {
    "id": "304c9e38"
   },
   "outputs": [],
   "source": [
    "import pandas as pd\n",
    "import numpy as np\n",
    "import matplotlib.pyplot as plt\n",
    "import seaborn as sns\n",
    "import scipy.stats as stats\n",
    "\n",
    "from sklearn.preprocessing import OrdinalEncoder,OneHotEncoder\n",
    "from sklearn.preprocessing import MinMaxScaler,StandardScaler\n",
    "\n",
    "from sklearn.model_selection import train_test_split\n",
    "\n",
    "from sklearn.linear_model import LinearRegression\n",
    "from sklearn.ensemble import RandomForestRegressor\n",
    "\n",
    "from sklearn.model_selection import RandomizedSearchCV\n",
    "from sklearn.metrics import mean_squared_error,r2_score,mean_absolute_error\n",
    "from sklearn.model_selection import train_test_split"
   ]
  },
  {
   "cell_type": "markdown",
   "id": "8724f5ee",
   "metadata": {
    "id": "8724f5ee"
   },
   "source": [
    "### Store the dataset into the Dataframe\n"
   ]
  },
  {
   "cell_type": "code",
   "execution_count": 2,
   "id": "415db50a",
   "metadata": {
    "id": "415db50a"
   },
   "outputs": [],
   "source": [
    "df = pd.read_csv('dataset.csv')"
   ]
  },
  {
   "cell_type": "markdown",
   "id": "42e37f05",
   "metadata": {
    "id": "42e37f05"
   },
   "source": [
    "### Check the shape of the dataframe\n"
   ]
  },
  {
   "cell_type": "code",
   "execution_count": 3,
   "id": "27cc0907",
   "metadata": {
    "id": "27cc0907"
   },
   "outputs": [
    {
     "data": {
      "text/plain": [
       "(50000, 19)"
      ]
     },
     "execution_count": 3,
     "metadata": {},
     "output_type": "execute_result"
    }
   ],
   "source": [
    "df.shape"
   ]
  },
  {
   "cell_type": "markdown",
   "id": "b68c955d",
   "metadata": {
    "id": "b68c955d"
   },
   "source": [
    "### Check the Detail information of the dataframe"
   ]
  },
  {
   "cell_type": "code",
   "execution_count": 4,
   "id": "e092ec9e",
   "metadata": {
    "id": "e092ec9e"
   },
   "outputs": [
    {
     "name": "stdout",
     "output_type": "stream",
     "text": [
      "<class 'pandas.core.frame.DataFrame'>\n",
      "RangeIndex: 50000 entries, 0 to 49999\n",
      "Data columns (total 19 columns):\n",
      " #   Column                  Non-Null Count  Dtype  \n",
      "---  ------                  --------------  -----  \n",
      " 0   business_code           50000 non-null  object \n",
      " 1   cust_number             50000 non-null  object \n",
      " 2   name_customer           50000 non-null  object \n",
      " 3   clear_date              40000 non-null  object \n",
      " 4   buisness_year           50000 non-null  float64\n",
      " 5   doc_id                  50000 non-null  float64\n",
      " 6   posting_date            50000 non-null  object \n",
      " 7   document_create_date    50000 non-null  int64  \n",
      " 8   document_create_date.1  50000 non-null  int64  \n",
      " 9   due_in_date             50000 non-null  float64\n",
      " 10  invoice_currency        50000 non-null  object \n",
      " 11  document type           50000 non-null  object \n",
      " 12  posting_id              50000 non-null  float64\n",
      " 13  area_business           0 non-null      float64\n",
      " 14  total_open_amount       50000 non-null  float64\n",
      " 15  baseline_create_date    50000 non-null  float64\n",
      " 16  cust_payment_terms      50000 non-null  object \n",
      " 17  invoice_id              49994 non-null  float64\n",
      " 18  isOpen                  50000 non-null  int64  \n",
      "dtypes: float64(8), int64(3), object(8)\n",
      "memory usage: 7.2+ MB\n"
     ]
    }
   ],
   "source": [
    "df.info()"
   ]
  },
  {
   "cell_type": "markdown",
   "id": "112f2d0e",
   "metadata": {
    "id": "112f2d0e"
   },
   "source": [
    "### Display All the column names"
   ]
  },
  {
   "cell_type": "code",
   "execution_count": 5,
   "id": "1416e2fd",
   "metadata": {
    "id": "1416e2fd"
   },
   "outputs": [
    {
     "data": {
      "text/plain": [
       "Index(['business_code', 'cust_number', 'name_customer', 'clear_date',\n",
       "       'buisness_year', 'doc_id', 'posting_date', 'document_create_date',\n",
       "       'document_create_date.1', 'due_in_date', 'invoice_currency',\n",
       "       'document type', 'posting_id', 'area_business', 'total_open_amount',\n",
       "       'baseline_create_date', 'cust_payment_terms', 'invoice_id', 'isOpen'],\n",
       "      dtype='object')"
      ]
     },
     "execution_count": 5,
     "metadata": {},
     "output_type": "execute_result"
    }
   ],
   "source": [
    "df.columns"
   ]
  },
  {
   "cell_type": "markdown",
   "id": "d465ed7a",
   "metadata": {
    "id": "d465ed7a"
   },
   "source": [
    "### Describe the entire dataset"
   ]
  },
  {
   "cell_type": "code",
   "execution_count": 6,
   "id": "25f65e1b",
   "metadata": {
    "id": "25f65e1b"
   },
   "outputs": [
    {
     "data": {
      "text/html": [
       "<div>\n",
       "<style scoped>\n",
       "    .dataframe tbody tr th:only-of-type {\n",
       "        vertical-align: middle;\n",
       "    }\n",
       "\n",
       "    .dataframe tbody tr th {\n",
       "        vertical-align: top;\n",
       "    }\n",
       "\n",
       "    .dataframe thead th {\n",
       "        text-align: right;\n",
       "    }\n",
       "</style>\n",
       "<table border=\"1\" class=\"dataframe\">\n",
       "  <thead>\n",
       "    <tr style=\"text-align: right;\">\n",
       "      <th></th>\n",
       "      <th>buisness_year</th>\n",
       "      <th>doc_id</th>\n",
       "      <th>document_create_date</th>\n",
       "      <th>document_create_date.1</th>\n",
       "      <th>due_in_date</th>\n",
       "      <th>posting_id</th>\n",
       "      <th>area_business</th>\n",
       "      <th>total_open_amount</th>\n",
       "      <th>baseline_create_date</th>\n",
       "      <th>invoice_id</th>\n",
       "      <th>isOpen</th>\n",
       "    </tr>\n",
       "  </thead>\n",
       "  <tbody>\n",
       "    <tr>\n",
       "      <th>count</th>\n",
       "      <td>50000.000000</td>\n",
       "      <td>5.000000e+04</td>\n",
       "      <td>5.000000e+04</td>\n",
       "      <td>5.000000e+04</td>\n",
       "      <td>5.000000e+04</td>\n",
       "      <td>50000.0</td>\n",
       "      <td>0.0</td>\n",
       "      <td>50000.000000</td>\n",
       "      <td>5.000000e+04</td>\n",
       "      <td>4.999400e+04</td>\n",
       "      <td>50000.000000</td>\n",
       "    </tr>\n",
       "    <tr>\n",
       "      <th>mean</th>\n",
       "      <td>2019.305700</td>\n",
       "      <td>2.012238e+09</td>\n",
       "      <td>2.019351e+07</td>\n",
       "      <td>2.019354e+07</td>\n",
       "      <td>2.019368e+07</td>\n",
       "      <td>1.0</td>\n",
       "      <td>NaN</td>\n",
       "      <td>32337.021651</td>\n",
       "      <td>2.019354e+07</td>\n",
       "      <td>2.011340e+09</td>\n",
       "      <td>0.200000</td>\n",
       "    </tr>\n",
       "    <tr>\n",
       "      <th>std</th>\n",
       "      <td>0.460708</td>\n",
       "      <td>2.885235e+08</td>\n",
       "      <td>4.496041e+03</td>\n",
       "      <td>4.482134e+03</td>\n",
       "      <td>4.470614e+03</td>\n",
       "      <td>0.0</td>\n",
       "      <td>NaN</td>\n",
       "      <td>39205.975231</td>\n",
       "      <td>4.482701e+03</td>\n",
       "      <td>2.766335e+08</td>\n",
       "      <td>0.400004</td>\n",
       "    </tr>\n",
       "    <tr>\n",
       "      <th>min</th>\n",
       "      <td>2019.000000</td>\n",
       "      <td>1.928502e+09</td>\n",
       "      <td>2.018123e+07</td>\n",
       "      <td>2.018123e+07</td>\n",
       "      <td>2.018122e+07</td>\n",
       "      <td>1.0</td>\n",
       "      <td>NaN</td>\n",
       "      <td>0.720000</td>\n",
       "      <td>2.018121e+07</td>\n",
       "      <td>1.928502e+09</td>\n",
       "      <td>0.000000</td>\n",
       "    </tr>\n",
       "    <tr>\n",
       "      <th>25%</th>\n",
       "      <td>2019.000000</td>\n",
       "      <td>1.929342e+09</td>\n",
       "      <td>2.019050e+07</td>\n",
       "      <td>2.019051e+07</td>\n",
       "      <td>2.019052e+07</td>\n",
       "      <td>1.0</td>\n",
       "      <td>NaN</td>\n",
       "      <td>4928.312500</td>\n",
       "      <td>2.019050e+07</td>\n",
       "      <td>1.929342e+09</td>\n",
       "      <td>0.000000</td>\n",
       "    </tr>\n",
       "    <tr>\n",
       "      <th>50%</th>\n",
       "      <td>2019.000000</td>\n",
       "      <td>1.929964e+09</td>\n",
       "      <td>2.019091e+07</td>\n",
       "      <td>2.019091e+07</td>\n",
       "      <td>2.019093e+07</td>\n",
       "      <td>1.0</td>\n",
       "      <td>NaN</td>\n",
       "      <td>17609.010000</td>\n",
       "      <td>2.019091e+07</td>\n",
       "      <td>1.929964e+09</td>\n",
       "      <td>0.000000</td>\n",
       "    </tr>\n",
       "    <tr>\n",
       "      <th>75%</th>\n",
       "      <td>2020.000000</td>\n",
       "      <td>1.930619e+09</td>\n",
       "      <td>2.020013e+07</td>\n",
       "      <td>2.020013e+07</td>\n",
       "      <td>2.020022e+07</td>\n",
       "      <td>1.0</td>\n",
       "      <td>NaN</td>\n",
       "      <td>47133.635000</td>\n",
       "      <td>2.020013e+07</td>\n",
       "      <td>1.930619e+09</td>\n",
       "      <td>0.000000</td>\n",
       "    </tr>\n",
       "    <tr>\n",
       "      <th>max</th>\n",
       "      <td>2020.000000</td>\n",
       "      <td>9.500000e+09</td>\n",
       "      <td>2.020052e+07</td>\n",
       "      <td>2.020052e+07</td>\n",
       "      <td>2.020071e+07</td>\n",
       "      <td>1.0</td>\n",
       "      <td>NaN</td>\n",
       "      <td>668593.360000</td>\n",
       "      <td>2.020052e+07</td>\n",
       "      <td>2.960636e+09</td>\n",
       "      <td>1.000000</td>\n",
       "    </tr>\n",
       "  </tbody>\n",
       "</table>\n",
       "</div>"
      ],
      "text/plain": [
       "       buisness_year        doc_id  document_create_date  \\\n",
       "count   50000.000000  5.000000e+04          5.000000e+04   \n",
       "mean     2019.305700  2.012238e+09          2.019351e+07   \n",
       "std         0.460708  2.885235e+08          4.496041e+03   \n",
       "min      2019.000000  1.928502e+09          2.018123e+07   \n",
       "25%      2019.000000  1.929342e+09          2.019050e+07   \n",
       "50%      2019.000000  1.929964e+09          2.019091e+07   \n",
       "75%      2020.000000  1.930619e+09          2.020013e+07   \n",
       "max      2020.000000  9.500000e+09          2.020052e+07   \n",
       "\n",
       "       document_create_date.1   due_in_date  posting_id  area_business  \\\n",
       "count            5.000000e+04  5.000000e+04     50000.0            0.0   \n",
       "mean             2.019354e+07  2.019368e+07         1.0            NaN   \n",
       "std              4.482134e+03  4.470614e+03         0.0            NaN   \n",
       "min              2.018123e+07  2.018122e+07         1.0            NaN   \n",
       "25%              2.019051e+07  2.019052e+07         1.0            NaN   \n",
       "50%              2.019091e+07  2.019093e+07         1.0            NaN   \n",
       "75%              2.020013e+07  2.020022e+07         1.0            NaN   \n",
       "max              2.020052e+07  2.020071e+07         1.0            NaN   \n",
       "\n",
       "       total_open_amount  baseline_create_date    invoice_id        isOpen  \n",
       "count       50000.000000          5.000000e+04  4.999400e+04  50000.000000  \n",
       "mean        32337.021651          2.019354e+07  2.011340e+09      0.200000  \n",
       "std         39205.975231          4.482701e+03  2.766335e+08      0.400004  \n",
       "min             0.720000          2.018121e+07  1.928502e+09      0.000000  \n",
       "25%          4928.312500          2.019050e+07  1.929342e+09      0.000000  \n",
       "50%         17609.010000          2.019091e+07  1.929964e+09      0.000000  \n",
       "75%         47133.635000          2.020013e+07  1.930619e+09      0.000000  \n",
       "max        668593.360000          2.020052e+07  2.960636e+09      1.000000  "
      ]
     },
     "execution_count": 6,
     "metadata": {},
     "output_type": "execute_result"
    }
   ],
   "source": [
    "df.describe()"
   ]
  },
  {
   "cell_type": "markdown",
   "id": "0f2c8d02",
   "metadata": {
    "id": "0f2c8d02"
   },
   "source": [
    "# Data Cleaning\n",
    "\n",
    "- Show top 5 records from the dataset"
   ]
  },
  {
   "cell_type": "code",
   "execution_count": 7,
   "id": "8f876212",
   "metadata": {
    "id": "8f876212"
   },
   "outputs": [
    {
     "data": {
      "text/html": [
       "<div>\n",
       "<style scoped>\n",
       "    .dataframe tbody tr th:only-of-type {\n",
       "        vertical-align: middle;\n",
       "    }\n",
       "\n",
       "    .dataframe tbody tr th {\n",
       "        vertical-align: top;\n",
       "    }\n",
       "\n",
       "    .dataframe thead th {\n",
       "        text-align: right;\n",
       "    }\n",
       "</style>\n",
       "<table border=\"1\" class=\"dataframe\">\n",
       "  <thead>\n",
       "    <tr style=\"text-align: right;\">\n",
       "      <th></th>\n",
       "      <th>business_code</th>\n",
       "      <th>cust_number</th>\n",
       "      <th>name_customer</th>\n",
       "      <th>clear_date</th>\n",
       "      <th>buisness_year</th>\n",
       "      <th>doc_id</th>\n",
       "      <th>posting_date</th>\n",
       "      <th>document_create_date</th>\n",
       "      <th>document_create_date.1</th>\n",
       "      <th>due_in_date</th>\n",
       "      <th>invoice_currency</th>\n",
       "      <th>document type</th>\n",
       "      <th>posting_id</th>\n",
       "      <th>area_business</th>\n",
       "      <th>total_open_amount</th>\n",
       "      <th>baseline_create_date</th>\n",
       "      <th>cust_payment_terms</th>\n",
       "      <th>invoice_id</th>\n",
       "      <th>isOpen</th>\n",
       "    </tr>\n",
       "  </thead>\n",
       "  <tbody>\n",
       "    <tr>\n",
       "      <th>0</th>\n",
       "      <td>U001</td>\n",
       "      <td>0200769623</td>\n",
       "      <td>WAL-MAR corp</td>\n",
       "      <td>2020-02-11 00:00:00</td>\n",
       "      <td>2020.0</td>\n",
       "      <td>1.930438e+09</td>\n",
       "      <td>2020-01-26</td>\n",
       "      <td>20200125</td>\n",
       "      <td>20200126</td>\n",
       "      <td>20200210.0</td>\n",
       "      <td>USD</td>\n",
       "      <td>RV</td>\n",
       "      <td>1.0</td>\n",
       "      <td>NaN</td>\n",
       "      <td>54273.28</td>\n",
       "      <td>20200126.0</td>\n",
       "      <td>NAH4</td>\n",
       "      <td>1.930438e+09</td>\n",
       "      <td>0</td>\n",
       "    </tr>\n",
       "    <tr>\n",
       "      <th>1</th>\n",
       "      <td>U001</td>\n",
       "      <td>0200980828</td>\n",
       "      <td>BEN E</td>\n",
       "      <td>2019-08-08 00:00:00</td>\n",
       "      <td>2019.0</td>\n",
       "      <td>1.929646e+09</td>\n",
       "      <td>2019-07-22</td>\n",
       "      <td>20190722</td>\n",
       "      <td>20190722</td>\n",
       "      <td>20190811.0</td>\n",
       "      <td>USD</td>\n",
       "      <td>RV</td>\n",
       "      <td>1.0</td>\n",
       "      <td>NaN</td>\n",
       "      <td>79656.60</td>\n",
       "      <td>20190722.0</td>\n",
       "      <td>NAD1</td>\n",
       "      <td>1.929646e+09</td>\n",
       "      <td>0</td>\n",
       "    </tr>\n",
       "    <tr>\n",
       "      <th>2</th>\n",
       "      <td>U001</td>\n",
       "      <td>0200792734</td>\n",
       "      <td>MDV/ trust</td>\n",
       "      <td>2019-12-30 00:00:00</td>\n",
       "      <td>2019.0</td>\n",
       "      <td>1.929874e+09</td>\n",
       "      <td>2019-09-14</td>\n",
       "      <td>20190914</td>\n",
       "      <td>20190914</td>\n",
       "      <td>20190929.0</td>\n",
       "      <td>USD</td>\n",
       "      <td>RV</td>\n",
       "      <td>1.0</td>\n",
       "      <td>NaN</td>\n",
       "      <td>2253.86</td>\n",
       "      <td>20190914.0</td>\n",
       "      <td>NAA8</td>\n",
       "      <td>1.929874e+09</td>\n",
       "      <td>0</td>\n",
       "    </tr>\n",
       "    <tr>\n",
       "      <th>3</th>\n",
       "      <td>CA02</td>\n",
       "      <td>0140105686</td>\n",
       "      <td>SYSC llc</td>\n",
       "      <td>NaN</td>\n",
       "      <td>2020.0</td>\n",
       "      <td>2.960623e+09</td>\n",
       "      <td>2020-03-30</td>\n",
       "      <td>20200330</td>\n",
       "      <td>20200330</td>\n",
       "      <td>20200410.0</td>\n",
       "      <td>CAD</td>\n",
       "      <td>RV</td>\n",
       "      <td>1.0</td>\n",
       "      <td>NaN</td>\n",
       "      <td>3299.70</td>\n",
       "      <td>20200331.0</td>\n",
       "      <td>CA10</td>\n",
       "      <td>2.960623e+09</td>\n",
       "      <td>1</td>\n",
       "    </tr>\n",
       "    <tr>\n",
       "      <th>4</th>\n",
       "      <td>U001</td>\n",
       "      <td>0200769623</td>\n",
       "      <td>WAL-MAR foundation</td>\n",
       "      <td>2019-11-25 00:00:00</td>\n",
       "      <td>2019.0</td>\n",
       "      <td>1.930148e+09</td>\n",
       "      <td>2019-11-13</td>\n",
       "      <td>20191113</td>\n",
       "      <td>20191113</td>\n",
       "      <td>20191128.0</td>\n",
       "      <td>USD</td>\n",
       "      <td>RV</td>\n",
       "      <td>1.0</td>\n",
       "      <td>NaN</td>\n",
       "      <td>33133.29</td>\n",
       "      <td>20191113.0</td>\n",
       "      <td>NAH4</td>\n",
       "      <td>1.930148e+09</td>\n",
       "      <td>0</td>\n",
       "    </tr>\n",
       "  </tbody>\n",
       "</table>\n",
       "</div>"
      ],
      "text/plain": [
       "  business_code cust_number       name_customer           clear_date  \\\n",
       "0          U001  0200769623        WAL-MAR corp  2020-02-11 00:00:00   \n",
       "1          U001  0200980828              BEN E   2019-08-08 00:00:00   \n",
       "2          U001  0200792734          MDV/ trust  2019-12-30 00:00:00   \n",
       "3          CA02  0140105686            SYSC llc                  NaN   \n",
       "4          U001  0200769623  WAL-MAR foundation  2019-11-25 00:00:00   \n",
       "\n",
       "   buisness_year        doc_id posting_date  document_create_date  \\\n",
       "0         2020.0  1.930438e+09   2020-01-26              20200125   \n",
       "1         2019.0  1.929646e+09   2019-07-22              20190722   \n",
       "2         2019.0  1.929874e+09   2019-09-14              20190914   \n",
       "3         2020.0  2.960623e+09   2020-03-30              20200330   \n",
       "4         2019.0  1.930148e+09   2019-11-13              20191113   \n",
       "\n",
       "   document_create_date.1  due_in_date invoice_currency document type  \\\n",
       "0                20200126   20200210.0              USD            RV   \n",
       "1                20190722   20190811.0              USD            RV   \n",
       "2                20190914   20190929.0              USD            RV   \n",
       "3                20200330   20200410.0              CAD            RV   \n",
       "4                20191113   20191128.0              USD            RV   \n",
       "\n",
       "   posting_id  area_business  total_open_amount  baseline_create_date  \\\n",
       "0         1.0            NaN           54273.28            20200126.0   \n",
       "1         1.0            NaN           79656.60            20190722.0   \n",
       "2         1.0            NaN            2253.86            20190914.0   \n",
       "3         1.0            NaN            3299.70            20200331.0   \n",
       "4         1.0            NaN           33133.29            20191113.0   \n",
       "\n",
       "  cust_payment_terms    invoice_id  isOpen  \n",
       "0               NAH4  1.930438e+09       0  \n",
       "1               NAD1  1.929646e+09       0  \n",
       "2               NAA8  1.929874e+09       0  \n",
       "3               CA10  2.960623e+09       1  \n",
       "4               NAH4  1.930148e+09       0  "
      ]
     },
     "execution_count": 7,
     "metadata": {},
     "output_type": "execute_result"
    }
   ],
   "source": [
    "df.head(5)"
   ]
  },
  {
   "cell_type": "markdown",
   "id": "92b044e4",
   "metadata": {
    "id": "92b044e4"
   },
   "source": [
    "### Display the Null values percentage against every columns (compare to the total number of records)\n",
    "\n",
    "- Output expected : area_business - 100% null, clear_data = 20% null, invoice_id = 0.12% null"
   ]
  },
  {
   "cell_type": "code",
   "execution_count": 8,
   "id": "24c7b13d",
   "metadata": {
    "id": "24c7b13d"
   },
   "outputs": [
    {
     "data": {
      "text/plain": [
       "business_code               0.000\n",
       "cust_number                 0.000\n",
       "name_customer               0.000\n",
       "clear_date                 20.000\n",
       "buisness_year               0.000\n",
       "doc_id                      0.000\n",
       "posting_date                0.000\n",
       "document_create_date        0.000\n",
       "document_create_date.1      0.000\n",
       "due_in_date                 0.000\n",
       "invoice_currency            0.000\n",
       "document type               0.000\n",
       "posting_id                  0.000\n",
       "area_business             100.000\n",
       "total_open_amount           0.000\n",
       "baseline_create_date        0.000\n",
       "cust_payment_terms          0.000\n",
       "invoice_id                  0.012\n",
       "isOpen                      0.000\n",
       "dtype: float64"
      ]
     },
     "execution_count": 8,
     "metadata": {},
     "output_type": "execute_result"
    }
   ],
   "source": [
    "null_values=df.isna()\n",
    "null_values_sum = null_values.sum()\n",
    "null_per=null_values_sum/len(df)*100\n",
    "null_per"
   ]
  },
  {
   "cell_type": "markdown",
   "id": "2c46a98b",
   "metadata": {
    "id": "2c46a98b"
   },
   "source": [
    "### Display Invoice_id and Doc_Id\n",
    "\n",
    "- Note - Many of the would have same invoice_id and doc_id\n"
   ]
  },
  {
   "cell_type": "code",
   "execution_count": 9,
   "id": "038f24bb",
   "metadata": {
    "id": "038f24bb"
   },
   "outputs": [
    {
     "data": {
      "text/html": [
       "<div>\n",
       "<style scoped>\n",
       "    .dataframe tbody tr th:only-of-type {\n",
       "        vertical-align: middle;\n",
       "    }\n",
       "\n",
       "    .dataframe tbody tr th {\n",
       "        vertical-align: top;\n",
       "    }\n",
       "\n",
       "    .dataframe thead th {\n",
       "        text-align: right;\n",
       "    }\n",
       "</style>\n",
       "<table border=\"1\" class=\"dataframe\">\n",
       "  <thead>\n",
       "    <tr style=\"text-align: right;\">\n",
       "      <th></th>\n",
       "      <th>invoice_id</th>\n",
       "      <th>doc_id</th>\n",
       "    </tr>\n",
       "  </thead>\n",
       "  <tbody>\n",
       "    <tr>\n",
       "      <th>0</th>\n",
       "      <td>1.930438e+09</td>\n",
       "      <td>1.930438e+09</td>\n",
       "    </tr>\n",
       "    <tr>\n",
       "      <th>1</th>\n",
       "      <td>1.929646e+09</td>\n",
       "      <td>1.929646e+09</td>\n",
       "    </tr>\n",
       "    <tr>\n",
       "      <th>2</th>\n",
       "      <td>1.929874e+09</td>\n",
       "      <td>1.929874e+09</td>\n",
       "    </tr>\n",
       "    <tr>\n",
       "      <th>3</th>\n",
       "      <td>2.960623e+09</td>\n",
       "      <td>2.960623e+09</td>\n",
       "    </tr>\n",
       "    <tr>\n",
       "      <th>4</th>\n",
       "      <td>1.930148e+09</td>\n",
       "      <td>1.930148e+09</td>\n",
       "    </tr>\n",
       "    <tr>\n",
       "      <th>...</th>\n",
       "      <td>...</td>\n",
       "      <td>...</td>\n",
       "    </tr>\n",
       "    <tr>\n",
       "      <th>49995</th>\n",
       "      <td>1.930797e+09</td>\n",
       "      <td>1.930797e+09</td>\n",
       "    </tr>\n",
       "    <tr>\n",
       "      <th>49996</th>\n",
       "      <td>1.929744e+09</td>\n",
       "      <td>1.929744e+09</td>\n",
       "    </tr>\n",
       "    <tr>\n",
       "      <th>49997</th>\n",
       "      <td>1.930537e+09</td>\n",
       "      <td>1.930537e+09</td>\n",
       "    </tr>\n",
       "    <tr>\n",
       "      <th>49998</th>\n",
       "      <td>1.930199e+09</td>\n",
       "      <td>1.930199e+09</td>\n",
       "    </tr>\n",
       "    <tr>\n",
       "      <th>49999</th>\n",
       "      <td>1.928576e+09</td>\n",
       "      <td>1.928576e+09</td>\n",
       "    </tr>\n",
       "  </tbody>\n",
       "</table>\n",
       "<p>50000 rows × 2 columns</p>\n",
       "</div>"
      ],
      "text/plain": [
       "         invoice_id        doc_id\n",
       "0      1.930438e+09  1.930438e+09\n",
       "1      1.929646e+09  1.929646e+09\n",
       "2      1.929874e+09  1.929874e+09\n",
       "3      2.960623e+09  2.960623e+09\n",
       "4      1.930148e+09  1.930148e+09\n",
       "...             ...           ...\n",
       "49995  1.930797e+09  1.930797e+09\n",
       "49996  1.929744e+09  1.929744e+09\n",
       "49997  1.930537e+09  1.930537e+09\n",
       "49998  1.930199e+09  1.930199e+09\n",
       "49999  1.928576e+09  1.928576e+09\n",
       "\n",
       "[50000 rows x 2 columns]"
      ]
     },
     "execution_count": 9,
     "metadata": {},
     "output_type": "execute_result"
    }
   ],
   "source": [
    "df[[\"invoice_id\",\"doc_id\"]]"
   ]
  },
  {
   "cell_type": "markdown",
   "id": "18cfe10a",
   "metadata": {
    "id": "18cfe10a"
   },
   "source": [
    "#### Write a code to check - 'baseline_create_date',\"document_create_date\",'document_create_date.1' - these columns are almost same.\n",
    "\n",
    "- Please note, if they are same, we need to drop them later\n",
    "\n"
   ]
  },
  {
   "cell_type": "code",
   "execution_count": 10,
   "id": "cf5b40ff",
   "metadata": {
    "id": "cf5b40ff"
   },
   "outputs": [
    {
     "data": {
      "text/html": [
       "<div>\n",
       "<style scoped>\n",
       "    .dataframe tbody tr th:only-of-type {\n",
       "        vertical-align: middle;\n",
       "    }\n",
       "\n",
       "    .dataframe tbody tr th {\n",
       "        vertical-align: top;\n",
       "    }\n",
       "\n",
       "    .dataframe thead th {\n",
       "        text-align: right;\n",
       "    }\n",
       "</style>\n",
       "<table border=\"1\" class=\"dataframe\">\n",
       "  <thead>\n",
       "    <tr style=\"text-align: right;\">\n",
       "      <th></th>\n",
       "      <th>baseline_create_date</th>\n",
       "      <th>document_create_date</th>\n",
       "      <th>document_create_date.1</th>\n",
       "    </tr>\n",
       "  </thead>\n",
       "  <tbody>\n",
       "    <tr>\n",
       "      <th>baseline_create_date</th>\n",
       "      <td>1.000000</td>\n",
       "      <td>0.994078</td>\n",
       "      <td>0.999527</td>\n",
       "    </tr>\n",
       "    <tr>\n",
       "      <th>document_create_date</th>\n",
       "      <td>0.994078</td>\n",
       "      <td>1.000000</td>\n",
       "      <td>0.994547</td>\n",
       "    </tr>\n",
       "    <tr>\n",
       "      <th>document_create_date.1</th>\n",
       "      <td>0.999527</td>\n",
       "      <td>0.994547</td>\n",
       "      <td>1.000000</td>\n",
       "    </tr>\n",
       "  </tbody>\n",
       "</table>\n",
       "</div>"
      ],
      "text/plain": [
       "                        baseline_create_date  document_create_date  \\\n",
       "baseline_create_date                1.000000              0.994078   \n",
       "document_create_date                0.994078              1.000000   \n",
       "document_create_date.1              0.999527              0.994547   \n",
       "\n",
       "                        document_create_date.1  \n",
       "baseline_create_date                  0.999527  \n",
       "document_create_date                  0.994547  \n",
       "document_create_date.1                1.000000  "
      ]
     },
     "execution_count": 10,
     "metadata": {},
     "output_type": "execute_result"
    }
   ],
   "source": [
    "data = df[['baseline_create_date','document_create_date','document_create_date.1']]\n",
    "correlation = data.corr()\n",
    "correlation"
   ]
  },
  {
   "cell_type": "markdown",
   "id": "33110576",
   "metadata": {
    "id": "33110576"
   },
   "source": [
    "#### Please check, Column 'posting_id' is constant columns or not\n"
   ]
  },
  {
   "cell_type": "code",
   "execution_count": 11,
   "id": "ecce2664",
   "metadata": {
    "id": "ecce2664"
   },
   "outputs": [
    {
     "data": {
      "text/plain": [
       "1"
      ]
     },
     "execution_count": 11,
     "metadata": {},
     "output_type": "execute_result"
    }
   ],
   "source": [
    "df['posting_id'].nunique()"
   ]
  },
  {
   "cell_type": "markdown",
   "id": "e5fb8daf",
   "metadata": {
    "id": "e5fb8daf"
   },
   "source": [
    "#### Please check 'isOpen' is a constant column and relevant column for this project or not"
   ]
  },
  {
   "cell_type": "code",
   "execution_count": 12,
   "id": "8db9956b",
   "metadata": {
    "id": "8db9956b"
   },
   "outputs": [
    {
     "data": {
      "text/plain": [
       "2"
      ]
     },
     "execution_count": 12,
     "metadata": {},
     "output_type": "execute_result"
    }
   ],
   "source": [
    "df['isOpen'].nunique()"
   ]
  },
  {
   "cell_type": "markdown",
   "id": "45a11a62",
   "metadata": {
    "id": "45a11a62"
   },
   "source": [
    "### Write the code to drop all the following columns from the dataframe\n",
    "\n",
    "- 'area_business'\n",
    "- \"posting_id\"\n",
    "- \"invoice_id\"\n",
    "- \"document_create_date\"\n",
    "- \"isOpen\"\n",
    "- 'document type' \n",
    "- 'document_create_date.1"
   ]
  },
  {
   "cell_type": "code",
   "execution_count": 13,
   "id": "270d85d1",
   "metadata": {
    "id": "270d85d1"
   },
   "outputs": [],
   "source": [
    "df.drop(['area_business','posting_id','invoice_id','document_create_date','isOpen','document type','document_create_date.1'],axis=1, inplace=True)\n"
   ]
  },
  {
   "cell_type": "markdown",
   "id": "K5LHAM2XVGnk",
   "metadata": {
    "id": "K5LHAM2XVGnk"
   },
   "source": [
    "### Please check from the dataframe whether all the columns are removed or not "
   ]
  },
  {
   "cell_type": "code",
   "execution_count": 14,
   "id": "ef3f7d2b",
   "metadata": {
    "id": "ef3f7d2b"
   },
   "outputs": [
    {
     "data": {
      "text/plain": [
       "Index(['business_code', 'cust_number', 'name_customer', 'clear_date',\n",
       "       'buisness_year', 'doc_id', 'posting_date', 'due_in_date',\n",
       "       'invoice_currency', 'total_open_amount', 'baseline_create_date',\n",
       "       'cust_payment_terms'],\n",
       "      dtype='object')"
      ]
     },
     "execution_count": 14,
     "metadata": {},
     "output_type": "execute_result"
    }
   ],
   "source": [
    "df.columns\n"
   ]
  },
  {
   "cell_type": "markdown",
   "id": "6bc052c7",
   "metadata": {
    "id": "6bc052c7"
   },
   "source": [
    "### Show all the Duplicate rows from the dataframe"
   ]
  },
  {
   "cell_type": "code",
   "execution_count": 15,
   "id": "1ae3c7e4",
   "metadata": {
    "id": "1ae3c7e4"
   },
   "outputs": [
    {
     "data": {
      "text/html": [
       "<div>\n",
       "<style scoped>\n",
       "    .dataframe tbody tr th:only-of-type {\n",
       "        vertical-align: middle;\n",
       "    }\n",
       "\n",
       "    .dataframe tbody tr th {\n",
       "        vertical-align: top;\n",
       "    }\n",
       "\n",
       "    .dataframe thead th {\n",
       "        text-align: right;\n",
       "    }\n",
       "</style>\n",
       "<table border=\"1\" class=\"dataframe\">\n",
       "  <thead>\n",
       "    <tr style=\"text-align: right;\">\n",
       "      <th></th>\n",
       "      <th>business_code</th>\n",
       "      <th>cust_number</th>\n",
       "      <th>name_customer</th>\n",
       "      <th>clear_date</th>\n",
       "      <th>buisness_year</th>\n",
       "      <th>doc_id</th>\n",
       "      <th>posting_date</th>\n",
       "      <th>due_in_date</th>\n",
       "      <th>invoice_currency</th>\n",
       "      <th>total_open_amount</th>\n",
       "      <th>baseline_create_date</th>\n",
       "      <th>cust_payment_terms</th>\n",
       "    </tr>\n",
       "  </thead>\n",
       "  <tbody>\n",
       "    <tr>\n",
       "      <th>1041</th>\n",
       "      <td>U001</td>\n",
       "      <td>0200769623</td>\n",
       "      <td>WAL-MAR in</td>\n",
       "      <td>2019-03-12 00:00:00</td>\n",
       "      <td>2019.0</td>\n",
       "      <td>1.928870e+09</td>\n",
       "      <td>2019-02-28</td>\n",
       "      <td>20190315.0</td>\n",
       "      <td>USD</td>\n",
       "      <td>19557.41</td>\n",
       "      <td>20190228.0</td>\n",
       "      <td>NAH4</td>\n",
       "    </tr>\n",
       "    <tr>\n",
       "      <th>2400</th>\n",
       "      <td>U001</td>\n",
       "      <td>0200769623</td>\n",
       "      <td>WAL-MAR trust</td>\n",
       "      <td>2019-08-28 00:00:00</td>\n",
       "      <td>2019.0</td>\n",
       "      <td>1.929758e+09</td>\n",
       "      <td>2019-08-18</td>\n",
       "      <td>20190902.0</td>\n",
       "      <td>USD</td>\n",
       "      <td>5600.41</td>\n",
       "      <td>20190818.0</td>\n",
       "      <td>NAH4</td>\n",
       "    </tr>\n",
       "    <tr>\n",
       "      <th>2584</th>\n",
       "      <td>U001</td>\n",
       "      <td>0200769623</td>\n",
       "      <td>WAL-MAR corporation</td>\n",
       "      <td>2019-12-16 00:00:00</td>\n",
       "      <td>2019.0</td>\n",
       "      <td>1.930217e+09</td>\n",
       "      <td>2019-12-04</td>\n",
       "      <td>20191219.0</td>\n",
       "      <td>USD</td>\n",
       "      <td>35352.17</td>\n",
       "      <td>20191204.0</td>\n",
       "      <td>NAH4</td>\n",
       "    </tr>\n",
       "    <tr>\n",
       "      <th>3755</th>\n",
       "      <td>U001</td>\n",
       "      <td>0200769623</td>\n",
       "      <td>WAL-MAR</td>\n",
       "      <td>2019-11-22 00:00:00</td>\n",
       "      <td>2019.0</td>\n",
       "      <td>1.930137e+09</td>\n",
       "      <td>2019-11-12</td>\n",
       "      <td>20191127.0</td>\n",
       "      <td>USD</td>\n",
       "      <td>2982.64</td>\n",
       "      <td>20191112.0</td>\n",
       "      <td>NAH4</td>\n",
       "    </tr>\n",
       "    <tr>\n",
       "      <th>3873</th>\n",
       "      <td>CA02</td>\n",
       "      <td>0140104409</td>\n",
       "      <td>LOB associates</td>\n",
       "      <td>NaN</td>\n",
       "      <td>2020.0</td>\n",
       "      <td>2.960629e+09</td>\n",
       "      <td>2020-04-14</td>\n",
       "      <td>20200425.0</td>\n",
       "      <td>CAD</td>\n",
       "      <td>82975.82</td>\n",
       "      <td>20200415.0</td>\n",
       "      <td>CA10</td>\n",
       "    </tr>\n",
       "    <tr>\n",
       "      <th>...</th>\n",
       "      <td>...</td>\n",
       "      <td>...</td>\n",
       "      <td>...</td>\n",
       "      <td>...</td>\n",
       "      <td>...</td>\n",
       "      <td>...</td>\n",
       "      <td>...</td>\n",
       "      <td>...</td>\n",
       "      <td>...</td>\n",
       "      <td>...</td>\n",
       "      <td>...</td>\n",
       "      <td>...</td>\n",
       "    </tr>\n",
       "    <tr>\n",
       "      <th>49928</th>\n",
       "      <td>U001</td>\n",
       "      <td>0200915438</td>\n",
       "      <td>GROC trust</td>\n",
       "      <td>2019-08-15 00:00:00</td>\n",
       "      <td>2019.0</td>\n",
       "      <td>1.929646e+09</td>\n",
       "      <td>2019-07-25</td>\n",
       "      <td>20190809.0</td>\n",
       "      <td>USD</td>\n",
       "      <td>6969.00</td>\n",
       "      <td>20190725.0</td>\n",
       "      <td>NAA8</td>\n",
       "    </tr>\n",
       "    <tr>\n",
       "      <th>49963</th>\n",
       "      <td>U001</td>\n",
       "      <td>0200759878</td>\n",
       "      <td>SA us</td>\n",
       "      <td>2019-01-29 00:00:00</td>\n",
       "      <td>2019.0</td>\n",
       "      <td>1.928614e+09</td>\n",
       "      <td>2019-01-13</td>\n",
       "      <td>20190128.0</td>\n",
       "      <td>USD</td>\n",
       "      <td>10968.24</td>\n",
       "      <td>20190113.0</td>\n",
       "      <td>NAH4</td>\n",
       "    </tr>\n",
       "    <tr>\n",
       "      <th>49986</th>\n",
       "      <td>U001</td>\n",
       "      <td>0200772670</td>\n",
       "      <td>ASSOCIAT foundation</td>\n",
       "      <td>2019-06-12 00:00:00</td>\n",
       "      <td>2019.0</td>\n",
       "      <td>1.929403e+09</td>\n",
       "      <td>2019-05-29</td>\n",
       "      <td>20190613.0</td>\n",
       "      <td>USD</td>\n",
       "      <td>155837.53</td>\n",
       "      <td>20190529.0</td>\n",
       "      <td>NAU5</td>\n",
       "    </tr>\n",
       "    <tr>\n",
       "      <th>49990</th>\n",
       "      <td>U001</td>\n",
       "      <td>0200765011</td>\n",
       "      <td>MAINES llc</td>\n",
       "      <td>2019-06-06 00:00:00</td>\n",
       "      <td>2019.0</td>\n",
       "      <td>1.929365e+09</td>\n",
       "      <td>2019-05-22</td>\n",
       "      <td>20190606.0</td>\n",
       "      <td>USD</td>\n",
       "      <td>4008.05</td>\n",
       "      <td>20190522.0</td>\n",
       "      <td>NAA8</td>\n",
       "    </tr>\n",
       "    <tr>\n",
       "      <th>49991</th>\n",
       "      <td>U001</td>\n",
       "      <td>0200704045</td>\n",
       "      <td>RA trust</td>\n",
       "      <td>2019-10-25 00:00:00</td>\n",
       "      <td>2019.0</td>\n",
       "      <td>1.930001e+09</td>\n",
       "      <td>2019-10-10</td>\n",
       "      <td>20191025.0</td>\n",
       "      <td>USD</td>\n",
       "      <td>73002.24</td>\n",
       "      <td>20191010.0</td>\n",
       "      <td>NAA8</td>\n",
       "    </tr>\n",
       "  </tbody>\n",
       "</table>\n",
       "<p>1161 rows × 12 columns</p>\n",
       "</div>"
      ],
      "text/plain": [
       "      business_code cust_number        name_customer           clear_date  \\\n",
       "1041           U001  0200769623           WAL-MAR in  2019-03-12 00:00:00   \n",
       "2400           U001  0200769623        WAL-MAR trust  2019-08-28 00:00:00   \n",
       "2584           U001  0200769623  WAL-MAR corporation  2019-12-16 00:00:00   \n",
       "3755           U001  0200769623             WAL-MAR   2019-11-22 00:00:00   \n",
       "3873           CA02  0140104409       LOB associates                  NaN   \n",
       "...             ...         ...                  ...                  ...   \n",
       "49928          U001  0200915438           GROC trust  2019-08-15 00:00:00   \n",
       "49963          U001  0200759878                SA us  2019-01-29 00:00:00   \n",
       "49986          U001  0200772670  ASSOCIAT foundation  2019-06-12 00:00:00   \n",
       "49990          U001  0200765011           MAINES llc  2019-06-06 00:00:00   \n",
       "49991          U001  0200704045             RA trust  2019-10-25 00:00:00   \n",
       "\n",
       "       buisness_year        doc_id posting_date  due_in_date invoice_currency  \\\n",
       "1041          2019.0  1.928870e+09   2019-02-28   20190315.0              USD   \n",
       "2400          2019.0  1.929758e+09   2019-08-18   20190902.0              USD   \n",
       "2584          2019.0  1.930217e+09   2019-12-04   20191219.0              USD   \n",
       "3755          2019.0  1.930137e+09   2019-11-12   20191127.0              USD   \n",
       "3873          2020.0  2.960629e+09   2020-04-14   20200425.0              CAD   \n",
       "...              ...           ...          ...          ...              ...   \n",
       "49928         2019.0  1.929646e+09   2019-07-25   20190809.0              USD   \n",
       "49963         2019.0  1.928614e+09   2019-01-13   20190128.0              USD   \n",
       "49986         2019.0  1.929403e+09   2019-05-29   20190613.0              USD   \n",
       "49990         2019.0  1.929365e+09   2019-05-22   20190606.0              USD   \n",
       "49991         2019.0  1.930001e+09   2019-10-10   20191025.0              USD   \n",
       "\n",
       "       total_open_amount  baseline_create_date cust_payment_terms  \n",
       "1041            19557.41            20190228.0               NAH4  \n",
       "2400             5600.41            20190818.0               NAH4  \n",
       "2584            35352.17            20191204.0               NAH4  \n",
       "3755             2982.64            20191112.0               NAH4  \n",
       "3873            82975.82            20200415.0               CA10  \n",
       "...                  ...                   ...                ...  \n",
       "49928            6969.00            20190725.0               NAA8  \n",
       "49963           10968.24            20190113.0               NAH4  \n",
       "49986          155837.53            20190529.0               NAU5  \n",
       "49990            4008.05            20190522.0               NAA8  \n",
       "49991           73002.24            20191010.0               NAA8  \n",
       "\n",
       "[1161 rows x 12 columns]"
      ]
     },
     "execution_count": 15,
     "metadata": {},
     "output_type": "execute_result"
    }
   ],
   "source": [
    "duplicate = df[df.duplicated()]\n",
    "duplicate"
   ]
  },
  {
   "cell_type": "markdown",
   "id": "464fab09",
   "metadata": {
    "id": "464fab09"
   },
   "source": [
    "### Display the Number of Duplicate Rows"
   ]
  },
  {
   "cell_type": "code",
   "execution_count": 16,
   "id": "b1ea2397",
   "metadata": {
    "id": "b1ea2397"
   },
   "outputs": [
    {
     "data": {
      "text/plain": [
       "1161"
      ]
     },
     "execution_count": 16,
     "metadata": {},
     "output_type": "execute_result"
    }
   ],
   "source": [
    "len(duplicate)"
   ]
  },
  {
   "cell_type": "markdown",
   "id": "827a6718",
   "metadata": {
    "id": "827a6718"
   },
   "source": [
    "### Drop all the Duplicate Rows"
   ]
  },
  {
   "cell_type": "code",
   "execution_count": 17,
   "id": "5d10151c",
   "metadata": {
    "id": "5d10151c"
   },
   "outputs": [],
   "source": [
    "df.drop_duplicates(inplace=True)"
   ]
  },
  {
   "cell_type": "markdown",
   "id": "7e5d1f9b",
   "metadata": {
    "id": "7e5d1f9b"
   },
   "source": [
    "#### Now check for all duplicate rows now\n",
    "\n",
    "- Note - It must be 0 by now"
   ]
  },
  {
   "cell_type": "code",
   "execution_count": 18,
   "id": "9accc9fc",
   "metadata": {
    "id": "9accc9fc"
   },
   "outputs": [
    {
     "data": {
      "text/plain": [
       "0"
      ]
     },
     "execution_count": 18,
     "metadata": {},
     "output_type": "execute_result"
    }
   ],
   "source": [
    "len(df[df.duplicated()])"
   ]
  },
  {
   "cell_type": "markdown",
   "id": "d0704898",
   "metadata": {
    "id": "d0704898"
   },
   "source": [
    "### Check for the number of Rows and Columns in your dataset"
   ]
  },
  {
   "cell_type": "code",
   "execution_count": 19,
   "id": "582748a8",
   "metadata": {
    "id": "582748a8"
   },
   "outputs": [
    {
     "name": "stdout",
     "output_type": "stream",
     "text": [
      "Number of Rows: 48839\n",
      "Number of Columns: 12\n"
     ]
    }
   ],
   "source": [
    "rows = len(df.axes[0])\n",
    "cols = len(df.axes[1])\n",
    "\n",
    "print(\"Number of Rows: \" + str(rows))\n",
    "print(\"Number of Columns: \" + str(cols))"
   ]
  },
  {
   "cell_type": "markdown",
   "id": "4o9c5UodWRtl",
   "metadata": {
    "id": "4o9c5UodWRtl"
   },
   "source": [
    "### Find out the total count of null values in each columns"
   ]
  },
  {
   "cell_type": "code",
   "execution_count": 20,
   "id": "b0612cb5",
   "metadata": {
    "id": "b0612cb5"
   },
   "outputs": [
    {
     "data": {
      "text/plain": [
       "business_code              0\n",
       "cust_number                0\n",
       "name_customer              0\n",
       "clear_date              9681\n",
       "buisness_year              0\n",
       "doc_id                     0\n",
       "posting_date               0\n",
       "due_in_date                0\n",
       "invoice_currency           0\n",
       "total_open_amount          0\n",
       "baseline_create_date       0\n",
       "cust_payment_terms         0\n",
       "dtype: int64"
      ]
     },
     "execution_count": 20,
     "metadata": {},
     "output_type": "execute_result"
    }
   ],
   "source": [
    "df.isna().sum()"
   ]
  },
  {
   "cell_type": "markdown",
   "id": "7abdb98b",
   "metadata": {
    "id": "7abdb98b"
   },
   "source": [
    "#Data type Conversion "
   ]
  },
  {
   "cell_type": "markdown",
   "id": "LPfSUSp-WpPj",
   "metadata": {
    "id": "LPfSUSp-WpPj"
   },
   "source": [
    "### Please check the data type of each column of the dataframe"
   ]
  },
  {
   "cell_type": "code",
   "execution_count": 21,
   "id": "689c8592",
   "metadata": {
    "id": "689c8592"
   },
   "outputs": [
    {
     "data": {
      "text/plain": [
       "business_code            object\n",
       "cust_number              object\n",
       "name_customer            object\n",
       "clear_date               object\n",
       "buisness_year           float64\n",
       "doc_id                  float64\n",
       "posting_date             object\n",
       "due_in_date             float64\n",
       "invoice_currency         object\n",
       "total_open_amount       float64\n",
       "baseline_create_date    float64\n",
       "cust_payment_terms       object\n",
       "dtype: object"
      ]
     },
     "execution_count": 21,
     "metadata": {},
     "output_type": "execute_result"
    }
   ],
   "source": [
    "df.dtypes"
   ]
  },
  {
   "cell_type": "markdown",
   "id": "0nsem0_3XzOt",
   "metadata": {
    "id": "0nsem0_3XzOt"
   },
   "source": [
    "### Check the datatype format of below columns\n",
    "\n",
    "- clear_date  \n",
    "- posting_date\n",
    "- due_in_date \n",
    "- baseline_create_date"
   ]
  },
  {
   "cell_type": "code",
   "execution_count": 22,
   "id": "-yyODyW3X6pL",
   "metadata": {
    "id": "-yyODyW3X6pL"
   },
   "outputs": [
    {
     "data": {
      "text/plain": [
       "clear_date               object\n",
       "posting_date             object\n",
       "due_in_date             float64\n",
       "baseline_create_date    float64\n",
       "dtype: object"
      ]
     },
     "execution_count": 22,
     "metadata": {},
     "output_type": "execute_result"
    }
   ],
   "source": [
    "df.dtypes[['clear_date','posting_date','due_in_date','baseline_create_date']]"
   ]
  },
  {
   "cell_type": "markdown",
   "id": "11cf9478",
   "metadata": {
    "id": "11cf9478"
   },
   "source": [
    "### converting date columns into date time formats\n",
    "\n",
    "- clear_date  \n",
    "- posting_date\n",
    "- due_in_date \n",
    "- baseline_create_date\n",
    "\n",
    "\n",
    "- **Note - You have to convert all these above columns into \"%Y%m%d\" format**"
   ]
  },
  {
   "cell_type": "code",
   "execution_count": 23,
   "id": "9a8c6c71",
   "metadata": {
    "id": "9a8c6c71"
   },
   "outputs": [],
   "source": [
    "from datetime import datetime\n",
    "df['baseline_create_date']=pd.to_datetime(df['baseline_create_date'],format =\"%Y%m%d\")\n",
    "df['posting_date']=pd.to_datetime(df['posting_date'])\n",
    "df['due_in_date']=pd.to_datetime(df['due_in_date'],format =\"%Y%m%d\")\n",
    "df['clear_date']=pd.to_datetime(df['clear_date'])\n"
   ]
  },
  {
   "cell_type": "markdown",
   "id": "7adq0wSIYSCS",
   "metadata": {
    "id": "7adq0wSIYSCS"
   },
   "source": [
    "### Please check the datatype of all the columns after conversion of the above 4 columns"
   ]
  },
  {
   "cell_type": "code",
   "execution_count": 24,
   "id": "fd028c61",
   "metadata": {
    "id": "fd028c61"
   },
   "outputs": [
    {
     "data": {
      "text/plain": [
       "clear_date              datetime64[ns]\n",
       "posting_date            datetime64[ns]\n",
       "due_in_date             datetime64[ns]\n",
       "baseline_create_date    datetime64[ns]\n",
       "dtype: object"
      ]
     },
     "execution_count": 24,
     "metadata": {},
     "output_type": "execute_result"
    }
   ],
   "source": [
    "df.dtypes[['clear_date','posting_date','due_in_date','baseline_create_date']]"
   ]
  },
  {
   "cell_type": "markdown",
   "id": "8c9882fa",
   "metadata": {
    "id": "8c9882fa"
   },
   "source": [
    "#### the invoice_currency column contains two different categories, USD and CAD\n",
    "\n",
    "- Please do a count of each currency "
   ]
  },
  {
   "cell_type": "code",
   "execution_count": 25,
   "id": "72085397",
   "metadata": {
    "id": "72085397"
   },
   "outputs": [
    {
     "data": {
      "text/plain": [
       "USD    45011\n",
       "CAD     3828\n",
       "Name: invoice_currency, dtype: int64"
      ]
     },
     "execution_count": 25,
     "metadata": {},
     "output_type": "execute_result"
    }
   ],
   "source": [
    "df['invoice_currency'].value_counts()"
   ]
  },
  {
   "cell_type": "markdown",
   "id": "6cbe26ee",
   "metadata": {
    "id": "6cbe26ee"
   },
   "source": [
    "#### display the \"total_open_amount\" column value"
   ]
  },
  {
   "cell_type": "code",
   "execution_count": 26,
   "id": "6c49f2ab",
   "metadata": {
    "id": "6c49f2ab"
   },
   "outputs": [
    {
     "data": {
      "text/plain": [
       "0        54273.28\n",
       "1        79656.60\n",
       "2         2253.86\n",
       "3         3299.70\n",
       "4        33133.29\n",
       "           ...   \n",
       "49995     3187.86\n",
       "49996     6766.54\n",
       "49997     6120.86\n",
       "49998       63.48\n",
       "49999     1790.30\n",
       "Name: total_open_amount, Length: 48839, dtype: float64"
      ]
     },
     "execution_count": 26,
     "metadata": {},
     "output_type": "execute_result"
    }
   ],
   "source": [
    "df['total_open_amount']"
   ]
  },
  {
   "cell_type": "markdown",
   "id": "df899966",
   "metadata": {
    "id": "df899966"
   },
   "source": [
    "### Convert all CAD into USD currency of \"total_open_amount\" column\n",
    "\n",
    "- 1 CAD = 0.7 USD\n",
    "- Create a new column i.e \"converted_usd\" and store USD and convered CAD to USD"
   ]
  },
  {
   "cell_type": "code",
   "execution_count": 27,
   "id": "8eb2f1c5",
   "metadata": {
    "id": "8eb2f1c5"
   },
   "outputs": [],
   "source": [
    "def convert(col):\n",
    "    if(col['invoice_currency']=='CAD'):\n",
    "        col['converted_usd']=col['total_open_amount'] * 0.7\n",
    "    else:\n",
    "        col['converted_usd']=col['total_open_amount']\n",
    "    return col\n"
   ]
  },
  {
   "cell_type": "code",
   "execution_count": 28,
   "id": "54011146",
   "metadata": {},
   "outputs": [],
   "source": [
    "df = df.apply(convert,axis='columns')"
   ]
  },
  {
   "cell_type": "markdown",
   "id": "f9f6ef1d",
   "metadata": {
    "id": "f9f6ef1d"
   },
   "source": [
    "### Display the new \"converted_usd\" column values"
   ]
  },
  {
   "cell_type": "code",
   "execution_count": 29,
   "id": "1fc1a178",
   "metadata": {
    "id": "1fc1a178"
   },
   "outputs": [
    {
     "data": {
      "text/plain": [
       "0        54273.28\n",
       "1        79656.60\n",
       "2         2253.86\n",
       "3         2309.79\n",
       "4        33133.29\n",
       "           ...   \n",
       "49995     3187.86\n",
       "49996     6766.54\n",
       "49997     6120.86\n",
       "49998       63.48\n",
       "49999     1790.30\n",
       "Name: converted_usd, Length: 48839, dtype: float64"
      ]
     },
     "execution_count": 29,
     "metadata": {},
     "output_type": "execute_result"
    }
   ],
   "source": [
    "df['converted_usd']"
   ]
  },
  {
   "cell_type": "markdown",
   "id": "6XLXX17kayuy",
   "metadata": {
    "id": "6XLXX17kayuy"
   },
   "source": [
    "### Display year wise total number of record \n",
    "\n",
    "- Note -  use \"buisness_year\" column for this "
   ]
  },
  {
   "cell_type": "code",
   "execution_count": 30,
   "id": "00c9f6ee",
   "metadata": {
    "id": "00c9f6ee"
   },
   "outputs": [
    {
     "data": {
      "text/plain": [
       "2019.0    33975\n",
       "2020.0    14864\n",
       "Name: buisness_year, dtype: int64"
      ]
     },
     "execution_count": 30,
     "metadata": {},
     "output_type": "execute_result"
    }
   ],
   "source": [
    "df.buisness_year.value_counts()"
   ]
  },
  {
   "cell_type": "markdown",
   "id": "05c35904",
   "metadata": {
    "id": "05c35904"
   },
   "source": [
    "### Write the code to delete the following columns \n",
    "\n",
    "- 'invoice_currency'\n",
    "- 'total_open_amount', "
   ]
  },
  {
   "cell_type": "code",
   "execution_count": 31,
   "id": "4ac28aa5",
   "metadata": {
    "id": "4ac28aa5"
   },
   "outputs": [],
   "source": [
    "df.drop(['invoice_currency','total_open_amount'], axis = 1,inplace=True)\n"
   ]
  },
  {
   "cell_type": "markdown",
   "id": "bDBJ_Kvwc086",
   "metadata": {
    "id": "bDBJ_Kvwc086"
   },
   "source": [
    "### Write a code to check the number of columns in dataframe"
   ]
  },
  {
   "cell_type": "code",
   "execution_count": 32,
   "id": "ea360a8c",
   "metadata": {
    "id": "ea360a8c"
   },
   "outputs": [
    {
     "data": {
      "text/plain": [
       "(48839, 11)"
      ]
     },
     "execution_count": 32,
     "metadata": {},
     "output_type": "execute_result"
    }
   ],
   "source": [
    "df.shape"
   ]
  },
  {
   "cell_type": "markdown",
   "id": "b8f63655",
   "metadata": {
    "id": "b8f63655"
   },
   "source": [
    "# Splitting the Dataset "
   ]
  },
  {
   "cell_type": "markdown",
   "id": "a00f749d",
   "metadata": {
    "id": "a00f749d"
   },
   "source": [
    "### Look for all columns containing null value\n",
    "\n",
    "- Note - Output expected is only one column "
   ]
  },
  {
   "cell_type": "code",
   "execution_count": 33,
   "id": "148c801e",
   "metadata": {
    "id": "148c801e"
   },
   "outputs": [
    {
     "data": {
      "text/plain": [
       "business_code              0\n",
       "cust_number                0\n",
       "name_customer              0\n",
       "clear_date              9681\n",
       "buisness_year              0\n",
       "doc_id                     0\n",
       "posting_date               0\n",
       "due_in_date                0\n",
       "baseline_create_date       0\n",
       "cust_payment_terms         0\n",
       "converted_usd              0\n",
       "dtype: int64"
      ]
     },
     "execution_count": 33,
     "metadata": {},
     "output_type": "execute_result"
    }
   ],
   "source": [
    "df.isnull().sum()"
   ]
  },
  {
   "cell_type": "markdown",
   "id": "a094a290",
   "metadata": {
    "id": "a094a290"
   },
   "source": [
    "#### Find out the number of null values from the column that you got from the above code"
   ]
  },
  {
   "cell_type": "code",
   "execution_count": 34,
   "id": "30bfb113",
   "metadata": {
    "id": "30bfb113"
   },
   "outputs": [
    {
     "data": {
      "text/plain": [
       "9681"
      ]
     },
     "execution_count": 34,
     "metadata": {},
     "output_type": "execute_result"
    }
   ],
   "source": [
    "df['clear_date'].isnull().sum()"
   ]
  },
  {
   "cell_type": "markdown",
   "id": "7f6d939b",
   "metadata": {
    "id": "7f6d939b"
   },
   "source": [
    "### On basis of the above column we are spliting data into dataset\n",
    "\n",
    "- First dataframe (refer that as maindata) only containing the rows, that have NO NULL data in that column ( This is going to be our train dataset ) \n",
    "- Second dataframe (refer that as nulldata) that contains the columns, that have Null data in that column ( This is going to be our test dataset ) "
   ]
  },
  {
   "cell_type": "code",
   "execution_count": 35,
   "id": "c8764c33",
   "metadata": {
    "id": "c8764c33"
   },
   "outputs": [],
   "source": [
    "maindata = df[df['clear_date'].isnull() == False]\n",
    "nulldata = df[df['clear_date'].isnull()]"
   ]
  },
  {
   "cell_type": "markdown",
   "id": "3P8riRBHd_r6",
   "metadata": {
    "id": "3P8riRBHd_r6"
   },
   "source": [
    "### Check the number of Rows and Columns for both the dataframes "
   ]
  },
  {
   "cell_type": "code",
   "execution_count": 36,
   "id": "0693a464",
   "metadata": {
    "id": "0693a464"
   },
   "outputs": [
    {
     "data": {
      "text/plain": [
       "(39158, 11)"
      ]
     },
     "execution_count": 36,
     "metadata": {},
     "output_type": "execute_result"
    }
   ],
   "source": [
    "maindata.shape"
   ]
  },
  {
   "cell_type": "code",
   "execution_count": 37,
   "id": "7f86bc74",
   "metadata": {
    "id": "7f86bc74"
   },
   "outputs": [
    {
     "data": {
      "text/plain": [
       "(9681, 11)"
      ]
     },
     "execution_count": 37,
     "metadata": {},
     "output_type": "execute_result"
    }
   ],
   "source": [
    "nulldata.shape"
   ]
  },
  {
   "cell_type": "markdown",
   "id": "0747165d",
   "metadata": {
    "id": "0747165d"
   },
   "source": [
    "### Display the 5 records from maindata and nulldata dataframes"
   ]
  },
  {
   "cell_type": "code",
   "execution_count": 38,
   "id": "dec2ec36",
   "metadata": {
    "id": "dec2ec36"
   },
   "outputs": [
    {
     "data": {
      "text/html": [
       "<div>\n",
       "<style scoped>\n",
       "    .dataframe tbody tr th:only-of-type {\n",
       "        vertical-align: middle;\n",
       "    }\n",
       "\n",
       "    .dataframe tbody tr th {\n",
       "        vertical-align: top;\n",
       "    }\n",
       "\n",
       "    .dataframe thead th {\n",
       "        text-align: right;\n",
       "    }\n",
       "</style>\n",
       "<table border=\"1\" class=\"dataframe\">\n",
       "  <thead>\n",
       "    <tr style=\"text-align: right;\">\n",
       "      <th></th>\n",
       "      <th>business_code</th>\n",
       "      <th>cust_number</th>\n",
       "      <th>name_customer</th>\n",
       "      <th>clear_date</th>\n",
       "      <th>buisness_year</th>\n",
       "      <th>doc_id</th>\n",
       "      <th>posting_date</th>\n",
       "      <th>due_in_date</th>\n",
       "      <th>baseline_create_date</th>\n",
       "      <th>cust_payment_terms</th>\n",
       "      <th>converted_usd</th>\n",
       "    </tr>\n",
       "  </thead>\n",
       "  <tbody>\n",
       "    <tr>\n",
       "      <th>0</th>\n",
       "      <td>U001</td>\n",
       "      <td>0200769623</td>\n",
       "      <td>WAL-MAR corp</td>\n",
       "      <td>2020-02-11</td>\n",
       "      <td>2020.0</td>\n",
       "      <td>1.930438e+09</td>\n",
       "      <td>2020-01-26</td>\n",
       "      <td>2020-02-10</td>\n",
       "      <td>2020-01-26</td>\n",
       "      <td>NAH4</td>\n",
       "      <td>54273.280</td>\n",
       "    </tr>\n",
       "    <tr>\n",
       "      <th>1</th>\n",
       "      <td>U001</td>\n",
       "      <td>0200980828</td>\n",
       "      <td>BEN E</td>\n",
       "      <td>2019-08-08</td>\n",
       "      <td>2019.0</td>\n",
       "      <td>1.929646e+09</td>\n",
       "      <td>2019-07-22</td>\n",
       "      <td>2019-08-11</td>\n",
       "      <td>2019-07-22</td>\n",
       "      <td>NAD1</td>\n",
       "      <td>79656.600</td>\n",
       "    </tr>\n",
       "    <tr>\n",
       "      <th>2</th>\n",
       "      <td>U001</td>\n",
       "      <td>0200792734</td>\n",
       "      <td>MDV/ trust</td>\n",
       "      <td>2019-12-30</td>\n",
       "      <td>2019.0</td>\n",
       "      <td>1.929874e+09</td>\n",
       "      <td>2019-09-14</td>\n",
       "      <td>2019-09-29</td>\n",
       "      <td>2019-09-14</td>\n",
       "      <td>NAA8</td>\n",
       "      <td>2253.860</td>\n",
       "    </tr>\n",
       "    <tr>\n",
       "      <th>4</th>\n",
       "      <td>U001</td>\n",
       "      <td>0200769623</td>\n",
       "      <td>WAL-MAR foundation</td>\n",
       "      <td>2019-11-25</td>\n",
       "      <td>2019.0</td>\n",
       "      <td>1.930148e+09</td>\n",
       "      <td>2019-11-13</td>\n",
       "      <td>2019-11-28</td>\n",
       "      <td>2019-11-13</td>\n",
       "      <td>NAH4</td>\n",
       "      <td>33133.290</td>\n",
       "    </tr>\n",
       "    <tr>\n",
       "      <th>5</th>\n",
       "      <td>CA02</td>\n",
       "      <td>0140106181</td>\n",
       "      <td>THE  corporation</td>\n",
       "      <td>2019-12-04</td>\n",
       "      <td>2019.0</td>\n",
       "      <td>2.960581e+09</td>\n",
       "      <td>2019-09-20</td>\n",
       "      <td>2019-10-04</td>\n",
       "      <td>2019-09-24</td>\n",
       "      <td>CA10</td>\n",
       "      <td>15558.088</td>\n",
       "    </tr>\n",
       "  </tbody>\n",
       "</table>\n",
       "</div>"
      ],
      "text/plain": [
       "  business_code cust_number       name_customer clear_date  buisness_year  \\\n",
       "0          U001  0200769623        WAL-MAR corp 2020-02-11         2020.0   \n",
       "1          U001  0200980828              BEN E  2019-08-08         2019.0   \n",
       "2          U001  0200792734          MDV/ trust 2019-12-30         2019.0   \n",
       "4          U001  0200769623  WAL-MAR foundation 2019-11-25         2019.0   \n",
       "5          CA02  0140106181    THE  corporation 2019-12-04         2019.0   \n",
       "\n",
       "         doc_id posting_date due_in_date baseline_create_date  \\\n",
       "0  1.930438e+09   2020-01-26  2020-02-10           2020-01-26   \n",
       "1  1.929646e+09   2019-07-22  2019-08-11           2019-07-22   \n",
       "2  1.929874e+09   2019-09-14  2019-09-29           2019-09-14   \n",
       "4  1.930148e+09   2019-11-13  2019-11-28           2019-11-13   \n",
       "5  2.960581e+09   2019-09-20  2019-10-04           2019-09-24   \n",
       "\n",
       "  cust_payment_terms  converted_usd  \n",
       "0               NAH4      54273.280  \n",
       "1               NAD1      79656.600  \n",
       "2               NAA8       2253.860  \n",
       "4               NAH4      33133.290  \n",
       "5               CA10      15558.088  "
      ]
     },
     "execution_count": 38,
     "metadata": {},
     "output_type": "execute_result"
    }
   ],
   "source": [
    "maindata.head(5)"
   ]
  },
  {
   "cell_type": "code",
   "execution_count": 39,
   "id": "eee2d68a",
   "metadata": {
    "id": "eee2d68a"
   },
   "outputs": [
    {
     "data": {
      "text/html": [
       "<div>\n",
       "<style scoped>\n",
       "    .dataframe tbody tr th:only-of-type {\n",
       "        vertical-align: middle;\n",
       "    }\n",
       "\n",
       "    .dataframe tbody tr th {\n",
       "        vertical-align: top;\n",
       "    }\n",
       "\n",
       "    .dataframe thead th {\n",
       "        text-align: right;\n",
       "    }\n",
       "</style>\n",
       "<table border=\"1\" class=\"dataframe\">\n",
       "  <thead>\n",
       "    <tr style=\"text-align: right;\">\n",
       "      <th></th>\n",
       "      <th>business_code</th>\n",
       "      <th>cust_number</th>\n",
       "      <th>name_customer</th>\n",
       "      <th>clear_date</th>\n",
       "      <th>buisness_year</th>\n",
       "      <th>doc_id</th>\n",
       "      <th>posting_date</th>\n",
       "      <th>due_in_date</th>\n",
       "      <th>baseline_create_date</th>\n",
       "      <th>cust_payment_terms</th>\n",
       "      <th>converted_usd</th>\n",
       "    </tr>\n",
       "  </thead>\n",
       "  <tbody>\n",
       "    <tr>\n",
       "      <th>3</th>\n",
       "      <td>CA02</td>\n",
       "      <td>0140105686</td>\n",
       "      <td>SYSC llc</td>\n",
       "      <td>NaT</td>\n",
       "      <td>2020.0</td>\n",
       "      <td>2.960623e+09</td>\n",
       "      <td>2020-03-30</td>\n",
       "      <td>2020-04-10</td>\n",
       "      <td>2020-03-31</td>\n",
       "      <td>CA10</td>\n",
       "      <td>2309.79</td>\n",
       "    </tr>\n",
       "    <tr>\n",
       "      <th>7</th>\n",
       "      <td>U001</td>\n",
       "      <td>0200744019</td>\n",
       "      <td>TARG us</td>\n",
       "      <td>NaT</td>\n",
       "      <td>2020.0</td>\n",
       "      <td>1.930659e+09</td>\n",
       "      <td>2020-03-19</td>\n",
       "      <td>2020-04-03</td>\n",
       "      <td>2020-03-19</td>\n",
       "      <td>NAA8</td>\n",
       "      <td>11173.02</td>\n",
       "    </tr>\n",
       "    <tr>\n",
       "      <th>10</th>\n",
       "      <td>U001</td>\n",
       "      <td>0200418007</td>\n",
       "      <td>AM</td>\n",
       "      <td>NaT</td>\n",
       "      <td>2020.0</td>\n",
       "      <td>1.930611e+09</td>\n",
       "      <td>2020-03-11</td>\n",
       "      <td>2020-03-26</td>\n",
       "      <td>2020-03-11</td>\n",
       "      <td>NAA8</td>\n",
       "      <td>3525.59</td>\n",
       "    </tr>\n",
       "    <tr>\n",
       "      <th>14</th>\n",
       "      <td>U001</td>\n",
       "      <td>0200739534</td>\n",
       "      <td>OK systems</td>\n",
       "      <td>NaT</td>\n",
       "      <td>2020.0</td>\n",
       "      <td>1.930788e+09</td>\n",
       "      <td>2020-04-15</td>\n",
       "      <td>2020-04-30</td>\n",
       "      <td>2020-04-15</td>\n",
       "      <td>NAA8</td>\n",
       "      <td>121105.65</td>\n",
       "    </tr>\n",
       "    <tr>\n",
       "      <th>15</th>\n",
       "      <td>U001</td>\n",
       "      <td>0200353024</td>\n",
       "      <td>DECA corporation</td>\n",
       "      <td>NaT</td>\n",
       "      <td>2020.0</td>\n",
       "      <td>1.930817e+09</td>\n",
       "      <td>2020-04-23</td>\n",
       "      <td>2020-04-26</td>\n",
       "      <td>2020-04-16</td>\n",
       "      <td>NAM2</td>\n",
       "      <td>3726.06</td>\n",
       "    </tr>\n",
       "  </tbody>\n",
       "</table>\n",
       "</div>"
      ],
      "text/plain": [
       "   business_code cust_number     name_customer clear_date  buisness_year  \\\n",
       "3           CA02  0140105686          SYSC llc        NaT         2020.0   \n",
       "7           U001  0200744019           TARG us        NaT         2020.0   \n",
       "10          U001  0200418007               AM         NaT         2020.0   \n",
       "14          U001  0200739534        OK systems        NaT         2020.0   \n",
       "15          U001  0200353024  DECA corporation        NaT         2020.0   \n",
       "\n",
       "          doc_id posting_date due_in_date baseline_create_date  \\\n",
       "3   2.960623e+09   2020-03-30  2020-04-10           2020-03-31   \n",
       "7   1.930659e+09   2020-03-19  2020-04-03           2020-03-19   \n",
       "10  1.930611e+09   2020-03-11  2020-03-26           2020-03-11   \n",
       "14  1.930788e+09   2020-04-15  2020-04-30           2020-04-15   \n",
       "15  1.930817e+09   2020-04-23  2020-04-26           2020-04-16   \n",
       "\n",
       "   cust_payment_terms  converted_usd  \n",
       "3                CA10        2309.79  \n",
       "7                NAA8       11173.02  \n",
       "10               NAA8        3525.59  \n",
       "14               NAA8      121105.65  \n",
       "15               NAM2        3726.06  "
      ]
     },
     "execution_count": 39,
     "metadata": {},
     "output_type": "execute_result"
    }
   ],
   "source": [
    "nulldata.head(5)"
   ]
  },
  {
   "cell_type": "markdown",
   "id": "24aa6746",
   "metadata": {
    "id": "24aa6746"
   },
   "source": [
    "## Considering the **maindata**"
   ]
  },
  {
   "cell_type": "markdown",
   "id": "f92c4aa7",
   "metadata": {
    "id": "f92c4aa7"
   },
   "source": [
    "#### Generate a new column \"Delay\" from the existing columns\n",
    "\n",
    "- Note - You are expected to create a new column 'Delay' from two existing columns, \"clear_date\" and \"due_in_date\" \n",
    "- Formula - Delay = clear_date - due_in_date"
   ]
  },
  {
   "cell_type": "code",
   "execution_count": 40,
   "id": "8eeceb9c",
   "metadata": {
    "id": "8eeceb9c"
   },
   "outputs": [
    {
     "name": "stderr",
     "output_type": "stream",
     "text": [
      "C:\\Users\\91981\\AppData\\Local\\Temp/ipykernel_10416/2792325222.py:1: SettingWithCopyWarning: \n",
      "A value is trying to be set on a copy of a slice from a DataFrame.\n",
      "Try using .loc[row_indexer,col_indexer] = value instead\n",
      "\n",
      "See the caveats in the documentation: https://pandas.pydata.org/pandas-docs/stable/user_guide/indexing.html#returning-a-view-versus-a-copy\n",
      "  maindata['Delay'] = maindata['clear_date'] - maindata['due_in_date']\n"
     ]
    }
   ],
   "source": [
    "maindata['Delay'] = maindata['clear_date'] - maindata['due_in_date']"
   ]
  },
  {
   "cell_type": "markdown",
   "id": "f482144e",
   "metadata": {
    "id": "f482144e"
   },
   "source": [
    "### Generate a new column \"avgdelay\" from the existing columns\n",
    "\n",
    "- Note - You are expected to make a new column \"avgdelay\" by grouping \"name_customer\" column with reapect to mean of the \"Delay\" column.\n",
    "- This new column \"avg_delay\" is meant to store \"customer_name\" wise delay\n",
    "- groupby('name_customer')['Delay'].mean(numeric_only=False)\n",
    "- Display the new \"avg_delay\" column"
   ]
  },
  {
   "cell_type": "code",
   "execution_count": 41,
   "id": "d18d2f8d",
   "metadata": {
    "id": "d18d2f8d"
   },
   "outputs": [
    {
     "name": "stderr",
     "output_type": "stream",
     "text": [
      "C:\\Users\\91981\\AppData\\Local\\Temp/ipykernel_10416/3737280363.py:2: SettingWithCopyWarning: \n",
      "A value is trying to be set on a copy of a slice from a DataFrame.\n",
      "Try using .loc[row_indexer,col_indexer] = value instead\n",
      "\n",
      "See the caveats in the documentation: https://pandas.pydata.org/pandas-docs/stable/user_guide/indexing.html#returning-a-view-versus-a-copy\n",
      "  maindata['avg_delay'] = maindata['name_customer']\n"
     ]
    }
   ],
   "source": [
    "avg_delay = maindata.groupby('name_customer')['Delay'].mean(numeric_only=False)\n",
    "maindata['avg_delay'] = maindata['name_customer']"
   ]
  },
  {
   "cell_type": "markdown",
   "id": "64b995e8",
   "metadata": {
    "id": "64b995e8"
   },
   "source": [
    "You need to add the \"avg_delay\" column with the maindata, mapped with \"name_customer\" column\n",
    "\n",
    " - Note - You need to use map function to map the avgdelay with respect to \"name_customer\" column"
   ]
  },
  {
   "cell_type": "code",
   "execution_count": 42,
   "id": "e1e1f3d9",
   "metadata": {
    "id": "e1e1f3d9"
   },
   "outputs": [
    {
     "name": "stderr",
     "output_type": "stream",
     "text": [
      "C:\\Users\\91981\\AppData\\Local\\Temp/ipykernel_10416/3522631519.py:1: SettingWithCopyWarning: \n",
      "A value is trying to be set on a copy of a slice from a DataFrame.\n",
      "Try using .loc[row_indexer,col_indexer] = value instead\n",
      "\n",
      "See the caveats in the documentation: https://pandas.pydata.org/pandas-docs/stable/user_guide/indexing.html#returning-a-view-versus-a-copy\n",
      "  maindata['avg_delay'] = maindata['avg_delay'].map(avg_delay)\n"
     ]
    }
   ],
   "source": [
    "maindata['avg_delay'] = maindata['avg_delay'].map(avg_delay)"
   ]
  },
  {
   "cell_type": "markdown",
   "id": "1d332525",
   "metadata": {
    "id": "1d332525"
   },
   "source": [
    "### Observe that the \"avg_delay\" column is in days format. You need to change the format into seconds\n",
    "\n",
    "- Days_format :  17 days 00:00:00\n",
    "- Format in seconds : 1641600.0"
   ]
  },
  {
   "cell_type": "code",
   "execution_count": 43,
   "id": "d5f1041e",
   "metadata": {
    "id": "d5f1041e"
   },
   "outputs": [
    {
     "name": "stderr",
     "output_type": "stream",
     "text": [
      "C:\\Users\\91981\\AppData\\Local\\Temp/ipykernel_10416/260031222.py:1: SettingWithCopyWarning: \n",
      "A value is trying to be set on a copy of a slice from a DataFrame.\n",
      "Try using .loc[row_indexer,col_indexer] = value instead\n",
      "\n",
      "See the caveats in the documentation: https://pandas.pydata.org/pandas-docs/stable/user_guide/indexing.html#returning-a-view-versus-a-copy\n",
      "  maindata['avg_delay'] = pd.to_timedelta(maindata['avg_delay']).dt.total_seconds().round()\n"
     ]
    }
   ],
   "source": [
    "maindata['avg_delay'] = pd.to_timedelta(maindata['avg_delay']).dt.total_seconds().round()"
   ]
  },
  {
   "cell_type": "markdown",
   "id": "OvgtHSsx_O-n",
   "metadata": {
    "id": "OvgtHSsx_O-n"
   },
   "source": [
    "### Display the maindata dataframe "
   ]
  },
  {
   "cell_type": "code",
   "execution_count": 44,
   "id": "97ca9c45",
   "metadata": {
    "id": "97ca9c45"
   },
   "outputs": [
    {
     "data": {
      "text/html": [
       "<div>\n",
       "<style scoped>\n",
       "    .dataframe tbody tr th:only-of-type {\n",
       "        vertical-align: middle;\n",
       "    }\n",
       "\n",
       "    .dataframe tbody tr th {\n",
       "        vertical-align: top;\n",
       "    }\n",
       "\n",
       "    .dataframe thead th {\n",
       "        text-align: right;\n",
       "    }\n",
       "</style>\n",
       "<table border=\"1\" class=\"dataframe\">\n",
       "  <thead>\n",
       "    <tr style=\"text-align: right;\">\n",
       "      <th></th>\n",
       "      <th>business_code</th>\n",
       "      <th>cust_number</th>\n",
       "      <th>name_customer</th>\n",
       "      <th>clear_date</th>\n",
       "      <th>buisness_year</th>\n",
       "      <th>doc_id</th>\n",
       "      <th>posting_date</th>\n",
       "      <th>due_in_date</th>\n",
       "      <th>baseline_create_date</th>\n",
       "      <th>cust_payment_terms</th>\n",
       "      <th>converted_usd</th>\n",
       "      <th>Delay</th>\n",
       "      <th>avg_delay</th>\n",
       "    </tr>\n",
       "  </thead>\n",
       "  <tbody>\n",
       "    <tr>\n",
       "      <th>0</th>\n",
       "      <td>U001</td>\n",
       "      <td>0200769623</td>\n",
       "      <td>WAL-MAR corp</td>\n",
       "      <td>2020-02-11</td>\n",
       "      <td>2020.0</td>\n",
       "      <td>1.930438e+09</td>\n",
       "      <td>2020-01-26</td>\n",
       "      <td>2020-02-10</td>\n",
       "      <td>2020-01-26</td>\n",
       "      <td>NAH4</td>\n",
       "      <td>54273.280</td>\n",
       "      <td>1 days</td>\n",
       "      <td>-233470.0</td>\n",
       "    </tr>\n",
       "    <tr>\n",
       "      <th>1</th>\n",
       "      <td>U001</td>\n",
       "      <td>0200980828</td>\n",
       "      <td>BEN E</td>\n",
       "      <td>2019-08-08</td>\n",
       "      <td>2019.0</td>\n",
       "      <td>1.929646e+09</td>\n",
       "      <td>2019-07-22</td>\n",
       "      <td>2019-08-11</td>\n",
       "      <td>2019-07-22</td>\n",
       "      <td>NAD1</td>\n",
       "      <td>79656.600</td>\n",
       "      <td>-3 days</td>\n",
       "      <td>1641600.0</td>\n",
       "    </tr>\n",
       "    <tr>\n",
       "      <th>2</th>\n",
       "      <td>U001</td>\n",
       "      <td>0200792734</td>\n",
       "      <td>MDV/ trust</td>\n",
       "      <td>2019-12-30</td>\n",
       "      <td>2019.0</td>\n",
       "      <td>1.929874e+09</td>\n",
       "      <td>2019-09-14</td>\n",
       "      <td>2019-09-29</td>\n",
       "      <td>2019-09-14</td>\n",
       "      <td>NAA8</td>\n",
       "      <td>2253.860</td>\n",
       "      <td>92 days</td>\n",
       "      <td>699055.0</td>\n",
       "    </tr>\n",
       "    <tr>\n",
       "      <th>4</th>\n",
       "      <td>U001</td>\n",
       "      <td>0200769623</td>\n",
       "      <td>WAL-MAR foundation</td>\n",
       "      <td>2019-11-25</td>\n",
       "      <td>2019.0</td>\n",
       "      <td>1.930148e+09</td>\n",
       "      <td>2019-11-13</td>\n",
       "      <td>2019-11-28</td>\n",
       "      <td>2019-11-13</td>\n",
       "      <td>NAH4</td>\n",
       "      <td>33133.290</td>\n",
       "      <td>-3 days</td>\n",
       "      <td>-188792.0</td>\n",
       "    </tr>\n",
       "    <tr>\n",
       "      <th>5</th>\n",
       "      <td>CA02</td>\n",
       "      <td>0140106181</td>\n",
       "      <td>THE  corporation</td>\n",
       "      <td>2019-12-04</td>\n",
       "      <td>2019.0</td>\n",
       "      <td>2.960581e+09</td>\n",
       "      <td>2019-09-20</td>\n",
       "      <td>2019-10-04</td>\n",
       "      <td>2019-09-24</td>\n",
       "      <td>CA10</td>\n",
       "      <td>15558.088</td>\n",
       "      <td>61 days</td>\n",
       "      <td>6172800.0</td>\n",
       "    </tr>\n",
       "    <tr>\n",
       "      <th>...</th>\n",
       "      <td>...</td>\n",
       "      <td>...</td>\n",
       "      <td>...</td>\n",
       "      <td>...</td>\n",
       "      <td>...</td>\n",
       "      <td>...</td>\n",
       "      <td>...</td>\n",
       "      <td>...</td>\n",
       "      <td>...</td>\n",
       "      <td>...</td>\n",
       "      <td>...</td>\n",
       "      <td>...</td>\n",
       "      <td>...</td>\n",
       "    </tr>\n",
       "    <tr>\n",
       "      <th>49994</th>\n",
       "      <td>U001</td>\n",
       "      <td>0200762301</td>\n",
       "      <td>C&amp;S WH trust</td>\n",
       "      <td>2019-07-25</td>\n",
       "      <td>2019.0</td>\n",
       "      <td>1.929601e+09</td>\n",
       "      <td>2019-07-10</td>\n",
       "      <td>2019-07-25</td>\n",
       "      <td>2019-07-10</td>\n",
       "      <td>NAC6</td>\n",
       "      <td>84780.400</td>\n",
       "      <td>0 days</td>\n",
       "      <td>-33300.0</td>\n",
       "    </tr>\n",
       "    <tr>\n",
       "      <th>49996</th>\n",
       "      <td>U001</td>\n",
       "      <td>0200769623</td>\n",
       "      <td>WAL-MAR co</td>\n",
       "      <td>2019-09-03</td>\n",
       "      <td>2019.0</td>\n",
       "      <td>1.929744e+09</td>\n",
       "      <td>2019-08-15</td>\n",
       "      <td>2019-08-30</td>\n",
       "      <td>2019-08-15</td>\n",
       "      <td>NAH4</td>\n",
       "      <td>6766.540</td>\n",
       "      <td>4 days</td>\n",
       "      <td>-213591.0</td>\n",
       "    </tr>\n",
       "    <tr>\n",
       "      <th>49997</th>\n",
       "      <td>U001</td>\n",
       "      <td>0200772595</td>\n",
       "      <td>SAFEW associates</td>\n",
       "      <td>2020-03-05</td>\n",
       "      <td>2020.0</td>\n",
       "      <td>1.930537e+09</td>\n",
       "      <td>2020-02-19</td>\n",
       "      <td>2020-03-05</td>\n",
       "      <td>2020-02-19</td>\n",
       "      <td>NAA8</td>\n",
       "      <td>6120.860</td>\n",
       "      <td>0 days</td>\n",
       "      <td>90514.0</td>\n",
       "    </tr>\n",
       "    <tr>\n",
       "      <th>49998</th>\n",
       "      <td>U001</td>\n",
       "      <td>0200726979</td>\n",
       "      <td>BJ'S  llc</td>\n",
       "      <td>2019-12-12</td>\n",
       "      <td>2019.0</td>\n",
       "      <td>1.930199e+09</td>\n",
       "      <td>2019-11-27</td>\n",
       "      <td>2019-12-12</td>\n",
       "      <td>2019-11-27</td>\n",
       "      <td>NAA8</td>\n",
       "      <td>63.480</td>\n",
       "      <td>0 days</td>\n",
       "      <td>135403.0</td>\n",
       "    </tr>\n",
       "    <tr>\n",
       "      <th>49999</th>\n",
       "      <td>U001</td>\n",
       "      <td>0200020431</td>\n",
       "      <td>DEC corp</td>\n",
       "      <td>2019-01-15</td>\n",
       "      <td>2019.0</td>\n",
       "      <td>1.928576e+09</td>\n",
       "      <td>2019-01-05</td>\n",
       "      <td>2019-01-24</td>\n",
       "      <td>2019-01-01</td>\n",
       "      <td>NAM4</td>\n",
       "      <td>1790.300</td>\n",
       "      <td>-9 days</td>\n",
       "      <td>-337148.0</td>\n",
       "    </tr>\n",
       "  </tbody>\n",
       "</table>\n",
       "<p>39158 rows × 13 columns</p>\n",
       "</div>"
      ],
      "text/plain": [
       "      business_code cust_number       name_customer clear_date  buisness_year  \\\n",
       "0              U001  0200769623        WAL-MAR corp 2020-02-11         2020.0   \n",
       "1              U001  0200980828              BEN E  2019-08-08         2019.0   \n",
       "2              U001  0200792734          MDV/ trust 2019-12-30         2019.0   \n",
       "4              U001  0200769623  WAL-MAR foundation 2019-11-25         2019.0   \n",
       "5              CA02  0140106181    THE  corporation 2019-12-04         2019.0   \n",
       "...             ...         ...                 ...        ...            ...   \n",
       "49994          U001  0200762301        C&S WH trust 2019-07-25         2019.0   \n",
       "49996          U001  0200769623          WAL-MAR co 2019-09-03         2019.0   \n",
       "49997          U001  0200772595    SAFEW associates 2020-03-05         2020.0   \n",
       "49998          U001  0200726979           BJ'S  llc 2019-12-12         2019.0   \n",
       "49999          U001  0200020431            DEC corp 2019-01-15         2019.0   \n",
       "\n",
       "             doc_id posting_date due_in_date baseline_create_date  \\\n",
       "0      1.930438e+09   2020-01-26  2020-02-10           2020-01-26   \n",
       "1      1.929646e+09   2019-07-22  2019-08-11           2019-07-22   \n",
       "2      1.929874e+09   2019-09-14  2019-09-29           2019-09-14   \n",
       "4      1.930148e+09   2019-11-13  2019-11-28           2019-11-13   \n",
       "5      2.960581e+09   2019-09-20  2019-10-04           2019-09-24   \n",
       "...             ...          ...         ...                  ...   \n",
       "49994  1.929601e+09   2019-07-10  2019-07-25           2019-07-10   \n",
       "49996  1.929744e+09   2019-08-15  2019-08-30           2019-08-15   \n",
       "49997  1.930537e+09   2020-02-19  2020-03-05           2020-02-19   \n",
       "49998  1.930199e+09   2019-11-27  2019-12-12           2019-11-27   \n",
       "49999  1.928576e+09   2019-01-05  2019-01-24           2019-01-01   \n",
       "\n",
       "      cust_payment_terms  converted_usd   Delay  avg_delay  \n",
       "0                   NAH4      54273.280  1 days  -233470.0  \n",
       "1                   NAD1      79656.600 -3 days  1641600.0  \n",
       "2                   NAA8       2253.860 92 days   699055.0  \n",
       "4                   NAH4      33133.290 -3 days  -188792.0  \n",
       "5                   CA10      15558.088 61 days  6172800.0  \n",
       "...                  ...            ...     ...        ...  \n",
       "49994               NAC6      84780.400  0 days   -33300.0  \n",
       "49996               NAH4       6766.540  4 days  -213591.0  \n",
       "49997               NAA8       6120.860  0 days    90514.0  \n",
       "49998               NAA8         63.480  0 days   135403.0  \n",
       "49999               NAM4       1790.300 -9 days  -337148.0  \n",
       "\n",
       "[39158 rows x 13 columns]"
      ]
     },
     "execution_count": 44,
     "metadata": {},
     "output_type": "execute_result"
    }
   ],
   "source": [
    "maindata"
   ]
  },
  {
   "cell_type": "markdown",
   "id": "ae24c7bb",
   "metadata": {
    "id": "ae24c7bb"
   },
   "source": [
    "### Since you have created the \"avg_delay\" column from \"Delay\" and \"clear_date\" column, there is no need of these two columns anymore \n",
    "\n",
    "- You are expected to drop \"Delay\" and \"clear_date\" columns from maindata dataframe "
   ]
  },
  {
   "cell_type": "code",
   "execution_count": 45,
   "id": "78a61ab9",
   "metadata": {
    "id": "78a61ab9"
   },
   "outputs": [
    {
     "name": "stderr",
     "output_type": "stream",
     "text": [
      "D:\\Software\\Anaconda\\lib\\site-packages\\pandas\\core\\frame.py:4906: SettingWithCopyWarning: \n",
      "A value is trying to be set on a copy of a slice from a DataFrame\n",
      "\n",
      "See the caveats in the documentation: https://pandas.pydata.org/pandas-docs/stable/user_guide/indexing.html#returning-a-view-versus-a-copy\n",
      "  return super().drop(\n"
     ]
    }
   ],
   "source": [
    "maindata.drop(['Delay','clear_date'],axis=1,inplace=True)"
   ]
  },
  {
   "cell_type": "markdown",
   "id": "ae724bfc",
   "metadata": {
    "id": "ae724bfc"
   },
   "source": [
    "# Splitting of Train and the Test Data"
   ]
  },
  {
   "cell_type": "markdown",
   "id": "cb6f0264",
   "metadata": {
    "id": "cb6f0264"
   },
   "source": [
    "### You need to split the \"maindata\" columns into X and y dataframe\n",
    "\n",
    "- Note - y should have the target column i.e. \"avg_delay\" and the other column should be in X\n",
    "\n",
    "- X is going to hold the source fields and y will be going to hold the target fields"
   ]
  },
  {
   "cell_type": "code",
   "execution_count": 46,
   "id": "75ab29ab",
   "metadata": {
    "id": "75ab29ab"
   },
   "outputs": [],
   "source": [
    "X = maindata.drop(['avg_delay'],axis=1)"
   ]
  },
  {
   "cell_type": "code",
   "execution_count": 47,
   "id": "6412c62b",
   "metadata": {
    "id": "6412c62b"
   },
   "outputs": [],
   "source": [
    "y  = maindata[['avg_delay']]"
   ]
  },
  {
   "cell_type": "markdown",
   "id": "1c2942bf",
   "metadata": {
    "id": "1c2942bf"
   },
   "source": [
    "#### You are expected to split both the dataframes into train and test format in 60:40 ratio \n",
    "\n",
    "- Note - The expected output should be in \"X_train\", \"X_loc_test\", \"y_train\", \"y_loc_test\" format "
   ]
  },
  {
   "cell_type": "code",
   "execution_count": 48,
   "id": "d92160a5",
   "metadata": {
    "id": "d92160a5"
   },
   "outputs": [],
   "source": [
    "X_train,X_loc_test,y_train,y_loc_test = train_test_split(X,y,test_size=0.40,random_state=42)"
   ]
  },
  {
   "cell_type": "markdown",
   "id": "p4OME62pDufR",
   "metadata": {
    "id": "p4OME62pDufR"
   },
   "source": [
    "### Please check for the number of rows and columns of all the new dataframes (all 4)"
   ]
  },
  {
   "cell_type": "code",
   "execution_count": 49,
   "id": "48328d0a",
   "metadata": {
    "id": "48328d0a"
   },
   "outputs": [
    {
     "name": "stdout",
     "output_type": "stream",
     "text": [
      "Rows & Columns in X_train = (23494, 10)\n",
      "Rows & Columns in X_loc_test = (15664, 10)\n",
      "Rows & Columns in y_train = (23494, 1)\n",
      "Rows & Columns in y_loc_test = (15664, 1)\n"
     ]
    }
   ],
   "source": [
    "print(f\"Rows & Columns in X_train = {X_train.shape}\")\n",
    "print(f\"Rows & Columns in X_loc_test = {X_loc_test.shape}\")\n",
    "print(f\"Rows & Columns in y_train = {y_train.shape}\")\n",
    "print(f\"Rows & Columns in y_loc_test = {y_loc_test.shape}\")"
   ]
  },
  {
   "cell_type": "markdown",
   "id": "4a68ed71",
   "metadata": {
    "id": "4a68ed71"
   },
   "source": [
    "### Now you are expected to split the \"X_loc_test\" and \"y_loc_test\" dataset into \"Test\" and \"Validation\" (as the names given below) dataframe with 50:50 format \n",
    "\n",
    "- Note - The expected output should be in \"X_val\", \"X_test\", \"y_val\", \"y_test\" format"
   ]
  },
  {
   "cell_type": "code",
   "execution_count": 50,
   "id": "b56c62f2",
   "metadata": {
    "id": "b56c62f2"
   },
   "outputs": [],
   "source": [
    "X_val,X_test,y_val,y_test = train_test_split(X_loc_test,y_loc_test,test_size=0.50,random_state=51)"
   ]
  },
  {
   "cell_type": "markdown",
   "id": "bJTSAskvERH1",
   "metadata": {
    "id": "bJTSAskvERH1"
   },
   "source": [
    "### Please check for the number of rows and columns of all the 4 dataframes "
   ]
  },
  {
   "cell_type": "code",
   "execution_count": 51,
   "id": "845d7564",
   "metadata": {
    "id": "845d7564"
   },
   "outputs": [
    {
     "name": "stdout",
     "output_type": "stream",
     "text": [
      "Rows & Columns in X_val =  (7832, 10)\n",
      "Rows & Columns in X_test =  (7832, 10)\n",
      "Rows & Columns in y_val =  (7832, 1)\n",
      "Rows & Columns in y_test =  (7832, 1)\n"
     ]
    }
   ],
   "source": [
    "print(\"Rows & Columns in X_val = \", X_val.shape)\n",
    "print(\"Rows & Columns in X_test = \", X_test.shape)\n",
    "print(\"Rows & Columns in y_val = \", y_val.shape)\n",
    "print(\"Rows & Columns in y_test = \", y_test.shape)"
   ]
  },
  {
   "cell_type": "markdown",
   "id": "110fa872",
   "metadata": {
    "id": "110fa872"
   },
   "source": [
    "# Exploratory Data Analysis (EDA) "
   ]
  },
  {
   "cell_type": "markdown",
   "id": "ffc8fe0f",
   "metadata": {
    "id": "ffc8fe0f"
   },
   "source": [
    "### Distribution Plot of the target variable (use the dataframe which contains the target field)\n",
    "\n",
    "- Note - You are expected to make a distribution plot for the target variable "
   ]
  },
  {
   "cell_type": "code",
   "execution_count": 52,
   "id": "ba2bf8ed",
   "metadata": {
    "id": "ba2bf8ed"
   },
   "outputs": [
    {
     "name": "stderr",
     "output_type": "stream",
     "text": [
      "D:\\Software\\Anaconda\\lib\\site-packages\\seaborn\\distributions.py:2619: FutureWarning: `distplot` is a deprecated function and will be removed in a future version. Please adapt your code to use either `displot` (a figure-level function with similar flexibility) or `histplot` (an axes-level function for histograms).\n",
      "  warnings.warn(msg, FutureWarning)\n"
     ]
    },
    {
     "data": {
      "text/plain": [
       "<AxesSubplot:ylabel='Density'>"
      ]
     },
     "execution_count": 52,
     "metadata": {},
     "output_type": "execute_result"
    },
    {
     "data": {
      "image/png": "[encoded data removed]",
      "text/plain": [
       "<Figure size 720x360 with 1 Axes>"
      ]
     },
     "metadata": {
      "needs_background": "light"
     },
     "output_type": "display_data"
    }
   ],
   "source": [
    "plt.figure(figsize = (10,5))\n",
    "sns.distplot(y, kde = True)"
   ]
  },
  {
   "cell_type": "markdown",
   "id": "d0e323a3",
   "metadata": {
    "id": "d0e323a3"
   },
   "source": [
    "### You are expected to group the X_train dataset on 'name_customer' column with 'doc_id' in the x_train set\n",
    "\n",
    "### Need to store the outcome into a new dataframe \n",
    "\n",
    "- Note code given for groupby statement- X_train.groupby(by=['name_customer'], as_index=False)['doc_id'].count()"
   ]
  },
  {
   "cell_type": "code",
   "execution_count": 53,
   "id": "f7acf0ee",
   "metadata": {
    "id": "f7acf0ee"
   },
   "outputs": [
    {
     "data": {
      "text/html": [
       "<div>\n",
       "<style scoped>\n",
       "    .dataframe tbody tr th:only-of-type {\n",
       "        vertical-align: middle;\n",
       "    }\n",
       "\n",
       "    .dataframe tbody tr th {\n",
       "        vertical-align: top;\n",
       "    }\n",
       "\n",
       "    .dataframe thead th {\n",
       "        text-align: right;\n",
       "    }\n",
       "</style>\n",
       "<table border=\"1\" class=\"dataframe\">\n",
       "  <thead>\n",
       "    <tr style=\"text-align: right;\">\n",
       "      <th></th>\n",
       "      <th>name_customer</th>\n",
       "      <th>doc_id</th>\n",
       "    </tr>\n",
       "  </thead>\n",
       "  <tbody>\n",
       "    <tr>\n",
       "      <th>0</th>\n",
       "      <td>11078 us</td>\n",
       "      <td>1</td>\n",
       "    </tr>\n",
       "    <tr>\n",
       "      <th>1</th>\n",
       "      <td>17135 llc</td>\n",
       "      <td>1</td>\n",
       "    </tr>\n",
       "    <tr>\n",
       "      <th>2</th>\n",
       "      <td>99 CE</td>\n",
       "      <td>1</td>\n",
       "    </tr>\n",
       "    <tr>\n",
       "      <th>3</th>\n",
       "      <td>99 CE associates</td>\n",
       "      <td>1</td>\n",
       "    </tr>\n",
       "    <tr>\n",
       "      <th>4</th>\n",
       "      <td>99 CE co</td>\n",
       "      <td>1</td>\n",
       "    </tr>\n",
       "    <tr>\n",
       "      <th>...</th>\n",
       "      <td>...</td>\n",
       "      <td>...</td>\n",
       "    </tr>\n",
       "    <tr>\n",
       "      <th>3070</th>\n",
       "      <td>YEN BROS co</td>\n",
       "      <td>1</td>\n",
       "    </tr>\n",
       "    <tr>\n",
       "      <th>3071</th>\n",
       "      <td>YEN BROS corporation</td>\n",
       "      <td>2</td>\n",
       "    </tr>\n",
       "    <tr>\n",
       "      <th>3072</th>\n",
       "      <td>YEN BROS llc</td>\n",
       "      <td>1</td>\n",
       "    </tr>\n",
       "    <tr>\n",
       "      <th>3073</th>\n",
       "      <td>ZARCO co</td>\n",
       "      <td>1</td>\n",
       "    </tr>\n",
       "    <tr>\n",
       "      <th>3074</th>\n",
       "      <td>ZIYAD  us</td>\n",
       "      <td>1</td>\n",
       "    </tr>\n",
       "  </tbody>\n",
       "</table>\n",
       "<p>3075 rows × 2 columns</p>\n",
       "</div>"
      ],
      "text/plain": [
       "             name_customer  doc_id\n",
       "0                 11078 us       1\n",
       "1                17135 llc       1\n",
       "2                   99 CE        1\n",
       "3         99 CE associates       1\n",
       "4                 99 CE co       1\n",
       "...                    ...     ...\n",
       "3070           YEN BROS co       1\n",
       "3071  YEN BROS corporation       2\n",
       "3072          YEN BROS llc       1\n",
       "3073              ZARCO co       1\n",
       "3074             ZIYAD  us       1\n",
       "\n",
       "[3075 rows x 2 columns]"
      ]
     },
     "execution_count": 53,
     "metadata": {},
     "output_type": "execute_result"
    }
   ],
   "source": [
    "X_train.groupby(by=['name_customer'], as_index=False)['doc_id'].count()"
   ]
  },
  {
   "cell_type": "markdown",
   "id": "cA43bFffFt6i",
   "metadata": {
    "id": "cA43bFffFt6i"
   },
   "source": [
    "### You can make another distribution plot of the \"doc_id\" column from x_train"
   ]
  },
  {
   "cell_type": "code",
   "execution_count": 54,
   "id": "9576bf33",
   "metadata": {
    "id": "9576bf33"
   },
   "outputs": [
    {
     "name": "stderr",
     "output_type": "stream",
     "text": [
      "D:\\Software\\Anaconda\\lib\\site-packages\\seaborn\\distributions.py:2619: FutureWarning: `distplot` is a deprecated function and will be removed in a future version. Please adapt your code to use either `displot` (a figure-level function with similar flexibility) or `histplot` (an axes-level function for histograms).\n",
      "  warnings.warn(msg, FutureWarning)\n"
     ]
    },
    {
     "data": {
      "text/plain": [
       "<AxesSubplot:xlabel='doc_id', ylabel='Density'>"
      ]
     },
     "execution_count": 54,
     "metadata": {},
     "output_type": "execute_result"
    },
    {
     "data": {
      "image/png": "[encoded data removed]",
      "text/plain": [
       "<Figure size 720x360 with 1 Axes>"
      ]
     },
     "metadata": {
      "needs_background": "light"
     },
     "output_type": "display_data"
    }
   ],
   "source": [
    "plt.figure(figsize = (10,5))\n",
    "sns.distplot(X_train['doc_id'])"
   ]
  },
  {
   "cell_type": "markdown",
   "id": "fba2c44f",
   "metadata": {
    "id": "fba2c44f"
   },
   "source": [
    "#### Create a Distribution plot only for business_year and a seperate distribution plot of \"business_year\" column along with the doc_id\" column\n"
   ]
  },
  {
   "cell_type": "code",
   "execution_count": 55,
   "id": "4fecec77",
   "metadata": {
    "id": "4fecec77"
   },
   "outputs": [
    {
     "name": "stderr",
     "output_type": "stream",
     "text": [
      "D:\\Software\\Anaconda\\lib\\site-packages\\seaborn\\distributions.py:2619: FutureWarning: `distplot` is a deprecated function and will be removed in a future version. Please adapt your code to use either `displot` (a figure-level function with similar flexibility) or `histplot` (an axes-level function for histograms).\n",
      "  warnings.warn(msg, FutureWarning)\n"
     ]
    },
    {
     "data": {
      "text/plain": [
       "<AxesSubplot:xlabel='buisness_year', ylabel='Density'>"
      ]
     },
     "execution_count": 55,
     "metadata": {},
     "output_type": "execute_result"
    },
    {
     "data": {
      "image/png": "[encoded data removed]",
      "text/plain": [
       "<Figure size 720x360 with 1 Axes>"
      ]
     },
     "metadata": {
      "needs_background": "light"
     },
     "output_type": "display_data"
    }
   ],
   "source": [
    "plt.figure(figsize = (10,5))\n",
    "sns.distplot(X_train['buisness_year'], kde = True)"
   ]
  },
  {
   "cell_type": "code",
   "execution_count": 56,
   "id": "qr1jGhfOKjnw",
   "metadata": {
    "id": "qr1jGhfOKjnw"
   },
   "outputs": [
    {
     "name": "stderr",
     "output_type": "stream",
     "text": [
      "D:\\Software\\Anaconda\\lib\\site-packages\\seaborn\\distributions.py:2619: FutureWarning: `distplot` is a deprecated function and will be removed in a future version. Please adapt your code to use either `displot` (a figure-level function with similar flexibility) or `histplot` (an axes-level function for histograms).\n",
      "  warnings.warn(msg, FutureWarning)\n"
     ]
    },
    {
     "data": {
      "image/png": "[encoded data removed]",
      "text/plain": [
       "<Figure size 576x360 with 1 Axes>"
      ]
     },
     "metadata": {},
     "output_type": "display_data"
    }
   ],
   "source": [
    "sns.set(style='whitegrid', palette=\"deep\", font_scale=1.1, rc={\"figure.figsize\": [8, 5]})\n",
    "sns.distplot(\n",
    "    X_train['buisness_year'], norm_hist=False, kde=False, bins=20, hist_kws={\"alpha\": 1}\n",
    ").set(xlabel='Sale Price', ylabel='Count');"
   ]
  },
  {
   "cell_type": "markdown",
   "id": "968fbcc9",
   "metadata": {
    "id": "968fbcc9"
   },
   "source": [
    "# Feature Engineering "
   ]
  },
  {
   "cell_type": "markdown",
   "id": "jbh6CyGqH3XE",
   "metadata": {
    "id": "jbh6CyGqH3XE"
   },
   "source": [
    "### Display and describe the X_train dataframe "
   ]
  },
  {
   "cell_type": "code",
   "execution_count": 57,
   "id": "e6bcf307",
   "metadata": {
    "id": "e6bcf307"
   },
   "outputs": [
    {
     "data": {
      "text/html": [
       "<div>\n",
       "<style scoped>\n",
       "    .dataframe tbody tr th:only-of-type {\n",
       "        vertical-align: middle;\n",
       "    }\n",
       "\n",
       "    .dataframe tbody tr th {\n",
       "        vertical-align: top;\n",
       "    }\n",
       "\n",
       "    .dataframe thead th {\n",
       "        text-align: right;\n",
       "    }\n",
       "</style>\n",
       "<table border=\"1\" class=\"dataframe\">\n",
       "  <thead>\n",
       "    <tr style=\"text-align: right;\">\n",
       "      <th></th>\n",
       "      <th>business_code</th>\n",
       "      <th>cust_number</th>\n",
       "      <th>name_customer</th>\n",
       "      <th>buisness_year</th>\n",
       "      <th>doc_id</th>\n",
       "      <th>posting_date</th>\n",
       "      <th>due_in_date</th>\n",
       "      <th>baseline_create_date</th>\n",
       "      <th>cust_payment_terms</th>\n",
       "      <th>converted_usd</th>\n",
       "    </tr>\n",
       "  </thead>\n",
       "  <tbody>\n",
       "    <tr>\n",
       "      <th>44556</th>\n",
       "      <td>U001</td>\n",
       "      <td>0200756072</td>\n",
       "      <td>REINHA corp</td>\n",
       "      <td>2019.0</td>\n",
       "      <td>1.929516e+09</td>\n",
       "      <td>2019-06-20</td>\n",
       "      <td>2019-07-05</td>\n",
       "      <td>2019-06-20</td>\n",
       "      <td>NAA8</td>\n",
       "      <td>54315.10</td>\n",
       "    </tr>\n",
       "    <tr>\n",
       "      <th>36713</th>\n",
       "      <td>U001</td>\n",
       "      <td>0200776463</td>\n",
       "      <td>KROGE corp</td>\n",
       "      <td>2020.0</td>\n",
       "      <td>1.930432e+09</td>\n",
       "      <td>2020-01-23</td>\n",
       "      <td>2020-02-07</td>\n",
       "      <td>2020-01-23</td>\n",
       "      <td>NAA8</td>\n",
       "      <td>52725.92</td>\n",
       "    </tr>\n",
       "    <tr>\n",
       "      <th>2639</th>\n",
       "      <td>U001</td>\n",
       "      <td>0200794332</td>\n",
       "      <td>COST systems</td>\n",
       "      <td>2019.0</td>\n",
       "      <td>1.928699e+09</td>\n",
       "      <td>2019-01-30</td>\n",
       "      <td>2019-02-14</td>\n",
       "      <td>2019-01-30</td>\n",
       "      <td>NAAX</td>\n",
       "      <td>21126.47</td>\n",
       "    </tr>\n",
       "    <tr>\n",
       "      <th>49682</th>\n",
       "      <td>U001</td>\n",
       "      <td>0200780383</td>\n",
       "      <td>MEIJ foundation</td>\n",
       "      <td>2020.0</td>\n",
       "      <td>1.930341e+09</td>\n",
       "      <td>2019-12-31</td>\n",
       "      <td>2020-01-15</td>\n",
       "      <td>2019-12-31</td>\n",
       "      <td>NAA8</td>\n",
       "      <td>143649.72</td>\n",
       "    </tr>\n",
       "    <tr>\n",
       "      <th>45201</th>\n",
       "      <td>U001</td>\n",
       "      <td>0200769623</td>\n",
       "      <td>WAL-MAR foundation</td>\n",
       "      <td>2019.0</td>\n",
       "      <td>1.929881e+09</td>\n",
       "      <td>2019-09-17</td>\n",
       "      <td>2019-10-02</td>\n",
       "      <td>2019-09-17</td>\n",
       "      <td>NAH4</td>\n",
       "      <td>14864.00</td>\n",
       "    </tr>\n",
       "    <tr>\n",
       "      <th>...</th>\n",
       "      <td>...</td>\n",
       "      <td>...</td>\n",
       "      <td>...</td>\n",
       "      <td>...</td>\n",
       "      <td>...</td>\n",
       "      <td>...</td>\n",
       "      <td>...</td>\n",
       "      <td>...</td>\n",
       "      <td>...</td>\n",
       "      <td>...</td>\n",
       "    </tr>\n",
       "    <tr>\n",
       "      <th>7745</th>\n",
       "      <td>U013</td>\n",
       "      <td>0140103699</td>\n",
       "      <td>L&amp;E IN</td>\n",
       "      <td>2019.0</td>\n",
       "      <td>1.991835e+09</td>\n",
       "      <td>2019-11-15</td>\n",
       "      <td>2019-12-15</td>\n",
       "      <td>2019-11-15</td>\n",
       "      <td>NAVE</td>\n",
       "      <td>20131.46</td>\n",
       "    </tr>\n",
       "    <tr>\n",
       "      <th>14076</th>\n",
       "      <td>U001</td>\n",
       "      <td>0200900909</td>\n",
       "      <td>SYSCO co</td>\n",
       "      <td>2019.0</td>\n",
       "      <td>1.929117e+09</td>\n",
       "      <td>2019-04-12</td>\n",
       "      <td>2019-04-27</td>\n",
       "      <td>2019-04-12</td>\n",
       "      <td>NAA8</td>\n",
       "      <td>2363.61</td>\n",
       "    </tr>\n",
       "    <tr>\n",
       "      <th>48693</th>\n",
       "      <td>U001</td>\n",
       "      <td>0200769623</td>\n",
       "      <td>WAL-MAR trust</td>\n",
       "      <td>2020.0</td>\n",
       "      <td>1.930413e+09</td>\n",
       "      <td>2020-01-20</td>\n",
       "      <td>2020-02-04</td>\n",
       "      <td>2020-01-20</td>\n",
       "      <td>NAH4</td>\n",
       "      <td>6663.73</td>\n",
       "    </tr>\n",
       "    <tr>\n",
       "      <th>1054</th>\n",
       "      <td>U001</td>\n",
       "      <td>0200764795</td>\n",
       "      <td>SYSCO  associates</td>\n",
       "      <td>2019.0</td>\n",
       "      <td>1.929948e+09</td>\n",
       "      <td>2019-10-03</td>\n",
       "      <td>2019-10-18</td>\n",
       "      <td>2019-10-03</td>\n",
       "      <td>NAA8</td>\n",
       "      <td>3010.12</td>\n",
       "    </tr>\n",
       "    <tr>\n",
       "      <th>19783</th>\n",
       "      <td>U001</td>\n",
       "      <td>0200803720</td>\n",
       "      <td>DEC in</td>\n",
       "      <td>2019.0</td>\n",
       "      <td>1.928590e+09</td>\n",
       "      <td>2019-01-08</td>\n",
       "      <td>2019-01-08</td>\n",
       "      <td>2019-01-01</td>\n",
       "      <td>NAM1</td>\n",
       "      <td>4524.65</td>\n",
       "    </tr>\n",
       "  </tbody>\n",
       "</table>\n",
       "<p>23494 rows × 10 columns</p>\n",
       "</div>"
      ],
      "text/plain": [
       "      business_code cust_number       name_customer  buisness_year  \\\n",
       "44556          U001  0200756072         REINHA corp         2019.0   \n",
       "36713          U001  0200776463          KROGE corp         2020.0   \n",
       "2639           U001  0200794332        COST systems         2019.0   \n",
       "49682          U001  0200780383     MEIJ foundation         2020.0   \n",
       "45201          U001  0200769623  WAL-MAR foundation         2019.0   \n",
       "...             ...         ...                 ...            ...   \n",
       "7745           U013  0140103699             L&E IN          2019.0   \n",
       "14076          U001  0200900909            SYSCO co         2019.0   \n",
       "48693          U001  0200769623       WAL-MAR trust         2020.0   \n",
       "1054           U001  0200764795   SYSCO  associates         2019.0   \n",
       "19783          U001  0200803720              DEC in         2019.0   \n",
       "\n",
       "             doc_id posting_date due_in_date baseline_create_date  \\\n",
       "44556  1.929516e+09   2019-06-20  2019-07-05           2019-06-20   \n",
       "36713  1.930432e+09   2020-01-23  2020-02-07           2020-01-23   \n",
       "2639   1.928699e+09   2019-01-30  2019-02-14           2019-01-30   \n",
       "49682  1.930341e+09   2019-12-31  2020-01-15           2019-12-31   \n",
       "45201  1.929881e+09   2019-09-17  2019-10-02           2019-09-17   \n",
       "...             ...          ...         ...                  ...   \n",
       "7745   1.991835e+09   2019-11-15  2019-12-15           2019-11-15   \n",
       "14076  1.929117e+09   2019-04-12  2019-04-27           2019-04-12   \n",
       "48693  1.930413e+09   2020-01-20  2020-02-04           2020-01-20   \n",
       "1054   1.929948e+09   2019-10-03  2019-10-18           2019-10-03   \n",
       "19783  1.928590e+09   2019-01-08  2019-01-08           2019-01-01   \n",
       "\n",
       "      cust_payment_terms  converted_usd  \n",
       "44556               NAA8       54315.10  \n",
       "36713               NAA8       52725.92  \n",
       "2639                NAAX       21126.47  \n",
       "49682               NAA8      143649.72  \n",
       "45201               NAH4       14864.00  \n",
       "...                  ...            ...  \n",
       "7745                NAVE       20131.46  \n",
       "14076               NAA8        2363.61  \n",
       "48693               NAH4        6663.73  \n",
       "1054                NAA8        3010.12  \n",
       "19783               NAM1        4524.65  \n",
       "\n",
       "[23494 rows x 10 columns]"
      ]
     },
     "execution_count": 57,
     "metadata": {},
     "output_type": "execute_result"
    }
   ],
   "source": [
    "X_train"
   ]
  },
  {
   "cell_type": "code",
   "execution_count": 58,
   "id": "08ccc819",
   "metadata": {
    "id": "08ccc819"
   },
   "outputs": [
    {
     "data": {
      "text/html": [
       "<div>\n",
       "<style scoped>\n",
       "    .dataframe tbody tr th:only-of-type {\n",
       "        vertical-align: middle;\n",
       "    }\n",
       "\n",
       "    .dataframe tbody tr th {\n",
       "        vertical-align: top;\n",
       "    }\n",
       "\n",
       "    .dataframe thead th {\n",
       "        text-align: right;\n",
       "    }\n",
       "</style>\n",
       "<table border=\"1\" class=\"dataframe\">\n",
       "  <thead>\n",
       "    <tr style=\"text-align: right;\">\n",
       "      <th></th>\n",
       "      <th>buisness_year</th>\n",
       "      <th>doc_id</th>\n",
       "      <th>converted_usd</th>\n",
       "    </tr>\n",
       "  </thead>\n",
       "  <tbody>\n",
       "    <tr>\n",
       "      <th>count</th>\n",
       "      <td>23494.000000</td>\n",
       "      <td>2.349400e+04</td>\n",
       "      <td>23494.000000</td>\n",
       "    </tr>\n",
       "    <tr>\n",
       "      <th>mean</th>\n",
       "      <td>2019.134077</td>\n",
       "      <td>2.011913e+09</td>\n",
       "      <td>30618.192289</td>\n",
       "    </tr>\n",
       "    <tr>\n",
       "      <th>std</th>\n",
       "      <td>0.340742</td>\n",
       "      <td>2.852458e+08</td>\n",
       "      <td>36500.609654</td>\n",
       "    </tr>\n",
       "    <tr>\n",
       "      <th>min</th>\n",
       "      <td>2019.000000</td>\n",
       "      <td>1.928502e+09</td>\n",
       "      <td>0.790000</td>\n",
       "    </tr>\n",
       "    <tr>\n",
       "      <th>25%</th>\n",
       "      <td>2019.000000</td>\n",
       "      <td>1.929174e+09</td>\n",
       "      <td>4569.665750</td>\n",
       "    </tr>\n",
       "    <tr>\n",
       "      <th>50%</th>\n",
       "      <td>2019.000000</td>\n",
       "      <td>1.929732e+09</td>\n",
       "      <td>16795.265000</td>\n",
       "    </tr>\n",
       "    <tr>\n",
       "      <th>75%</th>\n",
       "      <td>2019.000000</td>\n",
       "      <td>1.930209e+09</td>\n",
       "      <td>45472.520500</td>\n",
       "    </tr>\n",
       "    <tr>\n",
       "      <th>max</th>\n",
       "      <td>2020.000000</td>\n",
       "      <td>9.500000e+09</td>\n",
       "      <td>668593.360000</td>\n",
       "    </tr>\n",
       "  </tbody>\n",
       "</table>\n",
       "</div>"
      ],
      "text/plain": [
       "       buisness_year        doc_id  converted_usd\n",
       "count   23494.000000  2.349400e+04   23494.000000\n",
       "mean     2019.134077  2.011913e+09   30618.192289\n",
       "std         0.340742  2.852458e+08   36500.609654\n",
       "min      2019.000000  1.928502e+09       0.790000\n",
       "25%      2019.000000  1.929174e+09    4569.665750\n",
       "50%      2019.000000  1.929732e+09   16795.265000\n",
       "75%      2019.000000  1.930209e+09   45472.520500\n",
       "max      2020.000000  9.500000e+09  668593.360000"
      ]
     },
     "execution_count": 58,
     "metadata": {},
     "output_type": "execute_result"
    }
   ],
   "source": [
    "X_train.describe()"
   ]
  },
  {
   "cell_type": "markdown",
   "id": "abd7ac8b",
   "metadata": {
    "id": "abd7ac8b"
   },
   "source": [
    "#### The \"business_code\" column inside X_train, is a categorical column, so you need to perform Labelencoder on that particular column\n",
    "\n",
    "- Note - call the Label Encoder from sklearn library and use the fit() function on \"business_code\" column\n",
    "- Note - Please fill in the blanks (two) to complete this code"
   ]
  },
  {
   "cell_type": "code",
   "execution_count": 59,
   "id": "7c223545",
   "metadata": {
    "id": "7c223545"
   },
   "outputs": [
    {
     "data": {
      "text/plain": [
       "LabelEncoder()"
      ]
     },
     "execution_count": 59,
     "metadata": {},
     "output_type": "execute_result"
    }
   ],
   "source": [
    "from sklearn.preprocessing import LabelEncoder\n",
    "business_coder = LabelEncoder()\n",
    "business_coder.fit(X_train['business_code'])"
   ]
  },
  {
   "cell_type": "markdown",
   "id": "f86f7d9c",
   "metadata": {
    "id": "f86f7d9c"
   },
   "source": [
    "#### You are expected to store the value into a new column i.e. \"business_code_enc\"\n",
    "\n",
    "- Note - For Training set you are expected to use fit_trainsform()\n",
    "- Note - For Test set you are expected to use the trainsform()\n",
    "- Note - For Validation set you are expected to use the trainsform()\n",
    "\n",
    "\n",
    "- Partial code is provided, please fill in the blanks "
   ]
  },
  {
   "cell_type": "code",
   "execution_count": 60,
   "id": "4269c307",
   "metadata": {
    "id": "4269c307"
   },
   "outputs": [
    {
     "name": "stderr",
     "output_type": "stream",
     "text": [
      "C:\\Users\\91981\\AppData\\Local\\Temp/ipykernel_10416/2646772204.py:1: SettingWithCopyWarning: \n",
      "A value is trying to be set on a copy of a slice from a DataFrame.\n",
      "Try using .loc[row_indexer,col_indexer] = value instead\n",
      "\n",
      "See the caveats in the documentation: https://pandas.pydata.org/pandas-docs/stable/user_guide/indexing.html#returning-a-view-versus-a-copy\n",
      "  X_train['business_code_enc'] = business_coder.fit_transform(X_train['business_code'])\n"
     ]
    }
   ],
   "source": [
    "X_train['business_code_enc'] = business_coder.fit_transform(X_train['business_code'])"
   ]
  },
  {
   "cell_type": "code",
   "execution_count": 61,
   "id": "70a53712",
   "metadata": {
    "id": "70a53712"
   },
   "outputs": [
    {
     "name": "stderr",
     "output_type": "stream",
     "text": [
      "C:\\Users\\91981\\AppData\\Local\\Temp/ipykernel_10416/4097299337.py:1: SettingWithCopyWarning: \n",
      "A value is trying to be set on a copy of a slice from a DataFrame.\n",
      "Try using .loc[row_indexer,col_indexer] = value instead\n",
      "\n",
      "See the caveats in the documentation: https://pandas.pydata.org/pandas-docs/stable/user_guide/indexing.html#returning-a-view-versus-a-copy\n",
      "  X_val['business_code_enc'] = business_coder.transform(X_val['business_code'])\n",
      "C:\\Users\\91981\\AppData\\Local\\Temp/ipykernel_10416/4097299337.py:2: SettingWithCopyWarning: \n",
      "A value is trying to be set on a copy of a slice from a DataFrame.\n",
      "Try using .loc[row_indexer,col_indexer] = value instead\n",
      "\n",
      "See the caveats in the documentation: https://pandas.pydata.org/pandas-docs/stable/user_guide/indexing.html#returning-a-view-versus-a-copy\n",
      "  X_test['business_code_enc'] = business_coder.transform(X_test['business_code'])\n"
     ]
    }
   ],
   "source": [
    "X_val['business_code_enc'] = business_coder.transform(X_val['business_code'])\n",
    "X_test['business_code_enc'] = business_coder.transform(X_test['business_code'])"
   ]
  },
  {
   "cell_type": "markdown",
   "id": "gdNYxTkqNfmz",
   "metadata": {
    "id": "gdNYxTkqNfmz"
   },
   "source": [
    "### Display \"business_code\" and \"business_code_enc\" together from X_train dataframe "
   ]
  },
  {
   "cell_type": "code",
   "execution_count": 62,
   "id": "1196a002",
   "metadata": {
    "id": "1196a002"
   },
   "outputs": [
    {
     "data": {
      "text/html": [
       "<div>\n",
       "<style scoped>\n",
       "    .dataframe tbody tr th:only-of-type {\n",
       "        vertical-align: middle;\n",
       "    }\n",
       "\n",
       "    .dataframe tbody tr th {\n",
       "        vertical-align: top;\n",
       "    }\n",
       "\n",
       "    .dataframe thead th {\n",
       "        text-align: right;\n",
       "    }\n",
       "</style>\n",
       "<table border=\"1\" class=\"dataframe\">\n",
       "  <thead>\n",
       "    <tr style=\"text-align: right;\">\n",
       "      <th></th>\n",
       "      <th>business_code</th>\n",
       "      <th>business_code_enc</th>\n",
       "    </tr>\n",
       "  </thead>\n",
       "  <tbody>\n",
       "    <tr>\n",
       "      <th>44556</th>\n",
       "      <td>U001</td>\n",
       "      <td>1</td>\n",
       "    </tr>\n",
       "    <tr>\n",
       "      <th>36713</th>\n",
       "      <td>U001</td>\n",
       "      <td>1</td>\n",
       "    </tr>\n",
       "    <tr>\n",
       "      <th>2639</th>\n",
       "      <td>U001</td>\n",
       "      <td>1</td>\n",
       "    </tr>\n",
       "    <tr>\n",
       "      <th>49682</th>\n",
       "      <td>U001</td>\n",
       "      <td>1</td>\n",
       "    </tr>\n",
       "    <tr>\n",
       "      <th>45201</th>\n",
       "      <td>U001</td>\n",
       "      <td>1</td>\n",
       "    </tr>\n",
       "    <tr>\n",
       "      <th>...</th>\n",
       "      <td>...</td>\n",
       "      <td>...</td>\n",
       "    </tr>\n",
       "    <tr>\n",
       "      <th>7745</th>\n",
       "      <td>U013</td>\n",
       "      <td>5</td>\n",
       "    </tr>\n",
       "    <tr>\n",
       "      <th>14076</th>\n",
       "      <td>U001</td>\n",
       "      <td>1</td>\n",
       "    </tr>\n",
       "    <tr>\n",
       "      <th>48693</th>\n",
       "      <td>U001</td>\n",
       "      <td>1</td>\n",
       "    </tr>\n",
       "    <tr>\n",
       "      <th>1054</th>\n",
       "      <td>U001</td>\n",
       "      <td>1</td>\n",
       "    </tr>\n",
       "    <tr>\n",
       "      <th>19783</th>\n",
       "      <td>U001</td>\n",
       "      <td>1</td>\n",
       "    </tr>\n",
       "  </tbody>\n",
       "</table>\n",
       "<p>23494 rows × 2 columns</p>\n",
       "</div>"
      ],
      "text/plain": [
       "      business_code  business_code_enc\n",
       "44556          U001                  1\n",
       "36713          U001                  1\n",
       "2639           U001                  1\n",
       "49682          U001                  1\n",
       "45201          U001                  1\n",
       "...             ...                ...\n",
       "7745           U013                  5\n",
       "14076          U001                  1\n",
       "48693          U001                  1\n",
       "1054           U001                  1\n",
       "19783          U001                  1\n",
       "\n",
       "[23494 rows x 2 columns]"
      ]
     },
     "execution_count": 62,
     "metadata": {},
     "output_type": "execute_result"
    }
   ],
   "source": [
    "X_train[['business_code','business_code_enc']]"
   ]
  },
  {
   "cell_type": "markdown",
   "id": "11477224",
   "metadata": {
    "id": "11477224"
   },
   "source": [
    "#### Create a function called \"custom\" for dropping the columns 'business_code' from train, test and validation dataframe\n",
    "\n",
    "- Note - Fill in the blank to complete the code"
   ]
  },
  {
   "cell_type": "code",
   "execution_count": 63,
   "id": "1052868a",
   "metadata": {
    "id": "1052868a"
   },
   "outputs": [],
   "source": [
    "def custom(col ,traindf = X_train,valdf = X_val,testdf = X_test):\n",
    "    traindf.drop(col, axis =1,inplace=True)\n",
    "    valdf.drop(col,axis=1 , inplace=True)\n",
    "    testdf.drop(col,axis=1 , inplace=True)\n",
    "\n",
    "    return traindf,valdf ,testdf"
   ]
  },
  {
   "cell_type": "markdown",
   "id": "rI--ZuMbNLne",
   "metadata": {
    "id": "rI--ZuMbNLne"
   },
   "source": [
    "### Call the function by passing the column name which needed to be dropped from train, test and validation dataframes. Return updated dataframes to be stored in X_train ,X_val, X_test  \n",
    "\n",
    "- Note = Fill in the blank to complete the code "
   ]
  },
  {
   "cell_type": "code",
   "execution_count": 64,
   "id": "1a0f955c",
   "metadata": {
    "id": "1a0f955c"
   },
   "outputs": [
    {
     "name": "stderr",
     "output_type": "stream",
     "text": [
      "D:\\Software\\Anaconda\\lib\\site-packages\\pandas\\core\\frame.py:4906: SettingWithCopyWarning: \n",
      "A value is trying to be set on a copy of a slice from a DataFrame\n",
      "\n",
      "See the caveats in the documentation: https://pandas.pydata.org/pandas-docs/stable/user_guide/indexing.html#returning-a-view-versus-a-copy\n",
      "  return super().drop(\n"
     ]
    }
   ],
   "source": [
    "X_train , X_val , X_test = custom(['business_code'])"
   ]
  },
  {
   "cell_type": "markdown",
   "id": "28b5b27e",
   "metadata": {
    "id": "28b5b27e"
   },
   "source": [
    "### Manually replacing str values with numbers, Here we are trying manually replace the customer numbers with some specific values like, 'CCCA' as 1, 'CCU' as 2 and so on. Also we are converting the datatype \"cust_number\" field to int type.\n",
    "\n",
    "- We are doing it for all the three dataframes as shown below. This is fully completed code. No need to modify anything here \n",
    "\n"
   ]
  },
  {
   "cell_type": "code",
   "execution_count": 65,
   "id": "85dd129e",
   "metadata": {
    "id": "85dd129e"
   },
   "outputs": [
    {
     "name": "stderr",
     "output_type": "stream",
     "text": [
      "C:\\Users\\91981\\AppData\\Local\\Temp/ipykernel_10416/253340678.py:1: SettingWithCopyWarning: \n",
      "A value is trying to be set on a copy of a slice from a DataFrame.\n",
      "Try using .loc[row_indexer,col_indexer] = value instead\n",
      "\n",
      "See the caveats in the documentation: https://pandas.pydata.org/pandas-docs/stable/user_guide/indexing.html#returning-a-view-versus-a-copy\n",
      "  X_train['cust_number'] = X_train['cust_number'].str.replace('CCCA',\"1\").str.replace('CCU',\"2\").str.replace('CC',\"3\").astype(int)\n",
      "C:\\Users\\91981\\AppData\\Local\\Temp/ipykernel_10416/253340678.py:2: SettingWithCopyWarning: \n",
      "A value is trying to be set on a copy of a slice from a DataFrame.\n",
      "Try using .loc[row_indexer,col_indexer] = value instead\n",
      "\n",
      "See the caveats in the documentation: https://pandas.pydata.org/pandas-docs/stable/user_guide/indexing.html#returning-a-view-versus-a-copy\n",
      "  X_test['cust_number'] = X_test['cust_number'].str.replace('CCCA',\"1\").str.replace('CCU',\"2\").str.replace('CC',\"3\").astype(int)\n",
      "C:\\Users\\91981\\AppData\\Local\\Temp/ipykernel_10416/253340678.py:3: SettingWithCopyWarning: \n",
      "A value is trying to be set on a copy of a slice from a DataFrame.\n",
      "Try using .loc[row_indexer,col_indexer] = value instead\n",
      "\n",
      "See the caveats in the documentation: https://pandas.pydata.org/pandas-docs/stable/user_guide/indexing.html#returning-a-view-versus-a-copy\n",
      "  X_val['cust_number'] = X_val['cust_number'].str.replace('CCCA',\"1\").str.replace('CCU',\"2\").str.replace('CC',\"3\").astype(int)\n"
     ]
    }
   ],
   "source": [
    "X_train['cust_number'] = X_train['cust_number'].str.replace('CCCA',\"1\").str.replace('CCU',\"2\").str.replace('CC',\"3\").astype(int)\n",
    "X_test['cust_number'] = X_test['cust_number'].str.replace('CCCA',\"1\").str.replace('CCU',\"2\").str.replace('CC',\"3\").astype(int)\n",
    "X_val['cust_number'] = X_val['cust_number'].str.replace('CCCA',\"1\").str.replace('CCU',\"2\").str.replace('CC',\"3\").astype(int)"
   ]
  },
  {
   "cell_type": "markdown",
   "id": "U8vA-zmdPnJ8",
   "metadata": {
    "id": "U8vA-zmdPnJ8"
   },
   "source": [
    "#### It differs from LabelEncoder by handling new classes and providing a value for it [Unknown]. Unknown will be added in fit and transform will take care of new item. It gives unknown class id.\n",
    "\n",
    "#### This will fit the encoder for all the unique values and introduce unknown value\n",
    "\n",
    "- Note - Keep this code as it is, we will be using this later on.  "
   ]
  },
  {
   "cell_type": "code",
   "execution_count": 66,
   "id": "151f48ba",
   "metadata": {
    "id": "151f48ba"
   },
   "outputs": [],
   "source": [
    "#For encoding unseen labels\n",
    "class EncoderExt(object):\n",
    "    def __init__(self):\n",
    "        self.label_encoder = LabelEncoder()\n",
    "    def fit(self, data_list):\n",
    "        self.label_encoder = self.label_encoder.fit(list(data_list) + ['Unknown'])\n",
    "        self.classes_ = self.label_encoder.classes_\n",
    "        return self\n",
    "    def transform(self, data_list):\n",
    "        new_data_list = list(data_list)\n",
    "        for unique_item in np.unique(data_list):\n",
    "            if unique_item not in self.label_encoder.classes_:\n",
    "                new_data_list = ['Unknown' if x==unique_item else x for x in new_data_list]\n",
    "        return self.label_encoder.transform(new_data_list)"
   ]
  },
  {
   "cell_type": "markdown",
   "id": "254c64e6",
   "metadata": {
    "id": "254c64e6"
   },
   "source": [
    "### Use the user define Label Encoder function called \"EncoderExt\" for the \"name_customer\" column\n",
    "\n",
    "- Note - Keep the code as it is, no need to change"
   ]
  },
  {
   "cell_type": "code",
   "execution_count": 67,
   "id": "62b17eff",
   "metadata": {
    "id": "62b17eff"
   },
   "outputs": [
    {
     "name": "stderr",
     "output_type": "stream",
     "text": [
      "C:\\Users\\91981\\AppData\\Local\\Temp/ipykernel_10416/1721247874.py:3: SettingWithCopyWarning: \n",
      "A value is trying to be set on a copy of a slice from a DataFrame.\n",
      "Try using .loc[row_indexer,col_indexer] = value instead\n",
      "\n",
      "See the caveats in the documentation: https://pandas.pydata.org/pandas-docs/stable/user_guide/indexing.html#returning-a-view-versus-a-copy\n",
      "  X_train['name_customer_enc']=label_encoder.transform(X_train['name_customer'])\n",
      "C:\\Users\\91981\\AppData\\Local\\Temp/ipykernel_10416/1721247874.py:4: SettingWithCopyWarning: \n",
      "A value is trying to be set on a copy of a slice from a DataFrame.\n",
      "Try using .loc[row_indexer,col_indexer] = value instead\n",
      "\n",
      "See the caveats in the documentation: https://pandas.pydata.org/pandas-docs/stable/user_guide/indexing.html#returning-a-view-versus-a-copy\n",
      "  X_val['name_customer_enc']=label_encoder.transform(X_val['name_customer'])\n",
      "C:\\Users\\91981\\AppData\\Local\\Temp/ipykernel_10416/1721247874.py:5: SettingWithCopyWarning: \n",
      "A value is trying to be set on a copy of a slice from a DataFrame.\n",
      "Try using .loc[row_indexer,col_indexer] = value instead\n",
      "\n",
      "See the caveats in the documentation: https://pandas.pydata.org/pandas-docs/stable/user_guide/indexing.html#returning-a-view-versus-a-copy\n",
      "  X_test['name_customer_enc']=label_encoder.transform(X_test['name_customer'])\n"
     ]
    }
   ],
   "source": [
    "label_encoder = EncoderExt()\n",
    "label_encoder.fit(X_train['name_customer'])\n",
    "X_train['name_customer_enc']=label_encoder.transform(X_train['name_customer'])\n",
    "X_val['name_customer_enc']=label_encoder.transform(X_val['name_customer'])\n",
    "X_test['name_customer_enc']=label_encoder.transform(X_test['name_customer'])"
   ]
  },
  {
   "cell_type": "markdown",
   "id": "mK7LMoy2QZhy",
   "metadata": {
    "id": "mK7LMoy2QZhy"
   },
   "source": [
    "### As we have created the a new column \"name_customer_enc\", so now drop \"name_customer\" column from all three dataframes\n",
    "\n",
    "- Note - Keep the code as it is, no need to change"
   ]
  },
  {
   "cell_type": "code",
   "execution_count": 68,
   "id": "ef85f1c0",
   "metadata": {
    "id": "ef85f1c0"
   },
   "outputs": [],
   "source": [
    "X_train ,X_val, X_test = custom(['name_customer'])"
   ]
  },
  {
   "cell_type": "markdown",
   "id": "3aa09d22",
   "metadata": {
    "id": "3aa09d22"
   },
   "source": [
    "### Using Label Encoder for the \"cust_payment_terms\" column\n",
    "\n",
    "- Note - Keep the code as it is, no need to change"
   ]
  },
  {
   "cell_type": "code",
   "execution_count": 69,
   "id": "6f9ab642",
   "metadata": {
    "id": "6f9ab642"
   },
   "outputs": [
    {
     "name": "stderr",
     "output_type": "stream",
     "text": [
      "C:\\Users\\91981\\AppData\\Local\\Temp/ipykernel_10416/1215482524.py:3: SettingWithCopyWarning: \n",
      "A value is trying to be set on a copy of a slice from a DataFrame.\n",
      "Try using .loc[row_indexer,col_indexer] = value instead\n",
      "\n",
      "See the caveats in the documentation: https://pandas.pydata.org/pandas-docs/stable/user_guide/indexing.html#returning-a-view-versus-a-copy\n",
      "  X_train['cust_payment_terms_enc']=label_encoder1.transform(X_train['cust_payment_terms'])\n",
      "C:\\Users\\91981\\AppData\\Local\\Temp/ipykernel_10416/1215482524.py:4: SettingWithCopyWarning: \n",
      "A value is trying to be set on a copy of a slice from a DataFrame.\n",
      "Try using .loc[row_indexer,col_indexer] = value instead\n",
      "\n",
      "See the caveats in the documentation: https://pandas.pydata.org/pandas-docs/stable/user_guide/indexing.html#returning-a-view-versus-a-copy\n",
      "  X_val['cust_payment_terms_enc']=label_encoder1.transform(X_val['cust_payment_terms'])\n",
      "C:\\Users\\91981\\AppData\\Local\\Temp/ipykernel_10416/1215482524.py:5: SettingWithCopyWarning: \n",
      "A value is trying to be set on a copy of a slice from a DataFrame.\n",
      "Try using .loc[row_indexer,col_indexer] = value instead\n",
      "\n",
      "See the caveats in the documentation: https://pandas.pydata.org/pandas-docs/stable/user_guide/indexing.html#returning-a-view-versus-a-copy\n",
      "  X_test['cust_payment_terms_enc']=label_encoder1.transform(X_test['cust_payment_terms'])\n"
     ]
    }
   ],
   "source": [
    "label_encoder1 = EncoderExt()\n",
    "label_encoder1.fit(X_train['cust_payment_terms'])\n",
    "X_train['cust_payment_terms_enc']=label_encoder1.transform(X_train['cust_payment_terms'])\n",
    "X_val['cust_payment_terms_enc']=label_encoder1.transform(X_val['cust_payment_terms'])\n",
    "X_test['cust_payment_terms_enc']=label_encoder1.transform(X_test['cust_payment_terms'])"
   ]
  },
  {
   "cell_type": "code",
   "execution_count": 70,
   "id": "55f9a7c2",
   "metadata": {
    "id": "55f9a7c2"
   },
   "outputs": [],
   "source": [
    "X_train ,X_val, X_test = custom(['cust_payment_terms'])"
   ]
  },
  {
   "cell_type": "markdown",
   "id": "0788f42b",
   "metadata": {
    "id": "0788f42b"
   },
   "source": [
    "## Check the datatype of all the columns of Train, Test and Validation dataframes realted to X\n",
    "\n",
    "- Note - You are expected yo use dtype"
   ]
  },
  {
   "cell_type": "code",
   "execution_count": 71,
   "id": "bc79a316",
   "metadata": {
    "id": "bc79a316"
   },
   "outputs": [
    {
     "data": {
      "text/plain": [
       "cust_number                        int32\n",
       "buisness_year                    float64\n",
       "doc_id                           float64\n",
       "posting_date              datetime64[ns]\n",
       "due_in_date               datetime64[ns]\n",
       "baseline_create_date      datetime64[ns]\n",
       "converted_usd                    float64\n",
       "business_code_enc                  int32\n",
       "name_customer_enc                  int32\n",
       "cust_payment_terms_enc             int32\n",
       "dtype: object"
      ]
     },
     "execution_count": 71,
     "metadata": {},
     "output_type": "execute_result"
    }
   ],
   "source": [
    "X_train.dtypes"
   ]
  },
  {
   "cell_type": "code",
   "execution_count": 72,
   "id": "b33242d8",
   "metadata": {
    "id": "b33242d8"
   },
   "outputs": [
    {
     "data": {
      "text/plain": [
       "cust_number                        int32\n",
       "buisness_year                    float64\n",
       "doc_id                           float64\n",
       "posting_date              datetime64[ns]\n",
       "due_in_date               datetime64[ns]\n",
       "baseline_create_date      datetime64[ns]\n",
       "converted_usd                    float64\n",
       "business_code_enc                  int32\n",
       "name_customer_enc                  int32\n",
       "cust_payment_terms_enc             int32\n",
       "dtype: object"
      ]
     },
     "execution_count": 72,
     "metadata": {},
     "output_type": "execute_result"
    }
   ],
   "source": [
    "X_test.dtypes"
   ]
  },
  {
   "cell_type": "code",
   "execution_count": 73,
   "id": "6bd4da71",
   "metadata": {
    "id": "6bd4da71"
   },
   "outputs": [
    {
     "data": {
      "text/plain": [
       "cust_number                        int32\n",
       "buisness_year                    float64\n",
       "doc_id                           float64\n",
       "posting_date              datetime64[ns]\n",
       "due_in_date               datetime64[ns]\n",
       "baseline_create_date      datetime64[ns]\n",
       "converted_usd                    float64\n",
       "business_code_enc                  int32\n",
       "name_customer_enc                  int32\n",
       "cust_payment_terms_enc             int32\n",
       "dtype: object"
      ]
     },
     "execution_count": 73,
     "metadata": {},
     "output_type": "execute_result"
    }
   ],
   "source": [
    "X_val.dtypes"
   ]
  },
  {
   "cell_type": "markdown",
   "id": "LVfvuPiWPeMB",
   "metadata": {
    "id": "LVfvuPiWPeMB"
   },
   "source": [
    "### From the above output you can notice their are multiple date columns with datetime format\n",
    "\n",
    "### In order to pass it into our model, we need to convert it into float format"
   ]
  },
  {
   "cell_type": "markdown",
   "id": "9d344db9",
   "metadata": {
    "id": "9d344db9"
   },
   "source": [
    "### You need to extract day, month and year from the \"posting_date\" column \n",
    "\n",
    "1.   Extract days from \"posting_date\" column and store it into a new column \"day_of_postingdate\" for train, test and validation dataset \n",
    "2.   Extract months from \"posting_date\" column and store it into a new column \"month_of_postingdate\" for train, test and validation dataset\n",
    "3.   Extract year from \"posting_date\" column and store it into a new column \"year_of_postingdate\" for train, test and validation dataset \n",
    "\n",
    "\n",
    "\n",
    "- Note - You are supposed yo use \n",
    "\n",
    "*   dt.day\n",
    "*   dt.month\n",
    "*   dt.year\n",
    "\n",
    "\n",
    "\n",
    "\n"
   ]
  },
  {
   "cell_type": "code",
   "execution_count": 74,
   "id": "6e3cdfd6",
   "metadata": {
    "id": "6e3cdfd6"
   },
   "outputs": [
    {
     "name": "stderr",
     "output_type": "stream",
     "text": [
      "C:\\Users\\91981\\AppData\\Local\\Temp/ipykernel_10416/344803791.py:1: SettingWithCopyWarning: \n",
      "A value is trying to be set on a copy of a slice from a DataFrame.\n",
      "Try using .loc[row_indexer,col_indexer] = value instead\n",
      "\n",
      "See the caveats in the documentation: https://pandas.pydata.org/pandas-docs/stable/user_guide/indexing.html#returning-a-view-versus-a-copy\n",
      "  X_train['day_of_postingdate'] = X_train['posting_date'].dt.day\n",
      "C:\\Users\\91981\\AppData\\Local\\Temp/ipykernel_10416/344803791.py:2: SettingWithCopyWarning: \n",
      "A value is trying to be set on a copy of a slice from a DataFrame.\n",
      "Try using .loc[row_indexer,col_indexer] = value instead\n",
      "\n",
      "See the caveats in the documentation: https://pandas.pydata.org/pandas-docs/stable/user_guide/indexing.html#returning-a-view-versus-a-copy\n",
      "  X_train['month_of_postingdate'] = X_train['posting_date'].dt.month\n",
      "C:\\Users\\91981\\AppData\\Local\\Temp/ipykernel_10416/344803791.py:3: SettingWithCopyWarning: \n",
      "A value is trying to be set on a copy of a slice from a DataFrame.\n",
      "Try using .loc[row_indexer,col_indexer] = value instead\n",
      "\n",
      "See the caveats in the documentation: https://pandas.pydata.org/pandas-docs/stable/user_guide/indexing.html#returning-a-view-versus-a-copy\n",
      "  X_train['year_of_postingdate'] = X_train['posting_date'].dt.year\n",
      "C:\\Users\\91981\\AppData\\Local\\Temp/ipykernel_10416/344803791.py:5: SettingWithCopyWarning: \n",
      "A value is trying to be set on a copy of a slice from a DataFrame.\n",
      "Try using .loc[row_indexer,col_indexer] = value instead\n",
      "\n",
      "See the caveats in the documentation: https://pandas.pydata.org/pandas-docs/stable/user_guide/indexing.html#returning-a-view-versus-a-copy\n",
      "  X_val['day_of_postingdate'] = X_val['posting_date'].dt.day\n",
      "C:\\Users\\91981\\AppData\\Local\\Temp/ipykernel_10416/344803791.py:6: SettingWithCopyWarning: \n",
      "A value is trying to be set on a copy of a slice from a DataFrame.\n",
      "Try using .loc[row_indexer,col_indexer] = value instead\n",
      "\n",
      "See the caveats in the documentation: https://pandas.pydata.org/pandas-docs/stable/user_guide/indexing.html#returning-a-view-versus-a-copy\n",
      "  X_val['month_of_postingdate'] = X_val['posting_date'].dt.month\n",
      "C:\\Users\\91981\\AppData\\Local\\Temp/ipykernel_10416/344803791.py:7: SettingWithCopyWarning: \n",
      "A value is trying to be set on a copy of a slice from a DataFrame.\n",
      "Try using .loc[row_indexer,col_indexer] = value instead\n",
      "\n",
      "See the caveats in the documentation: https://pandas.pydata.org/pandas-docs/stable/user_guide/indexing.html#returning-a-view-versus-a-copy\n",
      "  X_val['year_of_postingdate'] = X_val['posting_date'].dt.year\n",
      "C:\\Users\\91981\\AppData\\Local\\Temp/ipykernel_10416/344803791.py:10: SettingWithCopyWarning: \n",
      "A value is trying to be set on a copy of a slice from a DataFrame.\n",
      "Try using .loc[row_indexer,col_indexer] = value instead\n",
      "\n",
      "See the caveats in the documentation: https://pandas.pydata.org/pandas-docs/stable/user_guide/indexing.html#returning-a-view-versus-a-copy\n",
      "  X_test['day_of_postingdate'] = X_test['posting_date'].dt.day\n",
      "C:\\Users\\91981\\AppData\\Local\\Temp/ipykernel_10416/344803791.py:11: SettingWithCopyWarning: \n",
      "A value is trying to be set on a copy of a slice from a DataFrame.\n",
      "Try using .loc[row_indexer,col_indexer] = value instead\n",
      "\n",
      "See the caveats in the documentation: https://pandas.pydata.org/pandas-docs/stable/user_guide/indexing.html#returning-a-view-versus-a-copy\n",
      "  X_test['month_of_postingdate'] = X_test['posting_date'].dt.month\n",
      "C:\\Users\\91981\\AppData\\Local\\Temp/ipykernel_10416/344803791.py:12: SettingWithCopyWarning: \n",
      "A value is trying to be set on a copy of a slice from a DataFrame.\n",
      "Try using .loc[row_indexer,col_indexer] = value instead\n",
      "\n",
      "See the caveats in the documentation: https://pandas.pydata.org/pandas-docs/stable/user_guide/indexing.html#returning-a-view-versus-a-copy\n",
      "  X_test['year_of_postingdate'] = X_test['posting_date'].dt.year\n"
     ]
    }
   ],
   "source": [
    "X_train['day_of_postingdate'] = X_train['posting_date'].dt.day\n",
    "X_train['month_of_postingdate'] = X_train['posting_date'].dt.month\n",
    "X_train['year_of_postingdate'] = X_train['posting_date'].dt.year\n",
    "\n",
    "X_val['day_of_postingdate'] = X_val['posting_date'].dt.day\n",
    "X_val['month_of_postingdate'] = X_val['posting_date'].dt.month\n",
    "X_val['year_of_postingdate'] = X_val['posting_date'].dt.year\n",
    "\n",
    "\n",
    "X_test['day_of_postingdate'] = X_test['posting_date'].dt.day\n",
    "X_test['month_of_postingdate'] = X_test['posting_date'].dt.month\n",
    "X_test['year_of_postingdate'] = X_test['posting_date'].dt.year\n",
    "\n"
   ]
  },
  {
   "cell_type": "markdown",
   "id": "GyI-F853Rxa7",
   "metadata": {
    "id": "GyI-F853Rxa7"
   },
   "source": [
    "### pass the \"posting_date\" column into the Custom function for train, test and validation dataset"
   ]
  },
  {
   "cell_type": "code",
   "execution_count": 75,
   "id": "FQHtQkrnRx_V",
   "metadata": {
    "id": "FQHtQkrnRx_V"
   },
   "outputs": [],
   "source": [
    "X_train ,X_val, X_test = custom(['posting_date'])"
   ]
  },
  {
   "cell_type": "markdown",
   "id": "GMnCaEcKReSw",
   "metadata": {
    "id": "GMnCaEcKReSw"
   },
   "source": [
    "### You need to extract day, month and year from the \"baseline_create_date\" column \n",
    "\n",
    "1.   Extract days from \"baseline_create_date\" column and store it into a new column \"day_of_createdate\" for train, test and validation dataset \n",
    "2.   Extract months from \"baseline_create_date\" column and store it into a new column \"month_of_createdate\" for train, test and validation dataset\n",
    "3.   Extract year from \"baseline_create_date\" column and store it into a new column \"year_of_createdate\" for train, test and validation dataset \n",
    "\n",
    "\n",
    "\n",
    "- Note - You are supposed yo use \n",
    "\n",
    "*   dt.day\n",
    "*   dt.month\n",
    "*   dt.year\n",
    "\n",
    "\n",
    "- Note - Do as it is been shown in the previous two code boxes"
   ]
  },
  {
   "cell_type": "markdown",
   "id": "ee4d83d0",
   "metadata": {
    "id": "ee4d83d0"
   },
   "source": [
    "### Extracting Day, Month, Year for 'baseline_create_date' column"
   ]
  },
  {
   "cell_type": "code",
   "execution_count": 76,
   "id": "32b240e1",
   "metadata": {
    "id": "32b240e1"
   },
   "outputs": [
    {
     "name": "stderr",
     "output_type": "stream",
     "text": [
      "C:\\Users\\91981\\AppData\\Local\\Temp/ipykernel_10416/3841571761.py:1: SettingWithCopyWarning: \n",
      "A value is trying to be set on a copy of a slice from a DataFrame.\n",
      "Try using .loc[row_indexer,col_indexer] = value instead\n",
      "\n",
      "See the caveats in the documentation: https://pandas.pydata.org/pandas-docs/stable/user_guide/indexing.html#returning-a-view-versus-a-copy\n",
      "  X_train['day_of_createdate'] = X_train['baseline_create_date'].dt.day\n",
      "C:\\Users\\91981\\AppData\\Local\\Temp/ipykernel_10416/3841571761.py:2: SettingWithCopyWarning: \n",
      "A value is trying to be set on a copy of a slice from a DataFrame.\n",
      "Try using .loc[row_indexer,col_indexer] = value instead\n",
      "\n",
      "See the caveats in the documentation: https://pandas.pydata.org/pandas-docs/stable/user_guide/indexing.html#returning-a-view-versus-a-copy\n",
      "  X_train['month_of_createdate'] = X_train['baseline_create_date'].dt.month\n",
      "C:\\Users\\91981\\AppData\\Local\\Temp/ipykernel_10416/3841571761.py:3: SettingWithCopyWarning: \n",
      "A value is trying to be set on a copy of a slice from a DataFrame.\n",
      "Try using .loc[row_indexer,col_indexer] = value instead\n",
      "\n",
      "See the caveats in the documentation: https://pandas.pydata.org/pandas-docs/stable/user_guide/indexing.html#returning-a-view-versus-a-copy\n",
      "  X_train['year_of_baselinecreatedate'] = X_train['baseline_create_date'].dt.year\n",
      "C:\\Users\\91981\\AppData\\Local\\Temp/ipykernel_10416/3841571761.py:5: SettingWithCopyWarning: \n",
      "A value is trying to be set on a copy of a slice from a DataFrame.\n",
      "Try using .loc[row_indexer,col_indexer] = value instead\n",
      "\n",
      "See the caveats in the documentation: https://pandas.pydata.org/pandas-docs/stable/user_guide/indexing.html#returning-a-view-versus-a-copy\n",
      "  X_val['day_of_createdate'] = X_val['baseline_create_date'].dt.day\n",
      "C:\\Users\\91981\\AppData\\Local\\Temp/ipykernel_10416/3841571761.py:6: SettingWithCopyWarning: \n",
      "A value is trying to be set on a copy of a slice from a DataFrame.\n",
      "Try using .loc[row_indexer,col_indexer] = value instead\n",
      "\n",
      "See the caveats in the documentation: https://pandas.pydata.org/pandas-docs/stable/user_guide/indexing.html#returning-a-view-versus-a-copy\n",
      "  X_val['month_of_createdate'] = X_val['baseline_create_date'].dt.month\n",
      "C:\\Users\\91981\\AppData\\Local\\Temp/ipykernel_10416/3841571761.py:7: SettingWithCopyWarning: \n",
      "A value is trying to be set on a copy of a slice from a DataFrame.\n",
      "Try using .loc[row_indexer,col_indexer] = value instead\n",
      "\n",
      "See the caveats in the documentation: https://pandas.pydata.org/pandas-docs/stable/user_guide/indexing.html#returning-a-view-versus-a-copy\n",
      "  X_val['year_of_createdate'] = X_val['baseline_create_date'].dt.year\n",
      "C:\\Users\\91981\\AppData\\Local\\Temp/ipykernel_10416/3841571761.py:10: SettingWithCopyWarning: \n",
      "A value is trying to be set on a copy of a slice from a DataFrame.\n",
      "Try using .loc[row_indexer,col_indexer] = value instead\n",
      "\n",
      "See the caveats in the documentation: https://pandas.pydata.org/pandas-docs/stable/user_guide/indexing.html#returning-a-view-versus-a-copy\n",
      "  X_test['day_of_createdate'] = X_test['baseline_create_date'].dt.day\n",
      "C:\\Users\\91981\\AppData\\Local\\Temp/ipykernel_10416/3841571761.py:11: SettingWithCopyWarning: \n",
      "A value is trying to be set on a copy of a slice from a DataFrame.\n",
      "Try using .loc[row_indexer,col_indexer] = value instead\n",
      "\n",
      "See the caveats in the documentation: https://pandas.pydata.org/pandas-docs/stable/user_guide/indexing.html#returning-a-view-versus-a-copy\n",
      "  X_test['month_of_createdate'] = X_test['baseline_create_date'].dt.month\n",
      "C:\\Users\\91981\\AppData\\Local\\Temp/ipykernel_10416/3841571761.py:12: SettingWithCopyWarning: \n",
      "A value is trying to be set on a copy of a slice from a DataFrame.\n",
      "Try using .loc[row_indexer,col_indexer] = value instead\n",
      "\n",
      "See the caveats in the documentation: https://pandas.pydata.org/pandas-docs/stable/user_guide/indexing.html#returning-a-view-versus-a-copy\n",
      "  X_test['year_of_createdate'] = X_test['baseline_create_date'].dt.year\n"
     ]
    }
   ],
   "source": [
    "X_train['day_of_createdate'] = X_train['baseline_create_date'].dt.day\n",
    "X_train['month_of_createdate'] = X_train['baseline_create_date'].dt.month\n",
    "X_train['year_of_baselinecreatedate'] = X_train['baseline_create_date'].dt.year\n",
    "\n",
    "X_val['day_of_createdate'] = X_val['baseline_create_date'].dt.day\n",
    "X_val['month_of_createdate'] = X_val['baseline_create_date'].dt.month\n",
    "X_val['year_of_createdate'] = X_val['baseline_create_date'].dt.year\n",
    "\n",
    "\n",
    "X_test['day_of_createdate'] = X_test['baseline_create_date'].dt.day\n",
    "X_test['month_of_createdate'] = X_test['baseline_create_date'].dt.month\n",
    "X_test['year_of_createdate'] = X_test['baseline_create_date'].dt.year"
   ]
  },
  {
   "cell_type": "markdown",
   "id": "cFgwkS5rSDDs",
   "metadata": {
    "id": "cFgwkS5rSDDs"
   },
   "source": [
    "### pass the \"baseline_create_date\" column into the Custom function for train, test and validation dataset"
   ]
  },
  {
   "cell_type": "code",
   "execution_count": 77,
   "id": "RGYa2BEQSDg3",
   "metadata": {
    "id": "RGYa2BEQSDg3"
   },
   "outputs": [],
   "source": [
    "X_train ,X_val, X_test = custom(['baseline_create_date'])"
   ]
  },
  {
   "cell_type": "markdown",
   "id": "77c7a0df",
   "metadata": {
    "id": "77c7a0df"
   },
   "source": [
    "### You need to extract day, month and year from the \"due_in_date\" column \n",
    "\n",
    "1.   Extract days from \"due_in_date\" column and store it into a new column \"day_of_due\" for train, test and validation dataset \n",
    "2.   Extract months from \"due_in_date\" column and store it into a new column \"month_of_due\" for train, test and validation dataset\n",
    "3.   Extract year from \"due_in_date\" column and store it into a new column \"year_of_due\" for train, test and validation dataset \n",
    "\n",
    "\n",
    "\n",
    "- Note - You are supposed yo use \n",
    "\n",
    "*   dt.day\n",
    "*   dt.month\n",
    "*   dt.year\n",
    "\n",
    "- Note - Do as it is been shown in the previous code"
   ]
  },
  {
   "cell_type": "code",
   "execution_count": 78,
   "id": "5c745547",
   "metadata": {
    "id": "5c745547"
   },
   "outputs": [
    {
     "name": "stderr",
     "output_type": "stream",
     "text": [
      "C:\\Users\\91981\\AppData\\Local\\Temp/ipykernel_10416/3805857058.py:1: SettingWithCopyWarning: \n",
      "A value is trying to be set on a copy of a slice from a DataFrame.\n",
      "Try using .loc[row_indexer,col_indexer] = value instead\n",
      "\n",
      "See the caveats in the documentation: https://pandas.pydata.org/pandas-docs/stable/user_guide/indexing.html#returning-a-view-versus-a-copy\n",
      "  X_train['day_of_dueindate'] = X_train['due_in_date'].dt.day\n",
      "C:\\Users\\91981\\AppData\\Local\\Temp/ipykernel_10416/3805857058.py:2: SettingWithCopyWarning: \n",
      "A value is trying to be set on a copy of a slice from a DataFrame.\n",
      "Try using .loc[row_indexer,col_indexer] = value instead\n",
      "\n",
      "See the caveats in the documentation: https://pandas.pydata.org/pandas-docs/stable/user_guide/indexing.html#returning-a-view-versus-a-copy\n",
      "  X_train['month_of_dueindate'] = X_train['due_in_date'].dt.month\n",
      "C:\\Users\\91981\\AppData\\Local\\Temp/ipykernel_10416/3805857058.py:3: SettingWithCopyWarning: \n",
      "A value is trying to be set on a copy of a slice from a DataFrame.\n",
      "Try using .loc[row_indexer,col_indexer] = value instead\n",
      "\n",
      "See the caveats in the documentation: https://pandas.pydata.org/pandas-docs/stable/user_guide/indexing.html#returning-a-view-versus-a-copy\n",
      "  X_train['year_of_dueindate'] = X_train['due_in_date'].dt.year\n",
      "C:\\Users\\91981\\AppData\\Local\\Temp/ipykernel_10416/3805857058.py:5: SettingWithCopyWarning: \n",
      "A value is trying to be set on a copy of a slice from a DataFrame.\n",
      "Try using .loc[row_indexer,col_indexer] = value instead\n",
      "\n",
      "See the caveats in the documentation: https://pandas.pydata.org/pandas-docs/stable/user_guide/indexing.html#returning-a-view-versus-a-copy\n",
      "  X_val['day_of_dueindate'] = X_val['due_in_date'].dt.day\n",
      "C:\\Users\\91981\\AppData\\Local\\Temp/ipykernel_10416/3805857058.py:6: SettingWithCopyWarning: \n",
      "A value is trying to be set on a copy of a slice from a DataFrame.\n",
      "Try using .loc[row_indexer,col_indexer] = value instead\n",
      "\n",
      "See the caveats in the documentation: https://pandas.pydata.org/pandas-docs/stable/user_guide/indexing.html#returning-a-view-versus-a-copy\n",
      "  X_val['month_of_dueindate'] = X_val['due_in_date'].dt.month\n",
      "C:\\Users\\91981\\AppData\\Local\\Temp/ipykernel_10416/3805857058.py:7: SettingWithCopyWarning: \n",
      "A value is trying to be set on a copy of a slice from a DataFrame.\n",
      "Try using .loc[row_indexer,col_indexer] = value instead\n",
      "\n",
      "See the caveats in the documentation: https://pandas.pydata.org/pandas-docs/stable/user_guide/indexing.html#returning-a-view-versus-a-copy\n",
      "  X_val['year_of_dueindate'] = X_val['due_in_date'].dt.year\n",
      "C:\\Users\\91981\\AppData\\Local\\Temp/ipykernel_10416/3805857058.py:10: SettingWithCopyWarning: \n",
      "A value is trying to be set on a copy of a slice from a DataFrame.\n",
      "Try using .loc[row_indexer,col_indexer] = value instead\n",
      "\n",
      "See the caveats in the documentation: https://pandas.pydata.org/pandas-docs/stable/user_guide/indexing.html#returning-a-view-versus-a-copy\n",
      "  X_test['day_of_due'] = X_test['due_in_date'].dt.day\n",
      "C:\\Users\\91981\\AppData\\Local\\Temp/ipykernel_10416/3805857058.py:11: SettingWithCopyWarning: \n",
      "A value is trying to be set on a copy of a slice from a DataFrame.\n",
      "Try using .loc[row_indexer,col_indexer] = value instead\n",
      "\n",
      "See the caveats in the documentation: https://pandas.pydata.org/pandas-docs/stable/user_guide/indexing.html#returning-a-view-versus-a-copy\n",
      "  X_test['month_of_due'] = X_test['due_in_date'].dt.month\n",
      "C:\\Users\\91981\\AppData\\Local\\Temp/ipykernel_10416/3805857058.py:12: SettingWithCopyWarning: \n",
      "A value is trying to be set on a copy of a slice from a DataFrame.\n",
      "Try using .loc[row_indexer,col_indexer] = value instead\n",
      "\n",
      "See the caveats in the documentation: https://pandas.pydata.org/pandas-docs/stable/user_guide/indexing.html#returning-a-view-versus-a-copy\n",
      "  X_test['year_of_due'] = X_test['due_in_date'].dt.year\n"
     ]
    }
   ],
   "source": [
    "X_train['day_of_dueindate'] = X_train['due_in_date'].dt.day\n",
    "X_train['month_of_dueindate'] = X_train['due_in_date'].dt.month\n",
    "X_train['year_of_dueindate'] = X_train['due_in_date'].dt.year\n",
    "\n",
    "X_val['day_of_dueindate'] = X_val['due_in_date'].dt.day\n",
    "X_val['month_of_dueindate'] = X_val['due_in_date'].dt.month\n",
    "X_val['year_of_dueindate'] = X_val['due_in_date'].dt.year\n",
    "\n",
    "\n",
    "X_test['day_of_due'] = X_test['due_in_date'].dt.day\n",
    "X_test['month_of_due'] = X_test['due_in_date'].dt.month\n",
    "X_test['year_of_due'] = X_test['due_in_date'].dt.year"
   ]
  },
  {
   "cell_type": "markdown",
   "id": "FYLLzulGSvRd",
   "metadata": {
    "id": "FYLLzulGSvRd"
   },
   "source": [
    "pass the \"due_in_date\" column into the Custom function for train, test and validation dataset"
   ]
  },
  {
   "cell_type": "code",
   "execution_count": 79,
   "id": "1-s6QuY9Svrh",
   "metadata": {
    "id": "1-s6QuY9Svrh"
   },
   "outputs": [],
   "source": [
    "X_train ,X_val, X_test = custom(['due_in_date'])"
   ]
  },
  {
   "cell_type": "markdown",
   "id": "1ae5d052",
   "metadata": {
    "id": "1ae5d052"
   },
   "source": [
    "### Check for the datatypes for train, test and validation set again\n",
    "\n",
    "- Note - all the data type should be in either int64 or float64 format \n"
   ]
  },
  {
   "cell_type": "code",
   "execution_count": 80,
   "id": "aee9d828",
   "metadata": {
    "id": "aee9d828",
    "scrolled": true
   },
   "outputs": [
    {
     "data": {
      "text/plain": [
       "cust_number                     int32\n",
       "buisness_year                 float64\n",
       "doc_id                        float64\n",
       "converted_usd                 float64\n",
       "business_code_enc               int32\n",
       "name_customer_enc               int32\n",
       "cust_payment_terms_enc          int32\n",
       "day_of_postingdate              int64\n",
       "month_of_postingdate            int64\n",
       "year_of_postingdate             int64\n",
       "day_of_createdate               int64\n",
       "month_of_createdate             int64\n",
       "year_of_baselinecreatedate      int64\n",
       "day_of_dueindate                int64\n",
       "month_of_dueindate              int64\n",
       "year_of_dueindate               int64\n",
       "dtype: object"
      ]
     },
     "execution_count": 80,
     "metadata": {},
     "output_type": "execute_result"
    }
   ],
   "source": [
    "X_train.dtypes"
   ]
  },
  {
   "cell_type": "markdown",
   "id": "65810f55",
   "metadata": {
    "id": "65810f55"
   },
   "source": [
    "# Feature Selection"
   ]
  },
  {
   "cell_type": "markdown",
   "id": "4bb1ad9f",
   "metadata": {
    "id": "4bb1ad9f"
   },
   "source": [
    "### Filter Method\n",
    "\n",
    "- Calling the VarianceThreshold Function \n",
    "- Note - Keep the code as it is, no need to change "
   ]
  },
  {
   "cell_type": "code",
   "execution_count": 81,
   "id": "e882509f",
   "metadata": {
    "id": "e882509f"
   },
   "outputs": [
    {
     "data": {
      "text/plain": [
       "16"
      ]
     },
     "execution_count": 81,
     "metadata": {},
     "output_type": "execute_result"
    }
   ],
   "source": [
    "from sklearn.feature_selection import VarianceThreshold\n",
    "constant_filter = VarianceThreshold(threshold=0)\n",
    "constant_filter.fit(X_train)\n",
    "len(X_train.columns[constant_filter.get_support()])"
   ]
  },
  {
   "cell_type": "markdown",
   "id": "V9531H3jR-W2",
   "metadata": {
    "id": "V9531H3jR-W2"
   },
   "source": [
    "- Note - Keep the code as it is, no need to change \n"
   ]
  },
  {
   "cell_type": "code",
   "execution_count": 82,
   "id": "c77c12e1",
   "metadata": {
    "id": "c77c12e1"
   },
   "outputs": [
    {
     "name": "stdout",
     "output_type": "stream",
     "text": [
      "0\n"
     ]
    }
   ],
   "source": [
    "constant_columns = [column for column in X_train.columns\n",
    "                    if column not in X_train.columns[constant_filter.get_support()]]\n",
    "print(len(constant_columns))"
   ]
  },
  {
   "cell_type": "markdown",
   "id": "6d9b8610",
   "metadata": {
    "id": "6d9b8610"
   },
   "source": [
    "- transpose the feature matrice\n",
    "- print the number of duplicated features\n",
    "- select the duplicated features columns names\n",
    "\n",
    "- Note - Keep the code as it is, no need to change \n"
   ]
  },
  {
   "cell_type": "code",
   "execution_count": 83,
   "id": "0fb7db95",
   "metadata": {
    "id": "0fb7db95"
   },
   "outputs": [
    {
     "name": "stdout",
     "output_type": "stream",
     "text": [
      "0\n"
     ]
    }
   ],
   "source": [
    "x_train_T = X_train.T\n",
    "print(x_train_T.duplicated().sum())\n",
    "duplicated_columns = x_train_T[x_train_T.duplicated()].index.values"
   ]
  },
  {
   "cell_type": "markdown",
   "id": "510fa831",
   "metadata": {
    "id": "510fa831"
   },
   "source": [
    "### Filtering depending upon correlation matrix value\n",
    "- We have created a function called handling correlation which is going to return fields based on the correlation matrix value with a threshold of 0.8\n",
    "\n",
    "- Note - Keep the code as it is, no need to change "
   ]
  },
  {
   "cell_type": "code",
   "execution_count": 84,
   "id": "67731abc",
   "metadata": {
    "id": "67731abc"
   },
   "outputs": [],
   "source": [
    "def handling_correlation(X_train,threshold=0.8):\n",
    "    corr_features = set()\n",
    "    corr_matrix = X_train.corr()\n",
    "    for i in range(len(corr_matrix .columns)):\n",
    "        for j in range(i):\n",
    "            if abs(corr_matrix.iloc[i, j]) >threshold:\n",
    "                colname = corr_matrix.columns[i]\n",
    "                corr_features.add(colname)\n",
    "    return list(corr_features)"
   ]
  },
  {
   "cell_type": "markdown",
   "id": "JaE_6qVgSXl3",
   "metadata": {
    "id": "JaE_6qVgSXl3"
   },
   "source": [
    "- Note : Here we are trying to find out the relevant fields, from X_train\n",
    "- Please fill in the blanks to call handling_correlation() function with a threshold value of 0.85"
   ]
  },
  {
   "cell_type": "code",
   "execution_count": 85,
   "id": "dd91d1a2",
   "metadata": {
    "id": "dd91d1a2"
   },
   "outputs": [
    {
     "data": {
      "text/plain": [
       "['month_of_createdate',\n",
       " 'year_of_postingdate',\n",
       " 'year_of_dueindate',\n",
       " 'day_of_createdate',\n",
       " 'month_of_dueindate',\n",
       " 'year_of_baselinecreatedate']"
      ]
     },
     "execution_count": 85,
     "metadata": {},
     "output_type": "execute_result"
    }
   ],
   "source": [
    "train=X_train.copy()\n",
    "handling_correlation(train.copy(),0.85)"
   ]
  },
  {
   "cell_type": "markdown",
   "id": "154da511",
   "metadata": {
    "id": "154da511"
   },
   "source": [
    "### Heatmap for X_train\n",
    "\n",
    "- Note - Keep the code as it is, no need to change"
   ]
  },
  {
   "cell_type": "code",
   "execution_count": 86,
   "id": "2e8f2fe4",
   "metadata": {
    "id": "2e8f2fe4"
   },
   "outputs": [
    {
     "data": {
      "text/plain": [
       "<AxesSubplot:title={'center':'Pearson Correlation of Features'}>"
      ]
     },
     "execution_count": 86,
     "metadata": {},
     "output_type": "execute_result"
    },
    {
     "data": {
      "image/png": "[encoded data removed]",
      "text/plain": [
       "<Figure size 1080x864 with 2 Axes>"
      ]
     },
     "metadata": {},
     "output_type": "display_data"
    }
   ],
   "source": [
    "colormap = plt.cm.RdBu\n",
    "plt.figure(figsize=(15,12))\n",
    "plt.title('Pearson Correlation of Features', y=1.05, size=20)\n",
    "sns.heatmap(X_train.merge(y_train , on = X_train.index ).corr(),linewidths=0.1,vmax=1.0, \n",
    "            square=True, cmap='gist_rainbow_r', linecolor='white', annot=True)"
   ]
  },
  {
   "cell_type": "markdown",
   "id": "e3b0d745",
   "metadata": {
    "id": "e3b0d745"
   },
   "source": [
    "#### Calling variance threshold for threshold value = 0.8\n",
    "\n",
    "- Note -  Fill in the blanks to call the appropriate method"
   ]
  },
  {
   "cell_type": "code",
   "execution_count": 87,
   "id": "a9b2080f",
   "metadata": {
    "id": "a9b2080f"
   },
   "outputs": [
    {
     "data": {
      "text/plain": [
       "VarianceThreshold(threshold=0.8)"
      ]
     },
     "execution_count": 87,
     "metadata": {},
     "output_type": "execute_result"
    }
   ],
   "source": [
    "from sklearn.feature_selection import VarianceThreshold\n",
    "sel = VarianceThreshold(0.8)\n",
    "sel.fit(X_train)"
   ]
  },
  {
   "cell_type": "code",
   "execution_count": 88,
   "id": "6cb8c3dc",
   "metadata": {
    "id": "6cb8c3dc"
   },
   "outputs": [
    {
     "data": {
      "text/plain": [
       "array([1.73096954e+15, 1.16100201e-01, 8.13617218e+16, 1.33223780e+09,\n",
       "       2.80596482e-01, 1.05187609e+06, 1.23314110e+02, 7.59077911e+01,\n",
       "       1.23199874e+01, 1.16288980e-01, 7.75034812e+01, 1.23305592e+01,\n",
       "       1.16501724e-01, 7.61464282e+01, 1.21259307e+01, 1.19305793e-01])"
      ]
     },
     "execution_count": 88,
     "metadata": {},
     "output_type": "execute_result"
    }
   ],
   "source": [
    "sel.variances_"
   ]
  },
  {
   "cell_type": "markdown",
   "id": "62633a84",
   "metadata": {
    "id": "62633a84"
   },
   "source": [
    "### Features columns are \n",
    "- 'year_of_createdate' \n",
    "- 'year_of_due'\n",
    "- 'day_of_createdate'\n",
    "- 'year_of_postingdate'\n",
    "- 'month_of_due'\n",
    "- 'month_of_createdate'"
   ]
  },
  {
   "cell_type": "markdown",
   "id": "651f1ad0",
   "metadata": {
    "id": "651f1ad0"
   },
   "source": [
    "# Modelling \n",
    "\n",
    "#### Now you need to compare with different machine learning models, and needs to find out the best predicted model\n",
    "\n",
    "- Linear Regression\n",
    "- Decision Tree Regression\n",
    "- Random Forest Regression\n",
    "- Support Vector Regression\n",
    "- Extreme Gradient Boost Regression "
   ]
  },
  {
   "cell_type": "markdown",
   "id": "PicEhSuUUOkt",
   "metadata": {
    "id": "PicEhSuUUOkt"
   },
   "source": [
    "### You need to make different blank list for different evaluation matrix \n",
    "\n",
    "- MSE\n",
    "- R2\n",
    "- Algorithm"
   ]
  },
  {
   "cell_type": "code",
   "execution_count": 89,
   "id": "701e12b0",
   "metadata": {
    "id": "701e12b0"
   },
   "outputs": [],
   "source": [
    "MSE_Score = []\n",
    "R2_Score = []\n",
    "Algorithm = []\n",
    "from sklearn.metrics import mean_squared_error\n",
    "from sklearn.metrics import r2_score"
   ]
  },
  {
   "cell_type": "markdown",
   "id": "29310119",
   "metadata": {
    "id": "29310119"
   },
   "source": [
    "### You need to start with the baseline model Linear Regression\n",
    "\n",
    "- Step 1 : Call the Linear Regression from sklearn library\n",
    "- Step 2 : make an object of Linear Regression \n",
    "- Step 3 : fit the X_train and y_train dataframe into the object \n",
    "- Step 4 : Predict the output by passing the X_test Dataset into predict function\n",
    "\n",
    "\n",
    "\n",
    "\n",
    "- Note - Append the Algorithm name into the algorithm list for tracking purpose"
   ]
  },
  {
   "cell_type": "code",
   "execution_count": 90,
   "id": "6bdea395",
   "metadata": {
    "id": "6bdea395"
   },
   "outputs": [],
   "source": [
    "from sklearn.linear_model import LinearRegression\n",
    "Algorithm.append('LinearRegression')\n",
    "regressor = LinearRegression()\n",
    "regressor.fit(X_train, y_train)\n",
    "predicted= regressor.predict(X_test)"
   ]
  },
  {
   "cell_type": "markdown",
   "id": "G02cpnBhXJ14",
   "metadata": {
    "id": "G02cpnBhXJ14"
   },
   "source": [
    "### Check for the \n",
    "\n",
    "- Mean Square Error\n",
    "- R Square Error \n",
    "\n",
    "for y_test and predicted dataset and store those data inside respective list for comparison "
   ]
  },
  {
   "cell_type": "code",
   "execution_count": 91,
   "id": "0f69ca19",
   "metadata": {
    "id": "0f69ca19"
   },
   "outputs": [],
   "source": [
    "MSE_Score.append(mean_squared_error(y_test, predicted))\n",
    "R2_Score.append(r2_score(y_test, predicted))"
   ]
  },
  {
   "cell_type": "markdown",
   "id": "CsmScbHjYMv1",
   "metadata": {
    "id": "CsmScbHjYMv1"
   },
   "source": [
    "### Check the same for the Validation set also "
   ]
  },
  {
   "cell_type": "code",
   "execution_count": 92,
   "id": "fe653295",
   "metadata": {
    "colab": {
     "base_uri": "https://localhost:8080/"
    },
    "executionInfo": {
     "elapsed": 10,
     "status": "ok",
     "timestamp": 1643093994094,
     "user": {
      "displayName": "Chandramouli Das",
      "photoUrl": "https://lh3.googleusercontent.com/a-/AOh14GgsMuDXf6PZsS77v0Q5x8metxFPnlLXsBC6Y3O7=s64",
      "userId": "13777762579346461395"
     },
     "user_tz": -330
    },
    "id": "fe653295",
    "outputId": "0c7429ca-50d0-42a2-96a1-effaa92f549e"
   },
   "outputs": [
    {
     "data": {
      "text/plain": [
       "522048.65676749364"
      ]
     },
     "execution_count": 92,
     "metadata": {},
     "output_type": "execute_result"
    }
   ],
   "source": [
    "predict_test= regressor.predict(X_val)\n",
    "mean_squared_error(y_val, predict_test, squared=False)"
   ]
  },
  {
   "cell_type": "markdown",
   "id": "LokxV2LGYUVh",
   "metadata": {
    "id": "LokxV2LGYUVh"
   },
   "source": [
    "### Display The Comparison Lists"
   ]
  },
  {
   "cell_type": "code",
   "execution_count": 93,
   "id": "9c405bd3",
   "metadata": {
    "colab": {
     "base_uri": "https://localhost:8080/"
    },
    "executionInfo": {
     "elapsed": 8,
     "status": "ok",
     "timestamp": 1643093994095,
     "user": {
      "displayName": "Chandramouli Das",
      "photoUrl": "https://lh3.googleusercontent.com/a-/AOh14GgsMuDXf6PZsS77v0Q5x8metxFPnlLXsBC6Y3O7=s64",
      "userId": "13777762579346461395"
     },
     "user_tz": -330
    },
    "id": "9c405bd3",
    "outputId": "9d78f4a9-33fc-48d1-edc8-c997eca38de0"
   },
   "outputs": [
    {
     "name": "stdout",
     "output_type": "stream",
     "text": [
      "['LinearRegression'],[313825305768.50305],[0.3494114013363857],"
     ]
    }
   ],
   "source": [
    "for i in Algorithm, MSE_Score, R2_Score:\n",
    "    print(i,end=',')"
   ]
  },
  {
   "cell_type": "markdown",
   "id": "b0e65c86",
   "metadata": {
    "id": "b0e65c86"
   },
   "source": [
    "### You need to start with the baseline model Support Vector Regression\n",
    "\n",
    "- Step 1 : Call the Support Vector Regressor from sklearn library\n",
    "- Step 2 : make an object of SVR\n",
    "- Step 3 : fit the X_train and y_train dataframe into the object \n",
    "- Step 4 : Predict the output by passing the X_test Dataset into predict function\n",
    "\n",
    "\n",
    "\n",
    "\n",
    "- Note - Append the Algorithm name into the algorithm list for tracking purpose"
   ]
  },
  {
   "cell_type": "code",
   "execution_count": 94,
   "id": "ccb5de08",
   "metadata": {
    "id": "ccb5de08"
   },
   "outputs": [],
   "source": [
    "from sklearn.svm import SVR\n",
    "Algorithm.append('Support Vector Regression')\n",
    "svr = SVR()\n",
    "svr.fit(X_train, y_train.values.ravel())\n",
    "predicted= svr.predict(X_test)"
   ]
  },
  {
   "cell_type": "markdown",
   "id": "zz9kcrViYt7e",
   "metadata": {
    "id": "zz9kcrViYt7e"
   },
   "source": [
    "### Check for the \n",
    "\n",
    "- Mean Square Error\n",
    "- R Square Error \n",
    "\n",
    "for \"y_test\" and \"predicted\" dataset and store those data inside respective list for comparison "
   ]
  },
  {
   "cell_type": "code",
   "execution_count": 95,
   "id": "5bb9db76",
   "metadata": {
    "id": "5bb9db76"
   },
   "outputs": [],
   "source": [
    "MSE_Score.append(mean_squared_error(y_test, predicted))\n",
    "R2_Score.append(r2_score(y_test, predicted))"
   ]
  },
  {
   "cell_type": "markdown",
   "id": "0YAxd8N9Y0hJ",
   "metadata": {
    "id": "0YAxd8N9Y0hJ"
   },
   "source": [
    "### Check the same for the Validation set also "
   ]
  },
  {
   "cell_type": "code",
   "execution_count": 96,
   "id": "d6ee71b1",
   "metadata": {
    "id": "d6ee71b1"
   },
   "outputs": [
    {
     "data": {
      "text/plain": [
       "522048.65676749364"
      ]
     },
     "execution_count": 96,
     "metadata": {},
     "output_type": "execute_result"
    }
   ],
   "source": [
    "predict_test= regressor.predict(X_val)\n",
    "mean_squared_error(y_val, predict_test, squared=False)"
   ]
  },
  {
   "cell_type": "markdown",
   "id": "eGcqS5EcY4BI",
   "metadata": {
    "id": "eGcqS5EcY4BI"
   },
   "source": [
    "### Display The Comparison Lists"
   ]
  },
  {
   "cell_type": "code",
   "execution_count": 97,
   "id": "aa72c1ec",
   "metadata": {
    "id": "aa72c1ec"
   },
   "outputs": [
    {
     "name": "stdout",
     "output_type": "stream",
     "text": [
      "['LinearRegression', 'Support Vector Regression'],[313825305768.50305, 487044210712.4359],[0.3494114013363857, -0.009687251825285514],"
     ]
    }
   ],
   "source": [
    "for i in Algorithm, MSE_Score, R2_Score:\n",
    "    print(i,end=',')"
   ]
  },
  {
   "cell_type": "markdown",
   "id": "dad18bb3",
   "metadata": {
    "id": "dad18bb3"
   },
   "source": [
    "### Your next model would be Decision Tree Regression\n",
    "\n",
    "- Step 1 : Call the Decision Tree Regressor from sklearn library\n",
    "- Step 2 : make an object of Decision Tree\n",
    "- Step 3 : fit the X_train and y_train dataframe into the object \n",
    "- Step 4 : Predict the output by passing the X_test Dataset into predict function\n",
    "\n",
    "\n",
    "\n",
    "\n",
    "- Note - Append the Algorithm name into the algorithm list for tracking purpose"
   ]
  },
  {
   "cell_type": "code",
   "execution_count": 98,
   "id": "1b6a51eb",
   "metadata": {
    "id": "1b6a51eb"
   },
   "outputs": [],
   "source": [
    "from sklearn.tree import DecisionTreeRegressor\n",
    "Algorithm.append('Decision Tree Regression')\n",
    "dtr = DecisionTreeRegressor()\n",
    "dtr.fit(X_train, y_train)\n",
    "predicted= dtr.predict(X_test)"
   ]
  },
  {
   "cell_type": "markdown",
   "id": "AOzfgfeOZo3F",
   "metadata": {
    "id": "AOzfgfeOZo3F"
   },
   "source": [
    "### Check for the \n",
    "\n",
    "- Mean Square Error\n",
    "- R Square Error \n",
    "\n",
    "for y_test and predicted dataset and store those data inside respective list for comparison "
   ]
  },
  {
   "cell_type": "code",
   "execution_count": 99,
   "id": "776e6983",
   "metadata": {
    "id": "776e6983"
   },
   "outputs": [],
   "source": [
    "MSE_Score.append(mean_squared_error(y_test, predicted))\n",
    "R2_Score.append(r2_score(y_test, predicted))"
   ]
  },
  {
   "cell_type": "markdown",
   "id": "eI6d49DQZrhW",
   "metadata": {
    "id": "eI6d49DQZrhW"
   },
   "source": [
    "### Check the same for the Validation set also "
   ]
  },
  {
   "cell_type": "code",
   "execution_count": 100,
   "id": "155fb55c",
   "metadata": {
    "id": "155fb55c"
   },
   "outputs": [
    {
     "data": {
      "text/plain": [
       "492682.00297452457"
      ]
     },
     "execution_count": 100,
     "metadata": {},
     "output_type": "execute_result"
    }
   ],
   "source": [
    "predict_test= dtr.predict(X_val)\n",
    "mean_squared_error(y_val, predict_test, squared=False)"
   ]
  },
  {
   "cell_type": "markdown",
   "id": "sbGXvBLQZw5E",
   "metadata": {
    "id": "sbGXvBLQZw5E"
   },
   "source": [
    "### Display The Comparison Lists"
   ]
  },
  {
   "cell_type": "code",
   "execution_count": 101,
   "id": "1d74d515",
   "metadata": {
    "id": "1d74d515"
   },
   "outputs": [
    {
     "name": "stdout",
     "output_type": "stream",
     "text": [
      "['LinearRegression', 'Support Vector Regression', 'Decision Tree Regression'],[313825305768.50305, 487044210712.4359, 215565293146.66547],[0.3494114013363857, -0.009687251825285514, 0.5531134060544716],"
     ]
    }
   ],
   "source": [
    "for i in Algorithm, MSE_Score, R2_Score:\n",
    "    print(i,end=',')"
   ]
  },
  {
   "cell_type": "markdown",
   "id": "4ae9979b",
   "metadata": {
    "id": "4ae9979b"
   },
   "source": [
    "### Your next model would be Random Forest Regression\n",
    "\n",
    "- Step 1 : Call the Random Forest Regressor from sklearn library\n",
    "- Step 2 : make an object of Random Forest\n",
    "- Step 3 : fit the X_train and y_train dataframe into the object \n",
    "- Step 4 : Predict the output by passing the X_test Dataset into predict function\n",
    "\n",
    "\n",
    "\n",
    "\n",
    "- Note - Append the Algorithm name into the algorithm list for tracking purpose"
   ]
  },
  {
   "cell_type": "code",
   "execution_count": 102,
   "id": "a69e476a",
   "metadata": {
    "id": "a69e476a"
   },
   "outputs": [],
   "source": [
    "from sklearn.ensemble import RandomForestRegressor\n",
    "Algorithm.append('Random Forest Regression')\n",
    "rr = RandomForestRegressor()\n",
    "rr.fit(X_train, y_train.values.ravel())\n",
    "predicted= rr.predict(X_test)"
   ]
  },
  {
   "cell_type": "markdown",
   "id": "XNcEJF-6anof",
   "metadata": {
    "id": "XNcEJF-6anof"
   },
   "source": [
    "### Check for the \n",
    "\n",
    "- Mean Square Error\n",
    "- R Square Error \n",
    "\n",
    "for y_test and predicted dataset and store those data inside respective list for comparison "
   ]
  },
  {
   "cell_type": "code",
   "execution_count": 103,
   "id": "826f63f4",
   "metadata": {
    "id": "826f63f4"
   },
   "outputs": [],
   "source": [
    "MSE_Score.append(mean_squared_error(y_test, predicted))\n",
    "R2_Score.append(r2_score(y_test, predicted))"
   ]
  },
  {
   "cell_type": "markdown",
   "id": "yMbyr9V4ati1",
   "metadata": {
    "id": "yMbyr9V4ati1"
   },
   "source": [
    "### Check the same for the Validation set also "
   ]
  },
  {
   "cell_type": "code",
   "execution_count": 104,
   "id": "55b9fb54",
   "metadata": {
    "id": "55b9fb54"
   },
   "outputs": [
    {
     "data": {
      "text/plain": [
       "344782.7356493275"
      ]
     },
     "execution_count": 104,
     "metadata": {},
     "output_type": "execute_result"
    }
   ],
   "source": [
    "predict_test= rr.predict(X_val)\n",
    "mean_squared_error(y_val, predict_test, squared=False)"
   ]
  },
  {
   "cell_type": "markdown",
   "id": "tiBawcCsaw_Z",
   "metadata": {
    "id": "tiBawcCsaw_Z"
   },
   "source": [
    "### Display The Comparison Lists\n"
   ]
  },
  {
   "cell_type": "code",
   "execution_count": 105,
   "id": "8277c13e",
   "metadata": {
    "id": "8277c13e"
   },
   "outputs": [
    {
     "name": "stdout",
     "output_type": "stream",
     "text": [
      "['LinearRegression', 'Support Vector Regression', 'Decision Tree Regression', 'Random Forest Regression'],[313825305768.50305, 487044210712.4359, 215565293146.66547, 115887889624.57756],[0.3494114013363857, -0.009687251825285514, 0.5531134060544716, 0.7597537919120079],"
     ]
    }
   ],
   "source": [
    "for i in Algorithm, MSE_Score, R2_Score:\n",
    "    print(i,end=',')"
   ]
  },
  {
   "cell_type": "markdown",
   "id": "e6b21881",
   "metadata": {
    "id": "e6b21881"
   },
   "source": [
    "### The last but not the least model would be XGBoost or Extreme Gradient Boost Regression\n",
    "\n",
    "- Step 1 : Call the XGBoost Regressor from xgb library\n",
    "- Step 2 : make an object of Xgboost\n",
    "- Step 3 : fit the X_train and y_train dataframe into the object \n",
    "- Step 4 : Predict the output by passing the X_test Dataset into predict function\n",
    "\n",
    "\n",
    "\n",
    "\n",
    "- Note - Append the Algorithm name into the algorithm list for tracking purpose### Extreme Gradient Boost Regression\n",
    "- Note -  No need to change the code "
   ]
  },
  {
   "cell_type": "code",
   "execution_count": 106,
   "id": "705a38ec",
   "metadata": {
    "id": "705a38ec"
   },
   "outputs": [],
   "source": [
    "import xgboost as xgb\n",
    "Algorithm.append('XGB Regressor')\n",
    "regressor = xgb.XGBRegressor()\n",
    "regressor.fit(X_train, y_train)\n",
    "predicted = regressor.predict(X_test)"
   ]
  },
  {
   "cell_type": "markdown",
   "id": "ierNZkb9bQDD",
   "metadata": {
    "id": "ierNZkb9bQDD"
   },
   "source": [
    "### Check for the \n",
    "\n",
    "- Mean Square Error\n",
    "- R Square Error \n",
    "\n",
    "for y_test and predicted dataset and store those data inside respective list for comparison "
   ]
  },
  {
   "cell_type": "code",
   "execution_count": 107,
   "id": "507a9d2f",
   "metadata": {
    "id": "507a9d2f"
   },
   "outputs": [],
   "source": [
    "MSE_Score.append(mean_squared_error(y_test, predicted))\n",
    "R2_Score.append(r2_score(y_test, predicted))"
   ]
  },
  {
   "cell_type": "markdown",
   "id": "84UZ2ojsbWaH",
   "metadata": {
    "id": "84UZ2ojsbWaH"
   },
   "source": [
    "### Check the same for the Validation set also "
   ]
  },
  {
   "cell_type": "code",
   "execution_count": 108,
   "id": "e78ac250",
   "metadata": {
    "id": "e78ac250"
   },
   "outputs": [
    {
     "data": {
      "text/plain": [
       "330776.33194604365"
      ]
     },
     "execution_count": 108,
     "metadata": {},
     "output_type": "execute_result"
    }
   ],
   "source": [
    "predict_test = regressor.predict(X_val)\n",
    "mean_squared_error(y_val, predict_test, squared=False)"
   ]
  },
  {
   "cell_type": "markdown",
   "id": "9FJFyaVbbbAH",
   "metadata": {
    "id": "9FJFyaVbbbAH"
   },
   "source": [
    "### Display The Comparison Lists\n"
   ]
  },
  {
   "cell_type": "code",
   "execution_count": 109,
   "id": "f765ba35",
   "metadata": {
    "id": "f765ba35"
   },
   "outputs": [
    {
     "name": "stdout",
     "output_type": "stream",
     "text": [
      "['LinearRegression', 'Support Vector Regression', 'Decision Tree Regression', 'Random Forest Regression', 'XGB Regressor'],[313825305768.50305, 487044210712.4359, 215565293146.66547, 115887889624.57756, 110045713931.4634],[0.3494114013363857, -0.009687251825285514, 0.5531134060544716, 0.7597537919120079, 0.7718651571444011],"
     ]
    }
   ],
   "source": [
    "for i in Algorithm, MSE_Score, R2_Score:\n",
    "    print(i,end=',')"
   ]
  },
  {
   "cell_type": "markdown",
   "id": "a71bc90f",
   "metadata": {
    "id": "a71bc90f"
   },
   "source": [
    "## You need to make the comparison list into a comparison dataframe "
   ]
  },
  {
   "cell_type": "code",
   "execution_count": 110,
   "id": "ff5159a7",
   "metadata": {
    "id": "ff5159a7"
   },
   "outputs": [
    {
     "data": {
      "text/html": [
       "<div>\n",
       "<style scoped>\n",
       "    .dataframe tbody tr th:only-of-type {\n",
       "        vertical-align: middle;\n",
       "    }\n",
       "\n",
       "    .dataframe tbody tr th {\n",
       "        vertical-align: top;\n",
       "    }\n",
       "\n",
       "    .dataframe thead th {\n",
       "        text-align: right;\n",
       "    }\n",
       "</style>\n",
       "<table border=\"1\" class=\"dataframe\">\n",
       "  <thead>\n",
       "    <tr style=\"text-align: right;\">\n",
       "      <th></th>\n",
       "      <th>Algorithm</th>\n",
       "      <th>MSE_Score</th>\n",
       "      <th>R2_Score)</th>\n",
       "    </tr>\n",
       "  </thead>\n",
       "  <tbody>\n",
       "    <tr>\n",
       "      <th>0</th>\n",
       "      <td>LinearRegression</td>\n",
       "      <td>313825305768.503052</td>\n",
       "      <td>0.349411</td>\n",
       "    </tr>\n",
       "    <tr>\n",
       "      <th>1</th>\n",
       "      <td>Support Vector Regression</td>\n",
       "      <td>487044210712.435913</td>\n",
       "      <td>-0.009687</td>\n",
       "    </tr>\n",
       "    <tr>\n",
       "      <th>2</th>\n",
       "      <td>Decision Tree Regression</td>\n",
       "      <td>215565293146.665466</td>\n",
       "      <td>0.553113</td>\n",
       "    </tr>\n",
       "    <tr>\n",
       "      <th>3</th>\n",
       "      <td>Random Forest Regression</td>\n",
       "      <td>115887889624.57756</td>\n",
       "      <td>0.759754</td>\n",
       "    </tr>\n",
       "    <tr>\n",
       "      <th>4</th>\n",
       "      <td>XGB Regressor</td>\n",
       "      <td>110045713931.463394</td>\n",
       "      <td>0.771865</td>\n",
       "    </tr>\n",
       "  </tbody>\n",
       "</table>\n",
       "</div>"
      ],
      "text/plain": [
       "                   Algorithm            MSE_Score R2_Score)\n",
       "0           LinearRegression  313825305768.503052  0.349411\n",
       "1  Support Vector Regression  487044210712.435913 -0.009687\n",
       "2   Decision Tree Regression  215565293146.665466  0.553113\n",
       "3   Random Forest Regression   115887889624.57756  0.759754\n",
       "4              XGB Regressor  110045713931.463394  0.771865"
      ]
     },
     "execution_count": 110,
     "metadata": {},
     "output_type": "execute_result"
    }
   ],
   "source": [
    "model_cmp= pd.DataFrame((Algorithm,MSE_Score,R2_Score)).T\n",
    "model_cmp.columns = ['Algorithm','MSE_Score','R2_Score)']\n",
    "model_cmp"
   ]
  },
  {
   "cell_type": "markdown",
   "id": "62e61c60",
   "metadata": {
    "id": "62e61c60"
   },
   "source": [
    "## Now from the Comparison table, you need to choose the best fit model\n",
    "\n",
    "- Step 1 - Fit X_train and y_train inside the model \n",
    "- Step 2 - Predict the X_test dataset\n",
    "- Step 3 - Predict the X_val dataset\n",
    "\n",
    "\n",
    "- Note - No need to change the code"
   ]
  },
  {
   "cell_type": "code",
   "execution_count": 111,
   "id": "3e07c258",
   "metadata": {
    "id": "3e07c258"
   },
   "outputs": [],
   "source": [
    "regressorfinal = xgb.XGBRegressor()\n",
    "regressorfinal.fit(X_train, y_train)\n",
    "predictedfinal = regressorfinal.predict(X_test)\n",
    "predict_testfinal = regressorfinal.predict(X_val)"
   ]
  },
  {
   "cell_type": "markdown",
   "id": "8e4df6c4",
   "metadata": {
    "id": "8e4df6c4"
   },
   "source": [
    "### Calculate the Mean Square Error for test dataset\n",
    "\n",
    "- Note - No need to change the code"
   ]
  },
  {
   "cell_type": "code",
   "execution_count": 112,
   "id": "5fb466d0",
   "metadata": {
    "id": "5fb466d0"
   },
   "outputs": [
    {
     "data": {
      "text/plain": [
       "331731.3882216505"
      ]
     },
     "execution_count": 112,
     "metadata": {},
     "output_type": "execute_result"
    }
   ],
   "source": [
    "mean_squared_error(y_test,predictedfinal,squared=False)"
   ]
  },
  {
   "cell_type": "markdown",
   "id": "ce27f87f",
   "metadata": {
    "id": "ce27f87f"
   },
   "source": [
    "### Calculate the mean Square Error for validation dataset"
   ]
  },
  {
   "cell_type": "code",
   "execution_count": 113,
   "id": "b47978ea",
   "metadata": {
    "id": "b47978ea"
   },
   "outputs": [
    {
     "data": {
      "text/plain": [
       "330776.33194604365"
      ]
     },
     "execution_count": 113,
     "metadata": {},
     "output_type": "execute_result"
    }
   ],
   "source": [
    "mean_squared_error(y_val,predict_testfinal,squared=False)"
   ]
  },
  {
   "cell_type": "markdown",
   "id": "30014dbd",
   "metadata": {
    "id": "30014dbd"
   },
   "source": [
    "### Calculate the R2 score for test"
   ]
  },
  {
   "cell_type": "code",
   "execution_count": 114,
   "id": "8a162737",
   "metadata": {
    "id": "8a162737"
   },
   "outputs": [
    {
     "data": {
      "text/plain": [
       "0.7718651571444011"
      ]
     },
     "execution_count": 114,
     "metadata": {},
     "output_type": "execute_result"
    }
   ],
   "source": [
    "r2_score(y_test, predictedfinal)"
   ]
  },
  {
   "cell_type": "markdown",
   "id": "1c9853b0",
   "metadata": {
    "id": "1c9853b0"
   },
   "source": [
    "### Calculate the R2 score for Validation"
   ]
  },
  {
   "cell_type": "code",
   "execution_count": 115,
   "id": "1a6dc77c",
   "metadata": {
    "id": "1a6dc77c"
   },
   "outputs": [
    {
     "data": {
      "text/plain": [
       "0.7340257011295925"
      ]
     },
     "execution_count": 115,
     "metadata": {},
     "output_type": "execute_result"
    }
   ],
   "source": [
    "r2_score(y_val, predict_testfinal)"
   ]
  },
  {
   "cell_type": "markdown",
   "id": "499522d9",
   "metadata": {
    "id": "499522d9"
   },
   "source": [
    "### Calculate the Accuracy for train Dataset "
   ]
  },
  {
   "cell_type": "code",
   "execution_count": 116,
   "id": "7a4f1ce8",
   "metadata": {
    "id": "7a4f1ce8"
   },
   "outputs": [
    {
     "data": {
      "text/plain": [
       "95.23188290628461"
      ]
     },
     "execution_count": 116,
     "metadata": {},
     "output_type": "execute_result"
    }
   ],
   "source": [
    "regressorfinal.score(X_train,y_train)*100"
   ]
  },
  {
   "cell_type": "markdown",
   "id": "12a1c921",
   "metadata": {
    "id": "12a1c921"
   },
   "source": [
    "### Calculate the accuracy for validation"
   ]
  },
  {
   "cell_type": "code",
   "execution_count": 117,
   "id": "d2579b4f",
   "metadata": {
    "id": "d2579b4f"
   },
   "outputs": [
    {
     "data": {
      "text/plain": [
       "73.40257011295925"
      ]
     },
     "execution_count": 117,
     "metadata": {},
     "output_type": "execute_result"
    }
   ],
   "source": [
    "regressorfinal.score(X_val,y_val)*100"
   ]
  },
  {
   "cell_type": "markdown",
   "id": "79b82e84",
   "metadata": {
    "id": "79b82e84"
   },
   "source": [
    "### Calculate the accuracy for test"
   ]
  },
  {
   "cell_type": "code",
   "execution_count": 118,
   "id": "f09e6431",
   "metadata": {
    "id": "f09e6431"
   },
   "outputs": [
    {
     "data": {
      "text/plain": [
       "77.1865157144401"
      ]
     },
     "execution_count": 118,
     "metadata": {},
     "output_type": "execute_result"
    }
   ],
   "source": [
    "regressorfinal.score(X_test,y_test)*100"
   ]
  },
  {
   "cell_type": "markdown",
   "id": "9488a5d9",
   "metadata": {
    "id": "9488a5d9"
   },
   "source": [
    "## Specify the reason behind choosing your machine learning model \n",
    "\n",
    "- Note : Provide your answer as a text here"
   ]
  },
  {
   "cell_type": "markdown",
   "id": "387a6519",
   "metadata": {
    "id": "387a6519"
   },
   "source": [
    "## Now you need to pass the Nulldata dataframe into this machine learning model\n",
    "\n",
    "#### In order to pass this Nulldata dataframe into the ML model, we need to perform the following\n",
    "\n",
    "- Step 1 : Label Encoding \n",
    "- Step 2 : Day, Month and Year extraction \n",
    "- Step 3 : Change all the column data type into int64 or float64\n",
    "- Step 4 : Need to drop the useless columns "
   ]
  },
  {
   "cell_type": "markdown",
   "id": "I7JuxAkdiAdI",
   "metadata": {
    "id": "I7JuxAkdiAdI"
   },
   "source": [
    "### Display the Nulldata "
   ]
  },
  {
   "cell_type": "code",
   "execution_count": 119,
   "id": "6d6a51d2",
   "metadata": {
    "id": "6d6a51d2"
   },
   "outputs": [
    {
     "data": {
      "text/html": [
       "<div>\n",
       "<style scoped>\n",
       "    .dataframe tbody tr th:only-of-type {\n",
       "        vertical-align: middle;\n",
       "    }\n",
       "\n",
       "    .dataframe tbody tr th {\n",
       "        vertical-align: top;\n",
       "    }\n",
       "\n",
       "    .dataframe thead th {\n",
       "        text-align: right;\n",
       "    }\n",
       "</style>\n",
       "<table border=\"1\" class=\"dataframe\">\n",
       "  <thead>\n",
       "    <tr style=\"text-align: right;\">\n",
       "      <th></th>\n",
       "      <th>business_code</th>\n",
       "      <th>cust_number</th>\n",
       "      <th>name_customer</th>\n",
       "      <th>clear_date</th>\n",
       "      <th>buisness_year</th>\n",
       "      <th>doc_id</th>\n",
       "      <th>posting_date</th>\n",
       "      <th>due_in_date</th>\n",
       "      <th>baseline_create_date</th>\n",
       "      <th>cust_payment_terms</th>\n",
       "      <th>converted_usd</th>\n",
       "    </tr>\n",
       "  </thead>\n",
       "  <tbody>\n",
       "    <tr>\n",
       "      <th>3</th>\n",
       "      <td>CA02</td>\n",
       "      <td>0140105686</td>\n",
       "      <td>SYSC llc</td>\n",
       "      <td>NaT</td>\n",
       "      <td>2020.0</td>\n",
       "      <td>2.960623e+09</td>\n",
       "      <td>2020-03-30</td>\n",
       "      <td>2020-04-10</td>\n",
       "      <td>2020-03-31</td>\n",
       "      <td>CA10</td>\n",
       "      <td>2309.79</td>\n",
       "    </tr>\n",
       "    <tr>\n",
       "      <th>7</th>\n",
       "      <td>U001</td>\n",
       "      <td>0200744019</td>\n",
       "      <td>TARG us</td>\n",
       "      <td>NaT</td>\n",
       "      <td>2020.0</td>\n",
       "      <td>1.930659e+09</td>\n",
       "      <td>2020-03-19</td>\n",
       "      <td>2020-04-03</td>\n",
       "      <td>2020-03-19</td>\n",
       "      <td>NAA8</td>\n",
       "      <td>11173.02</td>\n",
       "    </tr>\n",
       "    <tr>\n",
       "      <th>10</th>\n",
       "      <td>U001</td>\n",
       "      <td>0200418007</td>\n",
       "      <td>AM</td>\n",
       "      <td>NaT</td>\n",
       "      <td>2020.0</td>\n",
       "      <td>1.930611e+09</td>\n",
       "      <td>2020-03-11</td>\n",
       "      <td>2020-03-26</td>\n",
       "      <td>2020-03-11</td>\n",
       "      <td>NAA8</td>\n",
       "      <td>3525.59</td>\n",
       "    </tr>\n",
       "    <tr>\n",
       "      <th>14</th>\n",
       "      <td>U001</td>\n",
       "      <td>0200739534</td>\n",
       "      <td>OK systems</td>\n",
       "      <td>NaT</td>\n",
       "      <td>2020.0</td>\n",
       "      <td>1.930788e+09</td>\n",
       "      <td>2020-04-15</td>\n",
       "      <td>2020-04-30</td>\n",
       "      <td>2020-04-15</td>\n",
       "      <td>NAA8</td>\n",
       "      <td>121105.65</td>\n",
       "    </tr>\n",
       "    <tr>\n",
       "      <th>15</th>\n",
       "      <td>U001</td>\n",
       "      <td>0200353024</td>\n",
       "      <td>DECA corporation</td>\n",
       "      <td>NaT</td>\n",
       "      <td>2020.0</td>\n",
       "      <td>1.930817e+09</td>\n",
       "      <td>2020-04-23</td>\n",
       "      <td>2020-04-26</td>\n",
       "      <td>2020-04-16</td>\n",
       "      <td>NAM2</td>\n",
       "      <td>3726.06</td>\n",
       "    </tr>\n",
       "    <tr>\n",
       "      <th>...</th>\n",
       "      <td>...</td>\n",
       "      <td>...</td>\n",
       "      <td>...</td>\n",
       "      <td>...</td>\n",
       "      <td>...</td>\n",
       "      <td>...</td>\n",
       "      <td>...</td>\n",
       "      <td>...</td>\n",
       "      <td>...</td>\n",
       "      <td>...</td>\n",
       "      <td>...</td>\n",
       "    </tr>\n",
       "    <tr>\n",
       "      <th>49975</th>\n",
       "      <td>U001</td>\n",
       "      <td>0200769623</td>\n",
       "      <td>WAL-MAR in</td>\n",
       "      <td>NaT</td>\n",
       "      <td>2020.0</td>\n",
       "      <td>1.930625e+09</td>\n",
       "      <td>2020-03-10</td>\n",
       "      <td>2020-03-25</td>\n",
       "      <td>2020-03-10</td>\n",
       "      <td>NAH4</td>\n",
       "      <td>13114.99</td>\n",
       "    </tr>\n",
       "    <tr>\n",
       "      <th>49980</th>\n",
       "      <td>U001</td>\n",
       "      <td>0200769623</td>\n",
       "      <td>WAL-MAR corporation</td>\n",
       "      <td>NaT</td>\n",
       "      <td>2020.0</td>\n",
       "      <td>1.930851e+09</td>\n",
       "      <td>2020-05-03</td>\n",
       "      <td>2020-05-18</td>\n",
       "      <td>2020-05-03</td>\n",
       "      <td>NAH4</td>\n",
       "      <td>8899.71</td>\n",
       "    </tr>\n",
       "    <tr>\n",
       "      <th>49982</th>\n",
       "      <td>U001</td>\n",
       "      <td>0200148860</td>\n",
       "      <td>DOLLA co</td>\n",
       "      <td>NaT</td>\n",
       "      <td>2020.0</td>\n",
       "      <td>1.930638e+09</td>\n",
       "      <td>2020-03-11</td>\n",
       "      <td>2020-03-26</td>\n",
       "      <td>2020-03-11</td>\n",
       "      <td>NAA8</td>\n",
       "      <td>4967.06</td>\n",
       "    </tr>\n",
       "    <tr>\n",
       "      <th>49992</th>\n",
       "      <td>U001</td>\n",
       "      <td>0200900909</td>\n",
       "      <td>SYSCO co</td>\n",
       "      <td>NaT</td>\n",
       "      <td>2020.0</td>\n",
       "      <td>1.930702e+09</td>\n",
       "      <td>2020-03-25</td>\n",
       "      <td>2020-04-09</td>\n",
       "      <td>2020-03-25</td>\n",
       "      <td>NAA8</td>\n",
       "      <td>1998.64</td>\n",
       "    </tr>\n",
       "    <tr>\n",
       "      <th>49995</th>\n",
       "      <td>U001</td>\n",
       "      <td>0200561861</td>\n",
       "      <td>CO corporation</td>\n",
       "      <td>NaT</td>\n",
       "      <td>2020.0</td>\n",
       "      <td>1.930797e+09</td>\n",
       "      <td>2020-04-21</td>\n",
       "      <td>2020-05-06</td>\n",
       "      <td>2020-04-21</td>\n",
       "      <td>NAA8</td>\n",
       "      <td>3187.86</td>\n",
       "    </tr>\n",
       "  </tbody>\n",
       "</table>\n",
       "<p>9681 rows × 11 columns</p>\n",
       "</div>"
      ],
      "text/plain": [
       "      business_code cust_number        name_customer clear_date  \\\n",
       "3              CA02  0140105686             SYSC llc        NaT   \n",
       "7              U001  0200744019              TARG us        NaT   \n",
       "10             U001  0200418007                  AM         NaT   \n",
       "14             U001  0200739534           OK systems        NaT   \n",
       "15             U001  0200353024     DECA corporation        NaT   \n",
       "...             ...         ...                  ...        ...   \n",
       "49975          U001  0200769623           WAL-MAR in        NaT   \n",
       "49980          U001  0200769623  WAL-MAR corporation        NaT   \n",
       "49982          U001  0200148860             DOLLA co        NaT   \n",
       "49992          U001  0200900909             SYSCO co        NaT   \n",
       "49995          U001  0200561861       CO corporation        NaT   \n",
       "\n",
       "       buisness_year        doc_id posting_date due_in_date  \\\n",
       "3             2020.0  2.960623e+09   2020-03-30  2020-04-10   \n",
       "7             2020.0  1.930659e+09   2020-03-19  2020-04-03   \n",
       "10            2020.0  1.930611e+09   2020-03-11  2020-03-26   \n",
       "14            2020.0  1.930788e+09   2020-04-15  2020-04-30   \n",
       "15            2020.0  1.930817e+09   2020-04-23  2020-04-26   \n",
       "...              ...           ...          ...         ...   \n",
       "49975         2020.0  1.930625e+09   2020-03-10  2020-03-25   \n",
       "49980         2020.0  1.930851e+09   2020-05-03  2020-05-18   \n",
       "49982         2020.0  1.930638e+09   2020-03-11  2020-03-26   \n",
       "49992         2020.0  1.930702e+09   2020-03-25  2020-04-09   \n",
       "49995         2020.0  1.930797e+09   2020-04-21  2020-05-06   \n",
       "\n",
       "      baseline_create_date cust_payment_terms  converted_usd  \n",
       "3               2020-03-31               CA10        2309.79  \n",
       "7               2020-03-19               NAA8       11173.02  \n",
       "10              2020-03-11               NAA8        3525.59  \n",
       "14              2020-04-15               NAA8      121105.65  \n",
       "15              2020-04-16               NAM2        3726.06  \n",
       "...                    ...                ...            ...  \n",
       "49975           2020-03-10               NAH4       13114.99  \n",
       "49980           2020-05-03               NAH4        8899.71  \n",
       "49982           2020-03-11               NAA8        4967.06  \n",
       "49992           2020-03-25               NAA8        1998.64  \n",
       "49995           2020-04-21               NAA8        3187.86  \n",
       "\n",
       "[9681 rows x 11 columns]"
      ]
     },
     "execution_count": 119,
     "metadata": {},
     "output_type": "execute_result"
    }
   ],
   "source": [
    "nulldata"
   ]
  },
  {
   "cell_type": "markdown",
   "id": "Vamx5xqtiHCH",
   "metadata": {
    "id": "Vamx5xqtiHCH"
   },
   "source": [
    "### Check for the number of rows and columns in the nulldata"
   ]
  },
  {
   "cell_type": "code",
   "execution_count": 120,
   "id": "59de1092",
   "metadata": {
    "id": "59de1092"
   },
   "outputs": [
    {
     "data": {
      "text/plain": [
       "(9681, 11)"
      ]
     },
     "execution_count": 120,
     "metadata": {},
     "output_type": "execute_result"
    }
   ],
   "source": [
    "nulldata.shape"
   ]
  },
  {
   "cell_type": "markdown",
   "id": "BxzHNbBjpqXL",
   "metadata": {
    "id": "BxzHNbBjpqXL"
   },
   "source": [
    "### Check the Description and Information of the nulldata "
   ]
  },
  {
   "cell_type": "code",
   "execution_count": 121,
   "id": "a6294d29",
   "metadata": {
    "id": "a6294d29"
   },
   "outputs": [
    {
     "data": {
      "text/html": [
       "<div>\n",
       "<style scoped>\n",
       "    .dataframe tbody tr th:only-of-type {\n",
       "        vertical-align: middle;\n",
       "    }\n",
       "\n",
       "    .dataframe tbody tr th {\n",
       "        vertical-align: top;\n",
       "    }\n",
       "\n",
       "    .dataframe thead th {\n",
       "        text-align: right;\n",
       "    }\n",
       "</style>\n",
       "<table border=\"1\" class=\"dataframe\">\n",
       "  <thead>\n",
       "    <tr style=\"text-align: right;\">\n",
       "      <th></th>\n",
       "      <th>buisness_year</th>\n",
       "      <th>doc_id</th>\n",
       "      <th>converted_usd</th>\n",
       "    </tr>\n",
       "  </thead>\n",
       "  <tbody>\n",
       "    <tr>\n",
       "      <th>count</th>\n",
       "      <td>9681.0</td>\n",
       "      <td>9.681000e+03</td>\n",
       "      <td>9681.000000</td>\n",
       "    </tr>\n",
       "    <tr>\n",
       "      <th>mean</th>\n",
       "      <td>2020.0</td>\n",
       "      <td>2.006165e+09</td>\n",
       "      <td>32065.681125</td>\n",
       "    </tr>\n",
       "    <tr>\n",
       "      <th>std</th>\n",
       "      <td>0.0</td>\n",
       "      <td>2.673629e+08</td>\n",
       "      <td>35419.613688</td>\n",
       "    </tr>\n",
       "    <tr>\n",
       "      <th>min</th>\n",
       "      <td>2020.0</td>\n",
       "      <td>1.930535e+09</td>\n",
       "      <td>0.720000</td>\n",
       "    </tr>\n",
       "    <tr>\n",
       "      <th>25%</th>\n",
       "      <td>2020.0</td>\n",
       "      <td>1.930658e+09</td>\n",
       "      <td>5607.190000</td>\n",
       "    </tr>\n",
       "    <tr>\n",
       "      <th>50%</th>\n",
       "      <td>2020.0</td>\n",
       "      <td>1.930731e+09</td>\n",
       "      <td>19024.190000</td>\n",
       "    </tr>\n",
       "    <tr>\n",
       "      <th>75%</th>\n",
       "      <td>2020.0</td>\n",
       "      <td>1.930818e+09</td>\n",
       "      <td>47752.640000</td>\n",
       "    </tr>\n",
       "    <tr>\n",
       "      <th>max</th>\n",
       "      <td>2020.0</td>\n",
       "      <td>2.960636e+09</td>\n",
       "      <td>653644.800000</td>\n",
       "    </tr>\n",
       "  </tbody>\n",
       "</table>\n",
       "</div>"
      ],
      "text/plain": [
       "       buisness_year        doc_id  converted_usd\n",
       "count         9681.0  9.681000e+03    9681.000000\n",
       "mean          2020.0  2.006165e+09   32065.681125\n",
       "std              0.0  2.673629e+08   35419.613688\n",
       "min           2020.0  1.930535e+09       0.720000\n",
       "25%           2020.0  1.930658e+09    5607.190000\n",
       "50%           2020.0  1.930731e+09   19024.190000\n",
       "75%           2020.0  1.930818e+09   47752.640000\n",
       "max           2020.0  2.960636e+09  653644.800000"
      ]
     },
     "execution_count": 121,
     "metadata": {},
     "output_type": "execute_result"
    }
   ],
   "source": [
    "nulldata.describe()"
   ]
  },
  {
   "cell_type": "markdown",
   "id": "fe860d94",
   "metadata": {
    "id": "fe860d94"
   },
   "source": [
    "### Storing the Nulldata into a different dataset \n",
    "# for BACKUP"
   ]
  },
  {
   "cell_type": "code",
   "execution_count": 122,
   "id": "16352034",
   "metadata": {
    "id": "16352034"
   },
   "outputs": [],
   "source": [
    "nulldata1= nulldata.copy()"
   ]
  },
  {
   "cell_type": "markdown",
   "id": "00f35b8c",
   "metadata": {
    "id": "00f35b8c"
   },
   "source": [
    "### Call the Label Encoder for Nulldata\n",
    "\n",
    "- Note - you are expected to fit \"business_code\" as it is a categorical variable\n",
    "- Note - No need to change the code"
   ]
  },
  {
   "cell_type": "code",
   "execution_count": 123,
   "id": "baf04b17",
   "metadata": {
    "id": "baf04b17"
   },
   "outputs": [
    {
     "name": "stderr",
     "output_type": "stream",
     "text": [
      "C:\\Users\\91981\\AppData\\Local\\Temp/ipykernel_10416/2833002236.py:4: SettingWithCopyWarning: \n",
      "A value is trying to be set on a copy of a slice from a DataFrame.\n",
      "Try using .loc[row_indexer,col_indexer] = value instead\n",
      "\n",
      "See the caveats in the documentation: https://pandas.pydata.org/pandas-docs/stable/user_guide/indexing.html#returning-a-view-versus-a-copy\n",
      "  nulldata['business_code_enc'] = business_codern.transform(nulldata['business_code'])\n"
     ]
    }
   ],
   "source": [
    "from sklearn.preprocessing import LabelEncoder\n",
    "business_codern = LabelEncoder()\n",
    "business_codern.fit(nulldata['business_code'])\n",
    "nulldata['business_code_enc'] = business_codern.transform(nulldata['business_code'])"
   ]
  },
  {
   "cell_type": "markdown",
   "id": "ZCPBK9karIR-",
   "metadata": {
    "id": "ZCPBK9karIR-"
   },
   "source": [
    "### Now you need to manually replacing str values with numbers\n",
    "- Note - No need to change the code"
   ]
  },
  {
   "cell_type": "code",
   "execution_count": 124,
   "id": "c64924be",
   "metadata": {
    "id": "c64924be"
   },
   "outputs": [
    {
     "name": "stderr",
     "output_type": "stream",
     "text": [
      "C:\\Users\\91981\\AppData\\Local\\Temp/ipykernel_10416/1346024529.py:1: SettingWithCopyWarning: \n",
      "A value is trying to be set on a copy of a slice from a DataFrame.\n",
      "Try using .loc[row_indexer,col_indexer] = value instead\n",
      "\n",
      "See the caveats in the documentation: https://pandas.pydata.org/pandas-docs/stable/user_guide/indexing.html#returning-a-view-versus-a-copy\n",
      "  nulldata['cust_number'] = nulldata['cust_number'].str.replace('CCCA',\"1\").str.replace('CCU',\"2\").str.replace('CC',\"3\").astype(int)\n"
     ]
    }
   ],
   "source": [
    "nulldata['cust_number'] = nulldata['cust_number'].str.replace('CCCA',\"1\").str.replace('CCU',\"2\").str.replace('CC',\"3\").astype(int)"
   ]
  },
  {
   "cell_type": "markdown",
   "id": "9a55f5f6",
   "metadata": {
    "id": "9a55f5f6"
   },
   "source": [
    "## You need to extract day, month and year from the \"clear_date\", \"posting_date\", \"due_in_date\", \"baseline_create_date\" columns\n",
    "\n",
    "\n",
    "##### 1.   Extract day from \"clear_date\" column and store it into 'day_of_cleardate'\n",
    "##### 2.   Extract month from \"clear_date\" column and store it into 'month_of_cleardate'\n",
    "##### 3.   Extract year from \"clear_date\" column and store it into 'year_of_cleardate'\n",
    "\n",
    "\n",
    "\n",
    "##### 4.   Extract day from \"posting_date\" column and store it into 'day_of_postingdate'\n",
    "##### 5.   Extract month from \"posting_date\" column and store it into 'month_of_postingdate'\n",
    "##### 6.   Extract year from \"posting_date\" column and store it into 'year_of_postingdate'\n",
    "\n",
    "\n",
    "\n",
    "\n",
    "##### 7.   Extract day from \"due_in_date\" column and store it into 'day_of_due'\n",
    "##### 8.   Extract month from \"due_in_date\" column and store it into 'month_of_due'\n",
    "##### 9.   Extract year from \"due_in_date\" column and store it into 'year_of_due'\n",
    "\n",
    "\n",
    "\n",
    "\n",
    "##### 10.   Extract day from \"baseline_create_date\" column and store it into 'day_of_createdate'\n",
    "##### 11.   Extract month from \"baseline_create_date\" column and store it into 'month_of_createdate'\n",
    "##### 12.   Extract year from \"baseline_create_date\" column and store it into 'year_of_createdate'\n",
    "\n",
    "\n",
    "\n",
    "\n",
    "- Note - You are supposed To use - \n",
    "\n",
    "*   dt.day\n",
    "*   dt.month\n",
    "*   dt.year"
   ]
  },
  {
   "cell_type": "code",
   "execution_count": 125,
   "id": "4166fbe4",
   "metadata": {
    "id": "4166fbe4"
   },
   "outputs": [
    {
     "name": "stderr",
     "output_type": "stream",
     "text": [
      "C:\\Users\\91981\\AppData\\Local\\Temp/ipykernel_10416/3049094106.py:1: SettingWithCopyWarning: \n",
      "A value is trying to be set on a copy of a slice from a DataFrame.\n",
      "Try using .loc[row_indexer,col_indexer] = value instead\n",
      "\n",
      "See the caveats in the documentation: https://pandas.pydata.org/pandas-docs/stable/user_guide/indexing.html#returning-a-view-versus-a-copy\n",
      "  nulldata['day_of_cleardate'] = nulldata['clear_date'].dt.day\n",
      "C:\\Users\\91981\\AppData\\Local\\Temp/ipykernel_10416/3049094106.py:2: SettingWithCopyWarning: \n",
      "A value is trying to be set on a copy of a slice from a DataFrame.\n",
      "Try using .loc[row_indexer,col_indexer] = value instead\n",
      "\n",
      "See the caveats in the documentation: https://pandas.pydata.org/pandas-docs/stable/user_guide/indexing.html#returning-a-view-versus-a-copy\n",
      "  nulldata['month_of_cleardate'] = nulldata['clear_date'].dt.month\n",
      "C:\\Users\\91981\\AppData\\Local\\Temp/ipykernel_10416/3049094106.py:3: SettingWithCopyWarning: \n",
      "A value is trying to be set on a copy of a slice from a DataFrame.\n",
      "Try using .loc[row_indexer,col_indexer] = value instead\n",
      "\n",
      "See the caveats in the documentation: https://pandas.pydata.org/pandas-docs/stable/user_guide/indexing.html#returning-a-view-versus-a-copy\n",
      "  nulldata['year_of_cleardate'] = nulldata['clear_date'].dt.year\n",
      "C:\\Users\\91981\\AppData\\Local\\Temp/ipykernel_10416/3049094106.py:5: SettingWithCopyWarning: \n",
      "A value is trying to be set on a copy of a slice from a DataFrame.\n",
      "Try using .loc[row_indexer,col_indexer] = value instead\n",
      "\n",
      "See the caveats in the documentation: https://pandas.pydata.org/pandas-docs/stable/user_guide/indexing.html#returning-a-view-versus-a-copy\n",
      "  nulldata['day_of_postingdate'] = nulldata['posting_date'].dt.day\n",
      "C:\\Users\\91981\\AppData\\Local\\Temp/ipykernel_10416/3049094106.py:6: SettingWithCopyWarning: \n",
      "A value is trying to be set on a copy of a slice from a DataFrame.\n",
      "Try using .loc[row_indexer,col_indexer] = value instead\n",
      "\n",
      "See the caveats in the documentation: https://pandas.pydata.org/pandas-docs/stable/user_guide/indexing.html#returning-a-view-versus-a-copy\n",
      "  nulldata['month_of_postingdate'] = nulldata['posting_date'].dt.month\n",
      "C:\\Users\\91981\\AppData\\Local\\Temp/ipykernel_10416/3049094106.py:7: SettingWithCopyWarning: \n",
      "A value is trying to be set on a copy of a slice from a DataFrame.\n",
      "Try using .loc[row_indexer,col_indexer] = value instead\n",
      "\n",
      "See the caveats in the documentation: https://pandas.pydata.org/pandas-docs/stable/user_guide/indexing.html#returning-a-view-versus-a-copy\n",
      "  nulldata['year_of_postingdate'] = nulldata['posting_date'].dt.year\n",
      "C:\\Users\\91981\\AppData\\Local\\Temp/ipykernel_10416/3049094106.py:9: SettingWithCopyWarning: \n",
      "A value is trying to be set on a copy of a slice from a DataFrame.\n",
      "Try using .loc[row_indexer,col_indexer] = value instead\n",
      "\n",
      "See the caveats in the documentation: https://pandas.pydata.org/pandas-docs/stable/user_guide/indexing.html#returning-a-view-versus-a-copy\n",
      "  nulldata['day_of_due'] = nulldata['due_in_date'].dt.day\n",
      "C:\\Users\\91981\\AppData\\Local\\Temp/ipykernel_10416/3049094106.py:10: SettingWithCopyWarning: \n",
      "A value is trying to be set on a copy of a slice from a DataFrame.\n",
      "Try using .loc[row_indexer,col_indexer] = value instead\n",
      "\n",
      "See the caveats in the documentation: https://pandas.pydata.org/pandas-docs/stable/user_guide/indexing.html#returning-a-view-versus-a-copy\n",
      "  nulldata['month_of_due'] = nulldata['due_in_date'].dt.month\n",
      "C:\\Users\\91981\\AppData\\Local\\Temp/ipykernel_10416/3049094106.py:11: SettingWithCopyWarning: \n",
      "A value is trying to be set on a copy of a slice from a DataFrame.\n",
      "Try using .loc[row_indexer,col_indexer] = value instead\n",
      "\n",
      "See the caveats in the documentation: https://pandas.pydata.org/pandas-docs/stable/user_guide/indexing.html#returning-a-view-versus-a-copy\n",
      "  nulldata['year_of_due'] = nulldata['due_in_date'].dt.year\n",
      "C:\\Users\\91981\\AppData\\Local\\Temp/ipykernel_10416/3049094106.py:13: SettingWithCopyWarning: \n",
      "A value is trying to be set on a copy of a slice from a DataFrame.\n",
      "Try using .loc[row_indexer,col_indexer] = value instead\n",
      "\n",
      "See the caveats in the documentation: https://pandas.pydata.org/pandas-docs/stable/user_guide/indexing.html#returning-a-view-versus-a-copy\n",
      "  nulldata['day_of_createdate'] = nulldata['baseline_create_date'].dt.day\n",
      "C:\\Users\\91981\\AppData\\Local\\Temp/ipykernel_10416/3049094106.py:14: SettingWithCopyWarning: \n",
      "A value is trying to be set on a copy of a slice from a DataFrame.\n",
      "Try using .loc[row_indexer,col_indexer] = value instead\n",
      "\n",
      "See the caveats in the documentation: https://pandas.pydata.org/pandas-docs/stable/user_guide/indexing.html#returning-a-view-versus-a-copy\n",
      "  nulldata['month_of_createdate'] = nulldata['baseline_create_date'].dt.month\n",
      "C:\\Users\\91981\\AppData\\Local\\Temp/ipykernel_10416/3049094106.py:15: SettingWithCopyWarning: \n",
      "A value is trying to be set on a copy of a slice from a DataFrame.\n",
      "Try using .loc[row_indexer,col_indexer] = value instead\n",
      "\n",
      "See the caveats in the documentation: https://pandas.pydata.org/pandas-docs/stable/user_guide/indexing.html#returning-a-view-versus-a-copy\n",
      "  nulldata['year_of_createdate'] = nulldata['baseline_create_date'].dt.year\n"
     ]
    }
   ],
   "source": [
    "nulldata['day_of_cleardate'] = nulldata['clear_date'].dt.day\n",
    "nulldata['month_of_cleardate'] = nulldata['clear_date'].dt.month\n",
    "nulldata['year_of_cleardate'] = nulldata['clear_date'].dt.year\n",
    "\n",
    "nulldata['day_of_postingdate'] = nulldata['posting_date'].dt.day\n",
    "nulldata['month_of_postingdate'] = nulldata['posting_date'].dt.month\n",
    "nulldata['year_of_postingdate'] = nulldata['posting_date'].dt.year\n",
    "\n",
    "nulldata['day_of_due'] = nulldata['due_in_date'].dt.day\n",
    "nulldata['month_of_due'] = nulldata['due_in_date'].dt.month\n",
    "nulldata['year_of_due'] = nulldata['due_in_date'].dt.year\n",
    "\n",
    "nulldata['day_of_createdate'] = nulldata['baseline_create_date'].dt.day\n",
    "nulldata['month_of_createdate'] = nulldata['baseline_create_date'].dt.month\n",
    "nulldata['year_of_createdate'] = nulldata['baseline_create_date'].dt.year"
   ]
  },
  {
   "cell_type": "markdown",
   "id": "QeHWJYrAvOC6",
   "metadata": {
    "id": "QeHWJYrAvOC6"
   },
   "source": [
    "### Use Label Encoder1 of all the following columns - \n",
    "- 'cust_payment_terms' and store into 'cust_payment_terms_enc'\n",
    "- 'business_code' and store into 'business_code_enc'\n",
    "- 'name_customer' and store into 'name_customer_enc'\n",
    "\n",
    "Note - No need to change the code"
   ]
  },
  {
   "cell_type": "code",
   "execution_count": 126,
   "id": "bac330e2",
   "metadata": {
    "id": "bac330e2"
   },
   "outputs": [
    {
     "name": "stderr",
     "output_type": "stream",
     "text": [
      "C:\\Users\\91981\\AppData\\Local\\Temp/ipykernel_10416/2042587076.py:1: SettingWithCopyWarning: \n",
      "A value is trying to be set on a copy of a slice from a DataFrame.\n",
      "Try using .loc[row_indexer,col_indexer] = value instead\n",
      "\n",
      "See the caveats in the documentation: https://pandas.pydata.org/pandas-docs/stable/user_guide/indexing.html#returning-a-view-versus-a-copy\n",
      "  nulldata['cust_payment_terms_enc']=label_encoder1.transform(nulldata['cust_payment_terms'])\n",
      "C:\\Users\\91981\\AppData\\Local\\Temp/ipykernel_10416/2042587076.py:2: SettingWithCopyWarning: \n",
      "A value is trying to be set on a copy of a slice from a DataFrame.\n",
      "Try using .loc[row_indexer,col_indexer] = value instead\n",
      "\n",
      "See the caveats in the documentation: https://pandas.pydata.org/pandas-docs/stable/user_guide/indexing.html#returning-a-view-versus-a-copy\n",
      "  nulldata['business_code_enc']=label_encoder1.transform(nulldata['business_code'])\n",
      "C:\\Users\\91981\\AppData\\Local\\Temp/ipykernel_10416/2042587076.py:3: SettingWithCopyWarning: \n",
      "A value is trying to be set on a copy of a slice from a DataFrame.\n",
      "Try using .loc[row_indexer,col_indexer] = value instead\n",
      "\n",
      "See the caveats in the documentation: https://pandas.pydata.org/pandas-docs/stable/user_guide/indexing.html#returning-a-view-versus-a-copy\n",
      "  nulldata['name_customer_enc']=label_encoder.transform(nulldata['name_customer'])\n"
     ]
    }
   ],
   "source": [
    "nulldata['cust_payment_terms_enc']=label_encoder1.transform(nulldata['cust_payment_terms'])\n",
    "nulldata['business_code_enc']=label_encoder1.transform(nulldata['business_code'])\n",
    "nulldata['name_customer_enc']=label_encoder.transform(nulldata['name_customer'])\n"
   ]
  },
  {
   "cell_type": "markdown",
   "id": "zD9I-XqQwC28",
   "metadata": {
    "id": "zD9I-XqQwC28"
   },
   "source": [
    "### Check for the datatypes of all the columns of Nulldata"
   ]
  },
  {
   "cell_type": "code",
   "execution_count": 127,
   "id": "d4f72517",
   "metadata": {
    "id": "d4f72517"
   },
   "outputs": [
    {
     "data": {
      "text/plain": [
       "business_code                     object\n",
       "cust_number                        int32\n",
       "name_customer                     object\n",
       "clear_date                datetime64[ns]\n",
       "buisness_year                    float64\n",
       "doc_id                           float64\n",
       "posting_date              datetime64[ns]\n",
       "due_in_date               datetime64[ns]\n",
       "baseline_create_date      datetime64[ns]\n",
       "cust_payment_terms                object\n",
       "converted_usd                    float64\n",
       "business_code_enc                  int32\n",
       "day_of_cleardate                 float64\n",
       "month_of_cleardate               float64\n",
       "year_of_cleardate                float64\n",
       "day_of_postingdate                 int64\n",
       "month_of_postingdate               int64\n",
       "year_of_postingdate                int64\n",
       "day_of_due                         int64\n",
       "month_of_due                       int64\n",
       "year_of_due                        int64\n",
       "day_of_createdate                  int64\n",
       "month_of_createdate                int64\n",
       "year_of_createdate                 int64\n",
       "cust_payment_terms_enc             int32\n",
       "name_customer_enc                  int32\n",
       "dtype: object"
      ]
     },
     "execution_count": 127,
     "metadata": {},
     "output_type": "execute_result"
    }
   ],
   "source": [
    "nulldata.dtypes"
   ]
  },
  {
   "cell_type": "markdown",
   "id": "17cd5452",
   "metadata": {
    "id": "17cd5452"
   },
   "source": [
    "### Now you need to drop all the unnecessary columns - \n",
    "\n",
    "- 'business_code'\n",
    "- \"baseline_create_date\"\n",
    "- \"due_in_date\"\n",
    "- \"posting_date\"\n",
    "- \"name_customer\"\n",
    "- \"clear_date\"\n",
    "- \"cust_payment_terms\"\n",
    "- 'day_of_cleardate'\n",
    "- \"month_of_cleardate\"\n",
    "- \"year_of_cleardate\""
   ]
  },
  {
   "cell_type": "code",
   "execution_count": 128,
   "id": "d7c82076",
   "metadata": {
    "id": "d7c82076"
   },
   "outputs": [
    {
     "name": "stderr",
     "output_type": "stream",
     "text": [
      "D:\\Software\\Anaconda\\lib\\site-packages\\pandas\\core\\frame.py:4906: SettingWithCopyWarning: \n",
      "A value is trying to be set on a copy of a slice from a DataFrame\n",
      "\n",
      "See the caveats in the documentation: https://pandas.pydata.org/pandas-docs/stable/user_guide/indexing.html#returning-a-view-versus-a-copy\n",
      "  return super().drop(\n"
     ]
    }
   ],
   "source": [
    "nulldata.drop(['business_code', \"baseline_create_date\", \"due_in_date\",\"posting_date\", \"name_customer\", \"clear_date\",\n",
    "       \"cust_payment_terms\",\"month_of_cleardate\",\"year_of_cleardate\",\"day_of_cleardate\"],axis=1,inplace=True)"
   ]
  },
  {
   "cell_type": "markdown",
   "id": "Q_NCr9IPweVq",
   "metadata": {
    "id": "Q_NCr9IPweVq"
   },
   "source": [
    "### Check the information of the \"nulldata\" dataframe"
   ]
  },
  {
   "cell_type": "code",
   "execution_count": 129,
   "id": "4e7ffee0",
   "metadata": {
    "id": "4e7ffee0"
   },
   "outputs": [
    {
     "name": "stdout",
     "output_type": "stream",
     "text": [
      "<class 'pandas.core.frame.DataFrame'>\n",
      "Int64Index: 9681 entries, 3 to 49995\n",
      "Data columns (total 16 columns):\n",
      " #   Column                  Non-Null Count  Dtype  \n",
      "---  ------                  --------------  -----  \n",
      " 0   cust_number             9681 non-null   int32  \n",
      " 1   buisness_year           9681 non-null   float64\n",
      " 2   doc_id                  9681 non-null   float64\n",
      " 3   converted_usd           9681 non-null   float64\n",
      " 4   business_code_enc       9681 non-null   int32  \n",
      " 5   day_of_postingdate      9681 non-null   int64  \n",
      " 6   month_of_postingdate    9681 non-null   int64  \n",
      " 7   year_of_postingdate     9681 non-null   int64  \n",
      " 8   day_of_due              9681 non-null   int64  \n",
      " 9   month_of_due            9681 non-null   int64  \n",
      " 10  year_of_due             9681 non-null   int64  \n",
      " 11  day_of_createdate       9681 non-null   int64  \n",
      " 12  month_of_createdate     9681 non-null   int64  \n",
      " 13  year_of_createdate      9681 non-null   int64  \n",
      " 14  cust_payment_terms_enc  9681 non-null   int32  \n",
      " 15  name_customer_enc       9681 non-null   int32  \n",
      "dtypes: float64(3), int32(4), int64(9)\n",
      "memory usage: 1.1 MB\n"
     ]
    }
   ],
   "source": [
    "nulldata.info()"
   ]
  },
  {
   "cell_type": "markdown",
   "id": "-XvjhWqmwi-C",
   "metadata": {
    "id": "-XvjhWqmwi-C"
   },
   "source": [
    "### Compare \"nulldata\" with the \"X_test\" dataframe \n",
    "\n",
    "- use info() method"
   ]
  },
  {
   "cell_type": "code",
   "execution_count": 130,
   "id": "02f4b62d",
   "metadata": {
    "id": "02f4b62d"
   },
   "outputs": [
    {
     "name": "stdout",
     "output_type": "stream",
     "text": [
      "<class 'pandas.core.frame.DataFrame'>\n",
      "Int64Index: 7832 entries, 23394 to 26662\n",
      "Data columns (total 16 columns):\n",
      " #   Column                  Non-Null Count  Dtype  \n",
      "---  ------                  --------------  -----  \n",
      " 0   cust_number             7832 non-null   int32  \n",
      " 1   buisness_year           7832 non-null   float64\n",
      " 2   doc_id                  7832 non-null   float64\n",
      " 3   converted_usd           7832 non-null   float64\n",
      " 4   business_code_enc       7832 non-null   int32  \n",
      " 5   name_customer_enc       7832 non-null   int32  \n",
      " 6   cust_payment_terms_enc  7832 non-null   int32  \n",
      " 7   day_of_postingdate      7832 non-null   int64  \n",
      " 8   month_of_postingdate    7832 non-null   int64  \n",
      " 9   year_of_postingdate     7832 non-null   int64  \n",
      " 10  day_of_createdate       7832 non-null   int64  \n",
      " 11  month_of_createdate     7832 non-null   int64  \n",
      " 12  year_of_createdate      7832 non-null   int64  \n",
      " 13  day_of_due              7832 non-null   int64  \n",
      " 14  month_of_due            7832 non-null   int64  \n",
      " 15  year_of_due             7832 non-null   int64  \n",
      "dtypes: float64(3), int32(4), int64(9)\n",
      "memory usage: 917.8 KB\n"
     ]
    }
   ],
   "source": [
    "X_test.info()"
   ]
  },
  {
   "cell_type": "markdown",
   "id": "Us3ey-9zwqjq",
   "metadata": {
    "id": "Us3ey-9zwqjq"
   },
   "source": [
    "### You must have noticed that there is a mismatch in the column sequence while compairing the dataframes\n",
    "\n",
    "- Note - In order to fed into the machine learning model, you need to edit the sequence of \"nulldata\", similar to the \"X_test\" dataframe"
   ]
  },
  {
   "cell_type": "markdown",
   "id": "vduVNt1kxPW-",
   "metadata": {
    "id": "vduVNt1kxPW-"
   },
   "source": [
    "- Display all the columns of the X_test dataframe \n",
    "- Display all the columns of the Nulldata dataframe \n",
    "- Store the Nulldata with new sequence into a new dataframe \n",
    "\n",
    "\n",
    "- Note - The code is given below, no need to change "
   ]
  },
  {
   "cell_type": "code",
   "execution_count": 131,
   "id": "6729353e",
   "metadata": {
    "id": "6729353e"
   },
   "outputs": [
    {
     "data": {
      "text/plain": [
       "Index(['cust_number', 'buisness_year', 'doc_id', 'converted_usd',\n",
       "       'business_code_enc', 'name_customer_enc', 'cust_payment_terms_enc',\n",
       "       'day_of_postingdate', 'month_of_postingdate', 'year_of_postingdate',\n",
       "       'day_of_createdate', 'month_of_createdate', 'year_of_createdate',\n",
       "       'day_of_due', 'month_of_due', 'year_of_due'],\n",
       "      dtype='object')"
      ]
     },
     "execution_count": 131,
     "metadata": {},
     "output_type": "execute_result"
    }
   ],
   "source": [
    "X_test.columns"
   ]
  },
  {
   "cell_type": "code",
   "execution_count": 132,
   "id": "47bd9c5e",
   "metadata": {
    "id": "47bd9c5e"
   },
   "outputs": [
    {
     "data": {
      "text/plain": [
       "Index(['cust_number', 'buisness_year', 'doc_id', 'converted_usd',\n",
       "       'business_code_enc', 'day_of_postingdate', 'month_of_postingdate',\n",
       "       'year_of_postingdate', 'day_of_due', 'month_of_due', 'year_of_due',\n",
       "       'day_of_createdate', 'month_of_createdate', 'year_of_createdate',\n",
       "       'cust_payment_terms_enc', 'name_customer_enc'],\n",
       "      dtype='object')"
      ]
     },
     "execution_count": 132,
     "metadata": {},
     "output_type": "execute_result"
    }
   ],
   "source": [
    "nulldata.columns"
   ]
  },
  {
   "cell_type": "code",
   "execution_count": 133,
   "id": "aa5a2103",
   "metadata": {
    "id": "aa5a2103"
   },
   "outputs": [],
   "source": [
    "nulldata2=nulldata[['cust_number', 'buisness_year', 'doc_id', 'converted_usd',\n",
    "       'business_code_enc', 'name_customer_enc', 'cust_payment_terms_enc',\n",
    "       'day_of_postingdate', 'month_of_postingdate', 'year_of_postingdate',\n",
    "       'day_of_createdate', 'month_of_createdate', 'year_of_createdate',\n",
    "       'day_of_due', 'month_of_due', 'year_of_due']]"
   ]
  },
  {
   "cell_type": "markdown",
   "id": "1dc8b021",
   "metadata": {
    "id": "1dc8b021"
   },
   "source": [
    "### Display the Final Dataset"
   ]
  },
  {
   "cell_type": "code",
   "execution_count": 134,
   "id": "2f39785a",
   "metadata": {
    "id": "2f39785a"
   },
   "outputs": [
    {
     "data": {
      "text/html": [
       "<div>\n",
       "<style scoped>\n",
       "    .dataframe tbody tr th:only-of-type {\n",
       "        vertical-align: middle;\n",
       "    }\n",
       "\n",
       "    .dataframe tbody tr th {\n",
       "        vertical-align: top;\n",
       "    }\n",
       "\n",
       "    .dataframe thead th {\n",
       "        text-align: right;\n",
       "    }\n",
       "</style>\n",
       "<table border=\"1\" class=\"dataframe\">\n",
       "  <thead>\n",
       "    <tr style=\"text-align: right;\">\n",
       "      <th></th>\n",
       "      <th>cust_number</th>\n",
       "      <th>buisness_year</th>\n",
       "      <th>doc_id</th>\n",
       "      <th>converted_usd</th>\n",
       "      <th>business_code_enc</th>\n",
       "      <th>day_of_postingdate</th>\n",
       "      <th>month_of_postingdate</th>\n",
       "      <th>year_of_postingdate</th>\n",
       "      <th>day_of_due</th>\n",
       "      <th>month_of_due</th>\n",
       "      <th>year_of_due</th>\n",
       "      <th>day_of_createdate</th>\n",
       "      <th>month_of_createdate</th>\n",
       "      <th>year_of_createdate</th>\n",
       "      <th>cust_payment_terms_enc</th>\n",
       "      <th>name_customer_enc</th>\n",
       "    </tr>\n",
       "  </thead>\n",
       "  <tbody>\n",
       "    <tr>\n",
       "      <th>3</th>\n",
       "      <td>140105686</td>\n",
       "      <td>2020.0</td>\n",
       "      <td>2.960623e+09</td>\n",
       "      <td>2309.79</td>\n",
       "      <td>65</td>\n",
       "      <td>30</td>\n",
       "      <td>3</td>\n",
       "      <td>2020</td>\n",
       "      <td>10</td>\n",
       "      <td>4</td>\n",
       "      <td>2020</td>\n",
       "      <td>31</td>\n",
       "      <td>3</td>\n",
       "      <td>2020</td>\n",
       "      <td>5</td>\n",
       "      <td>2694</td>\n",
       "    </tr>\n",
       "    <tr>\n",
       "      <th>7</th>\n",
       "      <td>200744019</td>\n",
       "      <td>2020.0</td>\n",
       "      <td>1.930659e+09</td>\n",
       "      <td>11173.02</td>\n",
       "      <td>65</td>\n",
       "      <td>19</td>\n",
       "      <td>3</td>\n",
       "      <td>2020</td>\n",
       "      <td>3</td>\n",
       "      <td>4</td>\n",
       "      <td>2020</td>\n",
       "      <td>19</td>\n",
       "      <td>3</td>\n",
       "      <td>2020</td>\n",
       "      <td>21</td>\n",
       "      <td>2777</td>\n",
       "    </tr>\n",
       "    <tr>\n",
       "      <th>10</th>\n",
       "      <td>200418007</td>\n",
       "      <td>2020.0</td>\n",
       "      <td>1.930611e+09</td>\n",
       "      <td>3525.59</td>\n",
       "      <td>65</td>\n",
       "      <td>11</td>\n",
       "      <td>3</td>\n",
       "      <td>2020</td>\n",
       "      <td>26</td>\n",
       "      <td>3</td>\n",
       "      <td>2020</td>\n",
       "      <td>11</td>\n",
       "      <td>3</td>\n",
       "      <td>2020</td>\n",
       "      <td>21</td>\n",
       "      <td>96</td>\n",
       "    </tr>\n",
       "    <tr>\n",
       "      <th>14</th>\n",
       "      <td>200739534</td>\n",
       "      <td>2020.0</td>\n",
       "      <td>1.930788e+09</td>\n",
       "      <td>121105.65</td>\n",
       "      <td>65</td>\n",
       "      <td>15</td>\n",
       "      <td>4</td>\n",
       "      <td>2020</td>\n",
       "      <td>30</td>\n",
       "      <td>4</td>\n",
       "      <td>2020</td>\n",
       "      <td>15</td>\n",
       "      <td>4</td>\n",
       "      <td>2020</td>\n",
       "      <td>21</td>\n",
       "      <td>2008</td>\n",
       "    </tr>\n",
       "    <tr>\n",
       "      <th>15</th>\n",
       "      <td>200353024</td>\n",
       "      <td>2020.0</td>\n",
       "      <td>1.930817e+09</td>\n",
       "      <td>3726.06</td>\n",
       "      <td>65</td>\n",
       "      <td>23</td>\n",
       "      <td>4</td>\n",
       "      <td>2020</td>\n",
       "      <td>26</td>\n",
       "      <td>4</td>\n",
       "      <td>2020</td>\n",
       "      <td>16</td>\n",
       "      <td>4</td>\n",
       "      <td>2020</td>\n",
       "      <td>36</td>\n",
       "      <td>729</td>\n",
       "    </tr>\n",
       "    <tr>\n",
       "      <th>...</th>\n",
       "      <td>...</td>\n",
       "      <td>...</td>\n",
       "      <td>...</td>\n",
       "      <td>...</td>\n",
       "      <td>...</td>\n",
       "      <td>...</td>\n",
       "      <td>...</td>\n",
       "      <td>...</td>\n",
       "      <td>...</td>\n",
       "      <td>...</td>\n",
       "      <td>...</td>\n",
       "      <td>...</td>\n",
       "      <td>...</td>\n",
       "      <td>...</td>\n",
       "      <td>...</td>\n",
       "      <td>...</td>\n",
       "    </tr>\n",
       "    <tr>\n",
       "      <th>49975</th>\n",
       "      <td>200769623</td>\n",
       "      <td>2020.0</td>\n",
       "      <td>1.930625e+09</td>\n",
       "      <td>13114.99</td>\n",
       "      <td>65</td>\n",
       "      <td>10</td>\n",
       "      <td>3</td>\n",
       "      <td>2020</td>\n",
       "      <td>25</td>\n",
       "      <td>3</td>\n",
       "      <td>2020</td>\n",
       "      <td>10</td>\n",
       "      <td>3</td>\n",
       "      <td>2020</td>\n",
       "      <td>34</td>\n",
       "      <td>2979</td>\n",
       "    </tr>\n",
       "    <tr>\n",
       "      <th>49980</th>\n",
       "      <td>200769623</td>\n",
       "      <td>2020.0</td>\n",
       "      <td>1.930851e+09</td>\n",
       "      <td>8899.71</td>\n",
       "      <td>65</td>\n",
       "      <td>3</td>\n",
       "      <td>5</td>\n",
       "      <td>2020</td>\n",
       "      <td>18</td>\n",
       "      <td>5</td>\n",
       "      <td>2020</td>\n",
       "      <td>3</td>\n",
       "      <td>5</td>\n",
       "      <td>2020</td>\n",
       "      <td>34</td>\n",
       "      <td>2977</td>\n",
       "    </tr>\n",
       "    <tr>\n",
       "      <th>49982</th>\n",
       "      <td>200148860</td>\n",
       "      <td>2020.0</td>\n",
       "      <td>1.930638e+09</td>\n",
       "      <td>4967.06</td>\n",
       "      <td>65</td>\n",
       "      <td>11</td>\n",
       "      <td>3</td>\n",
       "      <td>2020</td>\n",
       "      <td>26</td>\n",
       "      <td>3</td>\n",
       "      <td>2020</td>\n",
       "      <td>11</td>\n",
       "      <td>3</td>\n",
       "      <td>2020</td>\n",
       "      <td>21</td>\n",
       "      <td>803</td>\n",
       "    </tr>\n",
       "    <tr>\n",
       "      <th>49992</th>\n",
       "      <td>200900909</td>\n",
       "      <td>2020.0</td>\n",
       "      <td>1.930702e+09</td>\n",
       "      <td>1998.64</td>\n",
       "      <td>65</td>\n",
       "      <td>25</td>\n",
       "      <td>3</td>\n",
       "      <td>2020</td>\n",
       "      <td>9</td>\n",
       "      <td>4</td>\n",
       "      <td>2020</td>\n",
       "      <td>25</td>\n",
       "      <td>3</td>\n",
       "      <td>2020</td>\n",
       "      <td>21</td>\n",
       "      <td>2738</td>\n",
       "    </tr>\n",
       "    <tr>\n",
       "      <th>49995</th>\n",
       "      <td>200561861</td>\n",
       "      <td>2020.0</td>\n",
       "      <td>1.930797e+09</td>\n",
       "      <td>3187.86</td>\n",
       "      <td>65</td>\n",
       "      <td>21</td>\n",
       "      <td>4</td>\n",
       "      <td>2020</td>\n",
       "      <td>6</td>\n",
       "      <td>5</td>\n",
       "      <td>2020</td>\n",
       "      <td>21</td>\n",
       "      <td>4</td>\n",
       "      <td>2020</td>\n",
       "      <td>21</td>\n",
       "      <td>541</td>\n",
       "    </tr>\n",
       "  </tbody>\n",
       "</table>\n",
       "<p>9681 rows × 16 columns</p>\n",
       "</div>"
      ],
      "text/plain": [
       "       cust_number  buisness_year        doc_id  converted_usd  \\\n",
       "3        140105686         2020.0  2.960623e+09        2309.79   \n",
       "7        200744019         2020.0  1.930659e+09       11173.02   \n",
       "10       200418007         2020.0  1.930611e+09        3525.59   \n",
       "14       200739534         2020.0  1.930788e+09      121105.65   \n",
       "15       200353024         2020.0  1.930817e+09        3726.06   \n",
       "...            ...            ...           ...            ...   \n",
       "49975    200769623         2020.0  1.930625e+09       13114.99   \n",
       "49980    200769623         2020.0  1.930851e+09        8899.71   \n",
       "49982    200148860         2020.0  1.930638e+09        4967.06   \n",
       "49992    200900909         2020.0  1.930702e+09        1998.64   \n",
       "49995    200561861         2020.0  1.930797e+09        3187.86   \n",
       "\n",
       "       business_code_enc  day_of_postingdate  month_of_postingdate  \\\n",
       "3                     65                  30                     3   \n",
       "7                     65                  19                     3   \n",
       "10                    65                  11                     3   \n",
       "14                    65                  15                     4   \n",
       "15                    65                  23                     4   \n",
       "...                  ...                 ...                   ...   \n",
       "49975                 65                  10                     3   \n",
       "49980                 65                   3                     5   \n",
       "49982                 65                  11                     3   \n",
       "49992                 65                  25                     3   \n",
       "49995                 65                  21                     4   \n",
       "\n",
       "       year_of_postingdate  day_of_due  month_of_due  year_of_due  \\\n",
       "3                     2020          10             4         2020   \n",
       "7                     2020           3             4         2020   \n",
       "10                    2020          26             3         2020   \n",
       "14                    2020          30             4         2020   \n",
       "15                    2020          26             4         2020   \n",
       "...                    ...         ...           ...          ...   \n",
       "49975                 2020          25             3         2020   \n",
       "49980                 2020          18             5         2020   \n",
       "49982                 2020          26             3         2020   \n",
       "49992                 2020           9             4         2020   \n",
       "49995                 2020           6             5         2020   \n",
       "\n",
       "       day_of_createdate  month_of_createdate  year_of_createdate  \\\n",
       "3                     31                    3                2020   \n",
       "7                     19                    3                2020   \n",
       "10                    11                    3                2020   \n",
       "14                    15                    4                2020   \n",
       "15                    16                    4                2020   \n",
       "...                  ...                  ...                 ...   \n",
       "49975                 10                    3                2020   \n",
       "49980                  3                    5                2020   \n",
       "49982                 11                    3                2020   \n",
       "49992                 25                    3                2020   \n",
       "49995                 21                    4                2020   \n",
       "\n",
       "       cust_payment_terms_enc  name_customer_enc  \n",
       "3                           5               2694  \n",
       "7                          21               2777  \n",
       "10                         21                 96  \n",
       "14                         21               2008  \n",
       "15                         36                729  \n",
       "...                       ...                ...  \n",
       "49975                      34               2979  \n",
       "49980                      34               2977  \n",
       "49982                      21                803  \n",
       "49992                      21               2738  \n",
       "49995                      21                541  \n",
       "\n",
       "[9681 rows x 16 columns]"
      ]
     },
     "execution_count": 134,
     "metadata": {},
     "output_type": "execute_result"
    }
   ],
   "source": [
    "nulldata"
   ]
  },
  {
   "cell_type": "markdown",
   "id": "27b88c5a",
   "metadata": {
    "id": "27b88c5a"
   },
   "source": [
    "### Now you can pass this dataset into you final model and store it into \"final_result\""
   ]
  },
  {
   "cell_type": "code",
   "execution_count": 135,
   "id": "9e0b6388",
   "metadata": {
    "id": "9e0b6388"
   },
   "outputs": [],
   "source": [
    "final_result = regressorfinal.predict(nulldata2)"
   ]
  },
  {
   "cell_type": "markdown",
   "id": "9653d3c6",
   "metadata": {
    "id": "9653d3c6"
   },
   "source": [
    "### you need to make the final_result as dataframe, with a column name \"avg_delay\"\n",
    "\n",
    "- Note - No need to change the code"
   ]
  },
  {
   "cell_type": "code",
   "execution_count": 136,
   "id": "25ef814d",
   "metadata": {
    "id": "25ef814d"
   },
   "outputs": [],
   "source": [
    "final_result = pd.Series(final_result,name='avg_delay')"
   ]
  },
  {
   "cell_type": "markdown",
   "id": "C86staIhyf2C",
   "metadata": {
    "id": "C86staIhyf2C"
   },
   "source": [
    "### Display the \"avg_delay\" column"
   ]
  },
  {
   "cell_type": "code",
   "execution_count": 137,
   "id": "4fd46406",
   "metadata": {
    "id": "4fd46406"
   },
   "outputs": [
    {
     "data": {
      "text/plain": [
       "0       1.434917e+06\n",
       "1       5.126311e+05\n",
       "2      -2.319441e+05\n",
       "3       4.599518e+05\n",
       "4      -2.844169e+05\n",
       "            ...     \n",
       "9676    1.335793e+06\n",
       "9677    1.105565e+06\n",
       "9678   -3.803206e+05\n",
       "9679    4.217559e+05\n",
       "9680    7.891305e+04\n",
       "Name: avg_delay, Length: 9681, dtype: float32"
      ]
     },
     "execution_count": 137,
     "metadata": {},
     "output_type": "execute_result"
    }
   ],
   "source": [
    "final_result"
   ]
  },
  {
   "cell_type": "markdown",
   "id": "44f71a7e",
   "metadata": {
    "id": "44f71a7e"
   },
   "source": [
    "### Now you need to merge this final_result dataframe with the BACKUP of \"nulldata\" Dataframe which we have created in earlier steps"
   ]
  },
  {
   "cell_type": "code",
   "execution_count": 138,
   "id": "e8f0969d",
   "metadata": {
    "id": "e8f0969d"
   },
   "outputs": [],
   "source": [
    "nulldata1.reset_index(drop=True,inplace=True)\n",
    "Final = nulldata1.merge(final_result , on = nulldata.index )"
   ]
  },
  {
   "cell_type": "markdown",
   "id": "G-hLtxXgy4GZ",
   "metadata": {
    "id": "G-hLtxXgy4GZ"
   },
   "source": [
    "### Display the \"Final\" dataframe "
   ]
  },
  {
   "cell_type": "code",
   "execution_count": 139,
   "id": "71fb4dc0",
   "metadata": {
    "id": "71fb4dc0"
   },
   "outputs": [
    {
     "data": {
      "text/html": [
       "<div>\n",
       "<style scoped>\n",
       "    .dataframe tbody tr th:only-of-type {\n",
       "        vertical-align: middle;\n",
       "    }\n",
       "\n",
       "    .dataframe tbody tr th {\n",
       "        vertical-align: top;\n",
       "    }\n",
       "\n",
       "    .dataframe thead th {\n",
       "        text-align: right;\n",
       "    }\n",
       "</style>\n",
       "<table border=\"1\" class=\"dataframe\">\n",
       "  <thead>\n",
       "    <tr style=\"text-align: right;\">\n",
       "      <th></th>\n",
       "      <th>key_0</th>\n",
       "      <th>business_code</th>\n",
       "      <th>cust_number</th>\n",
       "      <th>name_customer</th>\n",
       "      <th>clear_date</th>\n",
       "      <th>buisness_year</th>\n",
       "      <th>doc_id</th>\n",
       "      <th>posting_date</th>\n",
       "      <th>due_in_date</th>\n",
       "      <th>baseline_create_date</th>\n",
       "      <th>cust_payment_terms</th>\n",
       "      <th>converted_usd</th>\n",
       "      <th>avg_delay</th>\n",
       "    </tr>\n",
       "  </thead>\n",
       "  <tbody>\n",
       "    <tr>\n",
       "      <th>0</th>\n",
       "      <td>3</td>\n",
       "      <td>CA02</td>\n",
       "      <td>0140105686</td>\n",
       "      <td>SYSC llc</td>\n",
       "      <td>NaT</td>\n",
       "      <td>2020.0</td>\n",
       "      <td>2.960623e+09</td>\n",
       "      <td>2020-03-30</td>\n",
       "      <td>2020-04-10</td>\n",
       "      <td>2020-03-31</td>\n",
       "      <td>CA10</td>\n",
       "      <td>2309.79</td>\n",
       "      <td>1.434917e+06</td>\n",
       "    </tr>\n",
       "    <tr>\n",
       "      <th>1</th>\n",
       "      <td>7</td>\n",
       "      <td>U001</td>\n",
       "      <td>0200744019</td>\n",
       "      <td>TARG us</td>\n",
       "      <td>NaT</td>\n",
       "      <td>2020.0</td>\n",
       "      <td>1.930659e+09</td>\n",
       "      <td>2020-03-19</td>\n",
       "      <td>2020-04-03</td>\n",
       "      <td>2020-03-19</td>\n",
       "      <td>NAA8</td>\n",
       "      <td>11173.02</td>\n",
       "      <td>5.126311e+05</td>\n",
       "    </tr>\n",
       "    <tr>\n",
       "      <th>2</th>\n",
       "      <td>10</td>\n",
       "      <td>U001</td>\n",
       "      <td>0200418007</td>\n",
       "      <td>AM</td>\n",
       "      <td>NaT</td>\n",
       "      <td>2020.0</td>\n",
       "      <td>1.930611e+09</td>\n",
       "      <td>2020-03-11</td>\n",
       "      <td>2020-03-26</td>\n",
       "      <td>2020-03-11</td>\n",
       "      <td>NAA8</td>\n",
       "      <td>3525.59</td>\n",
       "      <td>-2.319441e+05</td>\n",
       "    </tr>\n",
       "    <tr>\n",
       "      <th>3</th>\n",
       "      <td>14</td>\n",
       "      <td>U001</td>\n",
       "      <td>0200739534</td>\n",
       "      <td>OK systems</td>\n",
       "      <td>NaT</td>\n",
       "      <td>2020.0</td>\n",
       "      <td>1.930788e+09</td>\n",
       "      <td>2020-04-15</td>\n",
       "      <td>2020-04-30</td>\n",
       "      <td>2020-04-15</td>\n",
       "      <td>NAA8</td>\n",
       "      <td>121105.65</td>\n",
       "      <td>4.599518e+05</td>\n",
       "    </tr>\n",
       "    <tr>\n",
       "      <th>4</th>\n",
       "      <td>15</td>\n",
       "      <td>U001</td>\n",
       "      <td>0200353024</td>\n",
       "      <td>DECA corporation</td>\n",
       "      <td>NaT</td>\n",
       "      <td>2020.0</td>\n",
       "      <td>1.930817e+09</td>\n",
       "      <td>2020-04-23</td>\n",
       "      <td>2020-04-26</td>\n",
       "      <td>2020-04-16</td>\n",
       "      <td>NAM2</td>\n",
       "      <td>3726.06</td>\n",
       "      <td>-2.844169e+05</td>\n",
       "    </tr>\n",
       "    <tr>\n",
       "      <th>...</th>\n",
       "      <td>...</td>\n",
       "      <td>...</td>\n",
       "      <td>...</td>\n",
       "      <td>...</td>\n",
       "      <td>...</td>\n",
       "      <td>...</td>\n",
       "      <td>...</td>\n",
       "      <td>...</td>\n",
       "      <td>...</td>\n",
       "      <td>...</td>\n",
       "      <td>...</td>\n",
       "      <td>...</td>\n",
       "      <td>...</td>\n",
       "    </tr>\n",
       "    <tr>\n",
       "      <th>9676</th>\n",
       "      <td>49975</td>\n",
       "      <td>U001</td>\n",
       "      <td>0200769623</td>\n",
       "      <td>WAL-MAR in</td>\n",
       "      <td>NaT</td>\n",
       "      <td>2020.0</td>\n",
       "      <td>1.930625e+09</td>\n",
       "      <td>2020-03-10</td>\n",
       "      <td>2020-03-25</td>\n",
       "      <td>2020-03-10</td>\n",
       "      <td>NAH4</td>\n",
       "      <td>13114.99</td>\n",
       "      <td>1.335793e+06</td>\n",
       "    </tr>\n",
       "    <tr>\n",
       "      <th>9677</th>\n",
       "      <td>49980</td>\n",
       "      <td>U001</td>\n",
       "      <td>0200769623</td>\n",
       "      <td>WAL-MAR corporation</td>\n",
       "      <td>NaT</td>\n",
       "      <td>2020.0</td>\n",
       "      <td>1.930851e+09</td>\n",
       "      <td>2020-05-03</td>\n",
       "      <td>2020-05-18</td>\n",
       "      <td>2020-05-03</td>\n",
       "      <td>NAH4</td>\n",
       "      <td>8899.71</td>\n",
       "      <td>1.105565e+06</td>\n",
       "    </tr>\n",
       "    <tr>\n",
       "      <th>9678</th>\n",
       "      <td>49982</td>\n",
       "      <td>U001</td>\n",
       "      <td>0200148860</td>\n",
       "      <td>DOLLA co</td>\n",
       "      <td>NaT</td>\n",
       "      <td>2020.0</td>\n",
       "      <td>1.930638e+09</td>\n",
       "      <td>2020-03-11</td>\n",
       "      <td>2020-03-26</td>\n",
       "      <td>2020-03-11</td>\n",
       "      <td>NAA8</td>\n",
       "      <td>4967.06</td>\n",
       "      <td>-3.803206e+05</td>\n",
       "    </tr>\n",
       "    <tr>\n",
       "      <th>9679</th>\n",
       "      <td>49992</td>\n",
       "      <td>U001</td>\n",
       "      <td>0200900909</td>\n",
       "      <td>SYSCO co</td>\n",
       "      <td>NaT</td>\n",
       "      <td>2020.0</td>\n",
       "      <td>1.930702e+09</td>\n",
       "      <td>2020-03-25</td>\n",
       "      <td>2020-04-09</td>\n",
       "      <td>2020-03-25</td>\n",
       "      <td>NAA8</td>\n",
       "      <td>1998.64</td>\n",
       "      <td>4.217559e+05</td>\n",
       "    </tr>\n",
       "    <tr>\n",
       "      <th>9680</th>\n",
       "      <td>49995</td>\n",
       "      <td>U001</td>\n",
       "      <td>0200561861</td>\n",
       "      <td>CO corporation</td>\n",
       "      <td>NaT</td>\n",
       "      <td>2020.0</td>\n",
       "      <td>1.930797e+09</td>\n",
       "      <td>2020-04-21</td>\n",
       "      <td>2020-05-06</td>\n",
       "      <td>2020-04-21</td>\n",
       "      <td>NAA8</td>\n",
       "      <td>3187.86</td>\n",
       "      <td>7.891305e+04</td>\n",
       "    </tr>\n",
       "  </tbody>\n",
       "</table>\n",
       "<p>9681 rows × 13 columns</p>\n",
       "</div>"
      ],
      "text/plain": [
       "      key_0 business_code cust_number        name_customer clear_date  \\\n",
       "0         3          CA02  0140105686             SYSC llc        NaT   \n",
       "1         7          U001  0200744019              TARG us        NaT   \n",
       "2        10          U001  0200418007                  AM         NaT   \n",
       "3        14          U001  0200739534           OK systems        NaT   \n",
       "4        15          U001  0200353024     DECA corporation        NaT   \n",
       "...     ...           ...         ...                  ...        ...   \n",
       "9676  49975          U001  0200769623           WAL-MAR in        NaT   \n",
       "9677  49980          U001  0200769623  WAL-MAR corporation        NaT   \n",
       "9678  49982          U001  0200148860             DOLLA co        NaT   \n",
       "9679  49992          U001  0200900909             SYSCO co        NaT   \n",
       "9680  49995          U001  0200561861       CO corporation        NaT   \n",
       "\n",
       "      buisness_year        doc_id posting_date due_in_date  \\\n",
       "0            2020.0  2.960623e+09   2020-03-30  2020-04-10   \n",
       "1            2020.0  1.930659e+09   2020-03-19  2020-04-03   \n",
       "2            2020.0  1.930611e+09   2020-03-11  2020-03-26   \n",
       "3            2020.0  1.930788e+09   2020-04-15  2020-04-30   \n",
       "4            2020.0  1.930817e+09   2020-04-23  2020-04-26   \n",
       "...             ...           ...          ...         ...   \n",
       "9676         2020.0  1.930625e+09   2020-03-10  2020-03-25   \n",
       "9677         2020.0  1.930851e+09   2020-05-03  2020-05-18   \n",
       "9678         2020.0  1.930638e+09   2020-03-11  2020-03-26   \n",
       "9679         2020.0  1.930702e+09   2020-03-25  2020-04-09   \n",
       "9680         2020.0  1.930797e+09   2020-04-21  2020-05-06   \n",
       "\n",
       "     baseline_create_date cust_payment_terms  converted_usd     avg_delay  \n",
       "0              2020-03-31               CA10        2309.79  1.434917e+06  \n",
       "1              2020-03-19               NAA8       11173.02  5.126311e+05  \n",
       "2              2020-03-11               NAA8        3525.59 -2.319441e+05  \n",
       "3              2020-04-15               NAA8      121105.65  4.599518e+05  \n",
       "4              2020-04-16               NAM2        3726.06 -2.844169e+05  \n",
       "...                   ...                ...            ...           ...  \n",
       "9676           2020-03-10               NAH4       13114.99  1.335793e+06  \n",
       "9677           2020-05-03               NAH4        8899.71  1.105565e+06  \n",
       "9678           2020-03-11               NAA8        4967.06 -3.803206e+05  \n",
       "9679           2020-03-25               NAA8        1998.64  4.217559e+05  \n",
       "9680           2020-04-21               NAA8        3187.86  7.891305e+04  \n",
       "\n",
       "[9681 rows x 13 columns]"
      ]
     },
     "execution_count": 139,
     "metadata": {},
     "output_type": "execute_result"
    }
   ],
   "source": [
    "Final"
   ]
  },
  {
   "cell_type": "markdown",
   "id": "4sc27Uz-y-0O",
   "metadata": {
    "id": "4sc27Uz-y-0O"
   },
   "source": [
    "### Check for the Number of Rows and Columns in your \"Final\" dataframe "
   ]
  },
  {
   "cell_type": "code",
   "execution_count": 140,
   "id": "5iUXOIhzy_HR",
   "metadata": {
    "id": "5iUXOIhzy_HR"
   },
   "outputs": [
    {
     "data": {
      "text/plain": [
       "(9681, 13)"
      ]
     },
     "execution_count": 140,
     "metadata": {},
     "output_type": "execute_result"
    }
   ],
   "source": [
    "Final.shape"
   ]
  },
  {
   "cell_type": "markdown",
   "id": "48886d2c",
   "metadata": {
    "id": "48886d2c"
   },
   "source": [
    "### Now, you need to do convert the below fields back into date and time format \n",
    "\n",
    "- Convert \"due_in_date\" into datetime format\n",
    "- Convert \"avg_delay\" into datetime format\n",
    "- Create a new column \"clear_date\" and store the sum of \"due_in_date\" and \"avg_delay\"\n",
    "- display the new \"clear_date\" column\n",
    "- Note - Code is given below, no need to change "
   ]
  },
  {
   "cell_type": "code",
   "execution_count": 141,
   "id": "243abc2d",
   "metadata": {
    "id": "243abc2d"
   },
   "outputs": [],
   "source": [
    "Final['clear_date'] = pd.to_datetime(Final['due_in_date']) + pd.to_timedelta(Final['avg_delay'], unit='s')"
   ]
  },
  {
   "cell_type": "markdown",
   "id": "9QcX_fAjIkYR",
   "metadata": {
    "id": "9QcX_fAjIkYR"
   },
   "source": [
    "### Display the \"clear_date\" column"
   ]
  },
  {
   "cell_type": "code",
   "execution_count": 142,
   "id": "740e1486",
   "metadata": {
    "id": "740e1486"
   },
   "outputs": [
    {
     "data": {
      "text/plain": [
       "0      2020-04-26 14:35:16.750000000\n",
       "1      2020-04-08 22:23:51.062500000\n",
       "2      2020-03-23 07:34:15.890625000\n",
       "3      2020-05-05 07:45:51.812500000\n",
       "4      2020-04-22 16:59:43.093750000\n",
       "                    ...             \n",
       "9676   2020-04-09 11:03:13.125000000\n",
       "9677   2020-05-30 19:06:05.125000000\n",
       "9678   2020-03-21 14:21:19.375000000\n",
       "9679   2020-04-13 21:09:15.906250000\n",
       "9680   2020-05-06 21:55:13.054687500\n",
       "Name: clear_date, Length: 9681, dtype: datetime64[ns]"
      ]
     },
     "execution_count": 142,
     "metadata": {},
     "output_type": "execute_result"
    }
   ],
   "source": [
    "Final[\"clear_date\"]"
   ]
  },
  {
   "cell_type": "markdown",
   "id": "MSkNLq6-z7rZ",
   "metadata": {
    "id": "MSkNLq6-z7rZ"
   },
   "source": [
    "### Convert the average delay into number of days format \n",
    "\n",
    "- Note - Formula = avg_delay//(24 * 3600)\n",
    "- Note - full code is given for this, no need to change "
   ]
  },
  {
   "cell_type": "code",
   "execution_count": 143,
   "id": "ce6b618a",
   "metadata": {
    "id": "ce6b618a"
   },
   "outputs": [],
   "source": [
    "Final['avg_delay'] = Final.apply(lambda row: row.avg_delay//(24 * 3600), axis = 1)"
   ]
  },
  {
   "cell_type": "markdown",
   "id": "wbBBZPjP0W7o",
   "metadata": {
    "id": "wbBBZPjP0W7o"
   },
   "source": [
    "### Display the \"avg_delay\" column "
   ]
  },
  {
   "cell_type": "code",
   "execution_count": 144,
   "id": "a494982f",
   "metadata": {
    "id": "a494982f",
    "scrolled": true
   },
   "outputs": [
    {
     "data": {
      "text/plain": [
       "0       16.0\n",
       "1        5.0\n",
       "2       -3.0\n",
       "3        5.0\n",
       "4       -4.0\n",
       "        ... \n",
       "9676    15.0\n",
       "9677    12.0\n",
       "9678    -5.0\n",
       "9679     4.0\n",
       "9680     0.0\n",
       "Name: avg_delay, Length: 9681, dtype: float64"
      ]
     },
     "execution_count": 144,
     "metadata": {},
     "output_type": "execute_result"
    }
   ],
   "source": [
    "Final['avg_delay']"
   ]
  },
  {
   "cell_type": "markdown",
   "id": "815d8811",
   "metadata": {
    "id": "815d8811"
   },
   "source": [
    "### Now you need to convert average delay column into bucket\n",
    "\n",
    "- Need to perform binning \n",
    "- create a list of bins i.e. bins= [0,15,30,45,60,100]\n",
    "- create a list of labels i.e. labels = ['0-15','16-30','31-45','46-60','Greatar than 60']\n",
    "- perform binning by using cut() function from \"Final\" dataframe\n",
    "\n",
    "\n",
    "- Please fill up the first two rows of the code"
   ]
  },
  {
   "cell_type": "code",
   "execution_count": 145,
   "id": "c797e4b5",
   "metadata": {
    "id": "c797e4b5"
   },
   "outputs": [],
   "source": [
    "\n",
    "bins= [0,15,30,45,60,100]\n",
    "labels =['0-15','16-30','31-45','46-60','Greatar than 60']\n",
    "Final['Aging Bucket'] = pd.cut(Final['avg_delay'], bins=bins, labels=labels, right=False)"
   ]
  },
  {
   "cell_type": "markdown",
   "id": "1c35725f",
   "metadata": {
    "id": "1c35725f"
   },
   "source": [
    "### Now you need to drop \"key_0\" and \"avg_delay\" columns from the \"Final\" Dataframe"
   ]
  },
  {
   "cell_type": "code",
   "execution_count": 146,
   "id": "b31bc6a3",
   "metadata": {
    "id": "b31bc6a3"
   },
   "outputs": [],
   "source": [
    "Final.drop(['key_0','avg_delay'],axis=1,inplace=True)"
   ]
  },
  {
   "cell_type": "markdown",
   "id": "Ui-tyIvU0-5u",
   "metadata": {
    "id": "Ui-tyIvU0-5u"
   },
   "source": [
    "### Display the count of each categoty of new \"Aging Bucket\" column "
   ]
  },
  {
   "cell_type": "code",
   "execution_count": 147,
   "id": "a6e16218",
   "metadata": {
    "id": "a6e16218"
   },
   "outputs": [
    {
     "data": {
      "text/plain": [
       "0-15               5477\n",
       "16-30              2923\n",
       "31-45                80\n",
       "Greatar than 60       4\n",
       "46-60                 1\n",
       "Name: Aging Bucket, dtype: int64"
      ]
     },
     "execution_count": 147,
     "metadata": {},
     "output_type": "execute_result"
    }
   ],
   "source": [
    "Final[\"Aging Bucket\"].value_counts()\n"
   ]
  },
  {
   "cell_type": "markdown",
   "id": "kgYegy551GKJ",
   "metadata": {
    "id": "kgYegy551GKJ"
   },
   "source": [
    "### Display your final dataset with aging buckets "
   ]
  },
  {
   "cell_type": "code",
   "execution_count": 148,
   "id": "c4bc87ec",
   "metadata": {
    "id": "c4bc87ec",
    "scrolled": true
   },
   "outputs": [
    {
     "data": {
      "text/html": [
       "<div>\n",
       "<style scoped>\n",
       "    .dataframe tbody tr th:only-of-type {\n",
       "        vertical-align: middle;\n",
       "    }\n",
       "\n",
       "    .dataframe tbody tr th {\n",
       "        vertical-align: top;\n",
       "    }\n",
       "\n",
       "    .dataframe thead th {\n",
       "        text-align: right;\n",
       "    }\n",
       "</style>\n",
       "<table border=\"1\" class=\"dataframe\">\n",
       "  <thead>\n",
       "    <tr style=\"text-align: right;\">\n",
       "      <th></th>\n",
       "      <th>business_code</th>\n",
       "      <th>cust_number</th>\n",
       "      <th>name_customer</th>\n",
       "      <th>clear_date</th>\n",
       "      <th>buisness_year</th>\n",
       "      <th>doc_id</th>\n",
       "      <th>posting_date</th>\n",
       "      <th>due_in_date</th>\n",
       "      <th>baseline_create_date</th>\n",
       "      <th>cust_payment_terms</th>\n",
       "      <th>converted_usd</th>\n",
       "      <th>Aging Bucket</th>\n",
       "    </tr>\n",
       "  </thead>\n",
       "  <tbody>\n",
       "    <tr>\n",
       "      <th>0</th>\n",
       "      <td>CA02</td>\n",
       "      <td>0140105686</td>\n",
       "      <td>SYSC llc</td>\n",
       "      <td>2020-04-26 14:35:16.750000000</td>\n",
       "      <td>2020.0</td>\n",
       "      <td>2.960623e+09</td>\n",
       "      <td>2020-03-30</td>\n",
       "      <td>2020-04-10</td>\n",
       "      <td>2020-03-31</td>\n",
       "      <td>CA10</td>\n",
       "      <td>2309.79</td>\n",
       "      <td>16-30</td>\n",
       "    </tr>\n",
       "    <tr>\n",
       "      <th>1</th>\n",
       "      <td>U001</td>\n",
       "      <td>0200744019</td>\n",
       "      <td>TARG us</td>\n",
       "      <td>2020-04-08 22:23:51.062500000</td>\n",
       "      <td>2020.0</td>\n",
       "      <td>1.930659e+09</td>\n",
       "      <td>2020-03-19</td>\n",
       "      <td>2020-04-03</td>\n",
       "      <td>2020-03-19</td>\n",
       "      <td>NAA8</td>\n",
       "      <td>11173.02</td>\n",
       "      <td>0-15</td>\n",
       "    </tr>\n",
       "    <tr>\n",
       "      <th>2</th>\n",
       "      <td>U001</td>\n",
       "      <td>0200418007</td>\n",
       "      <td>AM</td>\n",
       "      <td>2020-03-23 07:34:15.890625000</td>\n",
       "      <td>2020.0</td>\n",
       "      <td>1.930611e+09</td>\n",
       "      <td>2020-03-11</td>\n",
       "      <td>2020-03-26</td>\n",
       "      <td>2020-03-11</td>\n",
       "      <td>NAA8</td>\n",
       "      <td>3525.59</td>\n",
       "      <td>NaN</td>\n",
       "    </tr>\n",
       "    <tr>\n",
       "      <th>3</th>\n",
       "      <td>U001</td>\n",
       "      <td>0200739534</td>\n",
       "      <td>OK systems</td>\n",
       "      <td>2020-05-05 07:45:51.812500000</td>\n",
       "      <td>2020.0</td>\n",
       "      <td>1.930788e+09</td>\n",
       "      <td>2020-04-15</td>\n",
       "      <td>2020-04-30</td>\n",
       "      <td>2020-04-15</td>\n",
       "      <td>NAA8</td>\n",
       "      <td>121105.65</td>\n",
       "      <td>0-15</td>\n",
       "    </tr>\n",
       "    <tr>\n",
       "      <th>4</th>\n",
       "      <td>U001</td>\n",
       "      <td>0200353024</td>\n",
       "      <td>DECA corporation</td>\n",
       "      <td>2020-04-22 16:59:43.093750000</td>\n",
       "      <td>2020.0</td>\n",
       "      <td>1.930817e+09</td>\n",
       "      <td>2020-04-23</td>\n",
       "      <td>2020-04-26</td>\n",
       "      <td>2020-04-16</td>\n",
       "      <td>NAM2</td>\n",
       "      <td>3726.06</td>\n",
       "      <td>NaN</td>\n",
       "    </tr>\n",
       "    <tr>\n",
       "      <th>...</th>\n",
       "      <td>...</td>\n",
       "      <td>...</td>\n",
       "      <td>...</td>\n",
       "      <td>...</td>\n",
       "      <td>...</td>\n",
       "      <td>...</td>\n",
       "      <td>...</td>\n",
       "      <td>...</td>\n",
       "      <td>...</td>\n",
       "      <td>...</td>\n",
       "      <td>...</td>\n",
       "      <td>...</td>\n",
       "    </tr>\n",
       "    <tr>\n",
       "      <th>9676</th>\n",
       "      <td>U001</td>\n",
       "      <td>0200769623</td>\n",
       "      <td>WAL-MAR in</td>\n",
       "      <td>2020-04-09 11:03:13.125000000</td>\n",
       "      <td>2020.0</td>\n",
       "      <td>1.930625e+09</td>\n",
       "      <td>2020-03-10</td>\n",
       "      <td>2020-03-25</td>\n",
       "      <td>2020-03-10</td>\n",
       "      <td>NAH4</td>\n",
       "      <td>13114.99</td>\n",
       "      <td>16-30</td>\n",
       "    </tr>\n",
       "    <tr>\n",
       "      <th>9677</th>\n",
       "      <td>U001</td>\n",
       "      <td>0200769623</td>\n",
       "      <td>WAL-MAR corporation</td>\n",
       "      <td>2020-05-30 19:06:05.125000000</td>\n",
       "      <td>2020.0</td>\n",
       "      <td>1.930851e+09</td>\n",
       "      <td>2020-05-03</td>\n",
       "      <td>2020-05-18</td>\n",
       "      <td>2020-05-03</td>\n",
       "      <td>NAH4</td>\n",
       "      <td>8899.71</td>\n",
       "      <td>0-15</td>\n",
       "    </tr>\n",
       "    <tr>\n",
       "      <th>9678</th>\n",
       "      <td>U001</td>\n",
       "      <td>0200148860</td>\n",
       "      <td>DOLLA co</td>\n",
       "      <td>2020-03-21 14:21:19.375000000</td>\n",
       "      <td>2020.0</td>\n",
       "      <td>1.930638e+09</td>\n",
       "      <td>2020-03-11</td>\n",
       "      <td>2020-03-26</td>\n",
       "      <td>2020-03-11</td>\n",
       "      <td>NAA8</td>\n",
       "      <td>4967.06</td>\n",
       "      <td>NaN</td>\n",
       "    </tr>\n",
       "    <tr>\n",
       "      <th>9679</th>\n",
       "      <td>U001</td>\n",
       "      <td>0200900909</td>\n",
       "      <td>SYSCO co</td>\n",
       "      <td>2020-04-13 21:09:15.906250000</td>\n",
       "      <td>2020.0</td>\n",
       "      <td>1.930702e+09</td>\n",
       "      <td>2020-03-25</td>\n",
       "      <td>2020-04-09</td>\n",
       "      <td>2020-03-25</td>\n",
       "      <td>NAA8</td>\n",
       "      <td>1998.64</td>\n",
       "      <td>0-15</td>\n",
       "    </tr>\n",
       "    <tr>\n",
       "      <th>9680</th>\n",
       "      <td>U001</td>\n",
       "      <td>0200561861</td>\n",
       "      <td>CO corporation</td>\n",
       "      <td>2020-05-06 21:55:13.054687500</td>\n",
       "      <td>2020.0</td>\n",
       "      <td>1.930797e+09</td>\n",
       "      <td>2020-04-21</td>\n",
       "      <td>2020-05-06</td>\n",
       "      <td>2020-04-21</td>\n",
       "      <td>NAA8</td>\n",
       "      <td>3187.86</td>\n",
       "      <td>0-15</td>\n",
       "    </tr>\n",
       "  </tbody>\n",
       "</table>\n",
       "<p>9681 rows × 12 columns</p>\n",
       "</div>"
      ],
      "text/plain": [
       "     business_code cust_number        name_customer  \\\n",
       "0             CA02  0140105686             SYSC llc   \n",
       "1             U001  0200744019              TARG us   \n",
       "2             U001  0200418007                  AM    \n",
       "3             U001  0200739534           OK systems   \n",
       "4             U001  0200353024     DECA corporation   \n",
       "...            ...         ...                  ...   \n",
       "9676          U001  0200769623           WAL-MAR in   \n",
       "9677          U001  0200769623  WAL-MAR corporation   \n",
       "9678          U001  0200148860             DOLLA co   \n",
       "9679          U001  0200900909             SYSCO co   \n",
       "9680          U001  0200561861       CO corporation   \n",
       "\n",
       "                        clear_date  buisness_year        doc_id posting_date  \\\n",
       "0    2020-04-26 14:35:16.750000000         2020.0  2.960623e+09   2020-03-30   \n",
       "1    2020-04-08 22:23:51.062500000         2020.0  1.930659e+09   2020-03-19   \n",
       "2    2020-03-23 07:34:15.890625000         2020.0  1.930611e+09   2020-03-11   \n",
       "3    2020-05-05 07:45:51.812500000         2020.0  1.930788e+09   2020-04-15   \n",
       "4    2020-04-22 16:59:43.093750000         2020.0  1.930817e+09   2020-04-23   \n",
       "...                            ...            ...           ...          ...   \n",
       "9676 2020-04-09 11:03:13.125000000         2020.0  1.930625e+09   2020-03-10   \n",
       "9677 2020-05-30 19:06:05.125000000         2020.0  1.930851e+09   2020-05-03   \n",
       "9678 2020-03-21 14:21:19.375000000         2020.0  1.930638e+09   2020-03-11   \n",
       "9679 2020-04-13 21:09:15.906250000         2020.0  1.930702e+09   2020-03-25   \n",
       "9680 2020-05-06 21:55:13.054687500         2020.0  1.930797e+09   2020-04-21   \n",
       "\n",
       "     due_in_date baseline_create_date cust_payment_terms  converted_usd  \\\n",
       "0     2020-04-10           2020-03-31               CA10        2309.79   \n",
       "1     2020-04-03           2020-03-19               NAA8       11173.02   \n",
       "2     2020-03-26           2020-03-11               NAA8        3525.59   \n",
       "3     2020-04-30           2020-04-15               NAA8      121105.65   \n",
       "4     2020-04-26           2020-04-16               NAM2        3726.06   \n",
       "...          ...                  ...                ...            ...   \n",
       "9676  2020-03-25           2020-03-10               NAH4       13114.99   \n",
       "9677  2020-05-18           2020-05-03               NAH4        8899.71   \n",
       "9678  2020-03-26           2020-03-11               NAA8        4967.06   \n",
       "9679  2020-04-09           2020-03-25               NAA8        1998.64   \n",
       "9680  2020-05-06           2020-04-21               NAA8        3187.86   \n",
       "\n",
       "     Aging Bucket  \n",
       "0           16-30  \n",
       "1            0-15  \n",
       "2             NaN  \n",
       "3            0-15  \n",
       "4             NaN  \n",
       "...           ...  \n",
       "9676        16-30  \n",
       "9677         0-15  \n",
       "9678          NaN  \n",
       "9679         0-15  \n",
       "9680         0-15  \n",
       "\n",
       "[9681 rows x 12 columns]"
      ]
     },
     "execution_count": 148,
     "metadata": {},
     "output_type": "execute_result"
    }
   ],
   "source": [
    "Final"
   ]
  },
  {
   "cell_type": "markdown",
   "id": "Ji7AoDCB1L_x",
   "metadata": {
    "id": "Ji7AoDCB1L_x"
   },
   "source": [
    "### Store this dataframe into the .csv format"
   ]
  },
  {
   "cell_type": "code",
   "execution_count": 149,
   "id": "727d0b8d",
   "metadata": {
    "id": "727d0b8d"
   },
   "outputs": [],
   "source": [
    "Final.to_csv('FinalDataset.csv')"
   ]
  },
  {
   "cell_type": "code",
   "execution_count": 150,
   "id": "bbcffed7",
   "metadata": {},
   "outputs": [
    {
     "data": {
      "text/plain": [
       "['model.sav']"
      ]
     },
     "execution_count": 150,
     "metadata": {},
     "output_type": "execute_result"
    }
   ],
   "source": [
    "import joblib\n",
    "filename = 'model.sav'\n",
    "joblib.dump(final_result, filename)"
   ]
  },
  {
   "cell_type": "markdown",
   "id": "FK0fabl61SkC",
   "metadata": {
    "id": "FK0fabl61SkC"
   },
   "source": [
    "# END OF THE PROJECT"
   ]
  }
 ],
 "metadata": {
  "colab": {
   "collapsed_sections": [
    "62633a84"
   ],
   "name": "Payment date prediction.ipynb",
   "provenance": []
  },
  "kernelspec": {
   "display_name": "Python 3 (ipykernel)",
   "language": "python",
   "name": "python3"
  },
  "language_info": {
   "codemirror_mode": {
    "name": "ipython",
    "version": 3
   },
   "file_extension": ".py",
   "mimetype": "text/x-python",
   "name": "python",
   "nbconvert_exporter": "python",
   "pygments_lexer": "ipython3",
   "version": "3.9.7"
  }
 },
 "nbformat": 4,
 "nbformat_minor": 5
}
